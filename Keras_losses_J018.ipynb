{
 "cells": [
  {
   "cell_type": "markdown",
   "metadata": {
    "colab_type": "text",
    "id": "DZX8anbsht7g"
   },
   "source": [
    "#Usage of loss functions\n",
    "\n",
    "A loss function (or objective function, or optimization score function) is one of the two parameters required to compile a model:\n",
    "\n",
    "```\n",
    "model.compile(loss='mean_squared_error', optimizer='sgd')\n",
    "\n",
    "from keras import losses\n",
    "model.compile(loss=losses.mean_squared_error, optimizer='sgd')\n",
    "```\n",
    "\n",
    "You can either pass the name of an existing loss function, or pass a TensorFlow/Theano symbolic function that returns a scalar for each data-point and takes the following two arguments:\n",
    "\n",
    "1. y_true: True labels. TensorFlow/Theano tensor.\n",
    "2. y_pred: Predictions. TensorFlow/Theano tensor of the same shape as y_true.\n",
    "\n",
    "The actual optimized objective is the mean of the output array across all datapoints."
   ]
  },
  {
   "cell_type": "code",
   "execution_count": 1,
   "metadata": {
    "colab": {
     "base_uri": "https://localhost:8080/",
     "height": 224
    },
    "colab_type": "code",
    "id": "DJkG-1OvheZp",
    "outputId": "bf999c53-ac7c-4fd2-e3f3-bc4a74a14c25"
   },
   "outputs": [
    {
     "name": "stderr",
     "output_type": "stream",
     "text": [
      "Using TensorFlow backend.\n"
     ]
    },
    {
     "data": {
      "text/html": [
       "<p style=\"color: red;\">\n",
       "The default version of TensorFlow in Colab will soon switch to TensorFlow 2.x.<br>\n",
       "We recommend you <a href=\"https://www.tensorflow.org/guide/migrate\" target=\"_blank\">upgrade</a> now \n",
       "or ensure your notebook will continue to use TensorFlow 1.x via the <code>%tensorflow_version 1.x</code> magic:\n",
       "<a href=\"https://colab.research.google.com/notebooks/tensorflow_version.ipynb\" target=\"_blank\">more info</a>.</p>\n"
      ],
      "text/plain": [
       "<IPython.core.display.HTML object>"
      ]
     },
     "metadata": {
      "tags": []
     },
     "output_type": "display_data"
    },
    {
     "name": "stdout",
     "output_type": "stream",
     "text": [
      "Downloading data from https://s3.amazonaws.com/img-datasets/mnist.npz\n",
      "11493376/11490434 [==============================] - 1s 0us/step\n",
      "WARNING:tensorflow:From /usr/local/lib/python3.6/dist-packages/keras/backend/tensorflow_backend.py:66: The name tf.get_default_graph is deprecated. Please use tf.compat.v1.get_default_graph instead.\n",
      "\n",
      "WARNING:tensorflow:From /usr/local/lib/python3.6/dist-packages/keras/backend/tensorflow_backend.py:541: The name tf.placeholder is deprecated. Please use tf.compat.v1.placeholder instead.\n",
      "\n",
      "WARNING:tensorflow:From /usr/local/lib/python3.6/dist-packages/keras/backend/tensorflow_backend.py:4432: The name tf.random_uniform is deprecated. Please use tf.random.uniform instead.\n",
      "\n"
     ]
    }
   ],
   "source": [
    "import keras\n",
    "from keras import models\n",
    "from keras.layers import Dense, Dropout\n",
    "from keras.utils import to_categorical\n",
    "from keras.datasets import mnist\n",
    "from keras.utils.vis_utils import model_to_dot\n",
    "from IPython.display import SVG\n",
    "\n",
    "NUM_ROWS = 28\n",
    "NUM_COLS = 28\n",
    "NUM_CLASSES = 10\n",
    "BATCH_SIZE = 128\n",
    "EPOCHS = 10\n",
    "\n",
    "# Load data\n",
    "(X_train, y_train), (X_test, y_test) = mnist.load_data()\n",
    "\n",
    "# Reshape data\n",
    "X_train = X_train.reshape((X_train.shape[0], NUM_ROWS * NUM_COLS))\n",
    "X_train = X_train.astype('float32') / 255\n",
    "X_test = X_test.reshape((X_test.shape[0], NUM_ROWS * NUM_COLS))\n",
    "X_test = X_test.astype('float32') / 255\n",
    "\n",
    "# Categorically encode labels\n",
    "y_train = to_categorical(y_train, NUM_CLASSES)\n",
    "y_test = to_categorical(y_test, NUM_CLASSES)\n",
    "\n",
    "\n",
    "# Build neural network\n",
    "model = models.Sequential()\n",
    "model.add(Dense(512, activation='elu', input_shape=(NUM_ROWS * NUM_COLS,)))\n",
    "model.add(Dense(256, activation='elu'))\n",
    "model.add(Dense(10, activation='softmax'))\n",
    "\n"
   ]
  },
  {
   "cell_type": "markdown",
   "metadata": {
    "colab_type": "text",
    "id": "N52J4-gdiJSF"
   },
   "source": [
    "#mean_squared_error\n",
    "\n",
    "keras.losses.mean_squared_error(y_true, y_pred)"
   ]
  },
  {
   "cell_type": "code",
   "execution_count": 2,
   "metadata": {
    "colab": {
     "base_uri": "https://localhost:8080/",
     "height": 766
    },
    "colab_type": "code",
    "id": "rX0QPq4UiMSl",
    "outputId": "73b98828-4c28-46f2-c879-4ef238c1912c"
   },
   "outputs": [
    {
     "name": "stdout",
     "output_type": "stream",
     "text": [
      "WARNING:tensorflow:From /usr/local/lib/python3.6/dist-packages/keras/optimizers.py:793: The name tf.train.Optimizer is deprecated. Please use tf.compat.v1.train.Optimizer instead.\n",
      "\n",
      "WARNING:tensorflow:From /usr/local/lib/python3.6/dist-packages/keras/backend/tensorflow_backend.py:1033: The name tf.assign_add is deprecated. Please use tf.compat.v1.assign_add instead.\n",
      "\n",
      "WARNING:tensorflow:From /usr/local/lib/python3.6/dist-packages/keras/backend/tensorflow_backend.py:1020: The name tf.assign is deprecated. Please use tf.compat.v1.assign instead.\n",
      "\n",
      "WARNING:tensorflow:From /usr/local/lib/python3.6/dist-packages/keras/backend/tensorflow_backend.py:3005: The name tf.Session is deprecated. Please use tf.compat.v1.Session instead.\n",
      "\n",
      "Train on 60000 samples, validate on 10000 samples\n",
      "Epoch 1/10\n",
      "WARNING:tensorflow:From /usr/local/lib/python3.6/dist-packages/keras/backend/tensorflow_backend.py:190: The name tf.get_default_session is deprecated. Please use tf.compat.v1.get_default_session instead.\n",
      "\n",
      "WARNING:tensorflow:From /usr/local/lib/python3.6/dist-packages/keras/backend/tensorflow_backend.py:197: The name tf.ConfigProto is deprecated. Please use tf.compat.v1.ConfigProto instead.\n",
      "\n",
      "WARNING:tensorflow:From /usr/local/lib/python3.6/dist-packages/keras/backend/tensorflow_backend.py:207: The name tf.global_variables is deprecated. Please use tf.compat.v1.global_variables instead.\n",
      "\n",
      "WARNING:tensorflow:From /usr/local/lib/python3.6/dist-packages/keras/backend/tensorflow_backend.py:216: The name tf.is_variable_initialized is deprecated. Please use tf.compat.v1.is_variable_initialized instead.\n",
      "\n",
      "WARNING:tensorflow:From /usr/local/lib/python3.6/dist-packages/keras/backend/tensorflow_backend.py:223: The name tf.variables_initializer is deprecated. Please use tf.compat.v1.variables_initializer instead.\n",
      "\n",
      "60000/60000 [==============================] - 11s 187us/step - loss: 0.0162 - acc: 0.8920 - val_loss: 0.0095 - val_acc: 0.9383\n",
      "Epoch 2/10\n",
      "60000/60000 [==============================] - 2s 34us/step - loss: 0.0074 - acc: 0.9526 - val_loss: 0.0062 - val_acc: 0.9607\n",
      "Epoch 3/10\n",
      "60000/60000 [==============================] - 2s 35us/step - loss: 0.0053 - acc: 0.9663 - val_loss: 0.0065 - val_acc: 0.9579\n",
      "Epoch 4/10\n",
      "60000/60000 [==============================] - 2s 31us/step - loss: 0.0041 - acc: 0.9738 - val_loss: 0.0049 - val_acc: 0.9686\n",
      "Epoch 5/10\n",
      "60000/60000 [==============================] - 2s 32us/step - loss: 0.0035 - acc: 0.9782 - val_loss: 0.0043 - val_acc: 0.9720\n",
      "Epoch 6/10\n",
      "60000/60000 [==============================] - 2s 31us/step - loss: 0.0031 - acc: 0.9807 - val_loss: 0.0038 - val_acc: 0.9753\n",
      "Epoch 7/10\n",
      "60000/60000 [==============================] - 2s 32us/step - loss: 0.0027 - acc: 0.9825 - val_loss: 0.0036 - val_acc: 0.9774\n",
      "Epoch 8/10\n",
      "60000/60000 [==============================] - 2s 31us/step - loss: 0.0024 - acc: 0.9855 - val_loss: 0.0043 - val_acc: 0.9730\n",
      "Epoch 9/10\n",
      "60000/60000 [==============================] - 2s 31us/step - loss: 0.0022 - acc: 0.9865 - val_loss: 0.0042 - val_acc: 0.9734\n",
      "Epoch 10/10\n",
      "60000/60000 [==============================] - 2s 31us/step - loss: 0.0019 - acc: 0.9880 - val_loss: 0.0037 - val_acc: 0.9764\n",
      "Test loss: 0.003656630877808918\n",
      "Test accuracy: 0.9764\n"
     ]
    }
   ],
   "source": [
    "# Compile model using accuracy\n",
    "model.compile(optimizer='rmsprop',\n",
    "              loss='mean_squared_error',\n",
    "              metrics=['accuracy'])\n",
    "\n",
    "# Train model\n",
    "model.fit(X_train, y_train,\n",
    "          batch_size=BATCH_SIZE,\n",
    "          epochs=EPOCHS,\n",
    "          verbose=1,\n",
    "          validation_data=(X_test, y_test))\n",
    "\n",
    "score = model.evaluate(X_test, y_test, verbose=0)\n",
    "print('Test loss:', score[0])\n",
    "print('Test accuracy:', score[1])"
   ]
  },
  {
   "cell_type": "markdown",
   "metadata": {
    "colab_type": "text",
    "id": "xEnK0HIRih01"
   },
   "source": [
    "#mean_absolute_error\n",
    "\n",
    "keras.losses.mean_absolute_error(y_true, y_pred)"
   ]
  },
  {
   "cell_type": "code",
   "execution_count": 3,
   "metadata": {
    "colab": {
     "base_uri": "https://localhost:8080/",
     "height": 426
    },
    "colab_type": "code",
    "id": "aJiGk6rmikKW",
    "outputId": "83461cd9-66f8-4e79-c3b8-df2cefd6d1c8"
   },
   "outputs": [
    {
     "name": "stdout",
     "output_type": "stream",
     "text": [
      "Train on 60000 samples, validate on 10000 samples\n",
      "Epoch 1/10\n",
      "60000/60000 [==============================] - 2s 36us/step - loss: 0.0024 - acc: 0.9897 - val_loss: 0.0044 - val_acc: 0.9799\n",
      "Epoch 2/10\n",
      "60000/60000 [==============================] - 2s 32us/step - loss: 0.0021 - acc: 0.9905 - val_loss: 0.0041 - val_acc: 0.9800\n",
      "Epoch 3/10\n",
      "60000/60000 [==============================] - 2s 32us/step - loss: 0.0020 - acc: 0.9908 - val_loss: 0.0044 - val_acc: 0.9791\n",
      "Epoch 4/10\n",
      "60000/60000 [==============================] - 2s 32us/step - loss: 0.0019 - acc: 0.9913 - val_loss: 0.0050 - val_acc: 0.9759\n",
      "Epoch 5/10\n",
      "60000/60000 [==============================] - 2s 33us/step - loss: 0.0016 - acc: 0.9925 - val_loss: 0.0039 - val_acc: 0.9813\n",
      "Epoch 6/10\n",
      "60000/60000 [==============================] - 2s 31us/step - loss: 0.0015 - acc: 0.9930 - val_loss: 0.0039 - val_acc: 0.9814\n",
      "Epoch 7/10\n",
      "60000/60000 [==============================] - 2s 33us/step - loss: 0.0014 - acc: 0.9933 - val_loss: 0.0039 - val_acc: 0.9813\n",
      "Epoch 8/10\n",
      "60000/60000 [==============================] - 2s 35us/step - loss: 0.0014 - acc: 0.9936 - val_loss: 0.0044 - val_acc: 0.9786\n",
      "Epoch 9/10\n",
      "60000/60000 [==============================] - 2s 32us/step - loss: 0.0013 - acc: 0.9939 - val_loss: 0.0042 - val_acc: 0.9794\n",
      "Epoch 10/10\n",
      "60000/60000 [==============================] - 2s 34us/step - loss: 0.0012 - acc: 0.9944 - val_loss: 0.0039 - val_acc: 0.9807\n",
      "Test loss: 0.003890724527690549\n",
      "Test accuracy: 0.9807\n"
     ]
    }
   ],
   "source": [
    "# Compile model using accuracy\n",
    "model.compile(optimizer='rmsprop',\n",
    "              loss='mean_absolute_error',\n",
    "              metrics=['accuracy'])\n",
    "\n",
    "# Train model\n",
    "model.fit(X_train, y_train,\n",
    "          batch_size=BATCH_SIZE,\n",
    "          epochs=EPOCHS,\n",
    "          verbose=1,\n",
    "          validation_data=(X_test, y_test))\n",
    "\n",
    "score = model.evaluate(X_test, y_test, verbose=0)\n",
    "print('Test loss:', score[0])\n",
    "print('Test accuracy:', score[1])"
   ]
  },
  {
   "cell_type": "markdown",
   "metadata": {
    "colab_type": "text",
    "id": "4zCL32z2iohf"
   },
   "source": [
    "#mean_absolute_percentage_error\n",
    "\n",
    "keras.losses.mean_absolute_percentage_error(y_true, y_pred)"
   ]
  },
  {
   "cell_type": "code",
   "execution_count": 4,
   "metadata": {
    "colab": {
     "base_uri": "https://localhost:8080/",
     "height": 426
    },
    "colab_type": "code",
    "id": "LbVaaKZ8iruw",
    "outputId": "875d3917-d1be-4794-e2b9-7f76baf6a515"
   },
   "outputs": [
    {
     "name": "stdout",
     "output_type": "stream",
     "text": [
      "Train on 60000 samples, validate on 10000 samples\n",
      "Epoch 1/10\n",
      "60000/60000 [==============================] - 2s 37us/step - loss: 605087.3372 - acc: 0.9943 - val_loss: 1958541.7923 - val_acc: 0.9806\n",
      "Epoch 2/10\n",
      "60000/60000 [==============================] - 2s 32us/step - loss: 567352.5797 - acc: 0.9946 - val_loss: 2030879.5898 - val_acc: 0.9799\n",
      "Epoch 3/10\n",
      "60000/60000 [==============================] - 2s 32us/step - loss: 556595.4014 - acc: 0.9947 - val_loss: 1873910.8928 - val_acc: 0.9813\n",
      "Epoch 4/10\n",
      "60000/60000 [==============================] - 2s 37us/step - loss: 522464.9324 - acc: 0.9950 - val_loss: 1875054.3532 - val_acc: 0.9816\n",
      "Epoch 5/10\n",
      "60000/60000 [==============================] - 2s 34us/step - loss: 504949.4251 - acc: 0.9952 - val_loss: 1933108.9542 - val_acc: 0.9812\n",
      "Epoch 6/10\n",
      "60000/60000 [==============================] - 2s 34us/step - loss: 474475.4204 - acc: 0.9954 - val_loss: 1853565.0483 - val_acc: 0.9815\n",
      "Epoch 7/10\n",
      "60000/60000 [==============================] - 2s 35us/step - loss: 464912.5120 - acc: 0.9954 - val_loss: 1943347.5372 - val_acc: 0.9807\n",
      "Epoch 8/10\n",
      "60000/60000 [==============================] - 2s 35us/step - loss: 474914.9457 - acc: 0.9955 - val_loss: 2086031.3787 - val_acc: 0.9790\n",
      "Epoch 9/10\n",
      "60000/60000 [==============================] - 2s 31us/step - loss: 461426.6893 - acc: 0.9956 - val_loss: 1920183.6793 - val_acc: 0.9808\n",
      "Epoch 10/10\n",
      "60000/60000 [==============================] - 2s 31us/step - loss: 455496.0194 - acc: 0.9956 - val_loss: 1846561.8544 - val_acc: 0.9821\n",
      "Test loss: 1846561.8350761966\n",
      "Test accuracy: 0.9821\n"
     ]
    }
   ],
   "source": [
    "# Compile model using accuracy\n",
    "model.compile(optimizer='rmsprop',\n",
    "              loss='mean_absolute_percentage_error',\n",
    "              metrics=['accuracy'])\n",
    "\n",
    "# Train model\n",
    "model.fit(X_train, y_train,\n",
    "          batch_size=BATCH_SIZE,\n",
    "          epochs=EPOCHS,\n",
    "          verbose=1,\n",
    "          validation_data=(X_test, y_test))\n",
    "\n",
    "score = model.evaluate(X_test, y_test, verbose=0)\n",
    "print('Test loss:', score[0])\n",
    "print('Test accuracy:', score[1])"
   ]
  },
  {
   "cell_type": "markdown",
   "metadata": {
    "colab_type": "text",
    "id": "wDT2uAtfiuXH"
   },
   "source": [
    "#mean_squared_logarithmic_error\n",
    "\n",
    "keras.losses.mean_squared_logarithmic_error(y_true, y_pred)"
   ]
  },
  {
   "cell_type": "code",
   "execution_count": 5,
   "metadata": {
    "colab": {
     "base_uri": "https://localhost:8080/",
     "height": 535
    },
    "colab_type": "code",
    "id": "Tbm0lJwNixJm",
    "outputId": "69081a03-6c36-43ed-939c-a5338b95b99b"
   },
   "outputs": [
    {
     "name": "stdout",
     "output_type": "stream",
     "text": [
      "WARNING:tensorflow:From /usr/local/lib/python3.6/dist-packages/keras/backend/tensorflow_backend.py:1702: The name tf.log is deprecated. Please use tf.math.log instead.\n",
      "\n",
      "WARNING:tensorflow:From /usr/local/lib/python3.6/dist-packages/tensorflow_core/python/ops/math_grad.py:1424: where (from tensorflow.python.ops.array_ops) is deprecated and will be removed in a future version.\n",
      "Instructions for updating:\n",
      "Use tf.where in 2.0, which has the same broadcast rule as np.where\n",
      "Train on 60000 samples, validate on 10000 samples\n",
      "Epoch 1/10\n",
      "60000/60000 [==============================] - 2s 37us/step - loss: 3.9117e-04 - acc: 0.9956 - val_loss: 0.0016 - val_acc: 0.9821\n",
      "Epoch 2/10\n",
      "60000/60000 [==============================] - 2s 34us/step - loss: 4.3850e-04 - acc: 0.9951 - val_loss: 0.0016 - val_acc: 0.9827\n",
      "Epoch 3/10\n",
      "60000/60000 [==============================] - 2s 33us/step - loss: 3.7548e-04 - acc: 0.9957 - val_loss: 0.0016 - val_acc: 0.9815\n",
      "Epoch 4/10\n",
      "60000/60000 [==============================] - 2s 35us/step - loss: 3.9690e-04 - acc: 0.9955 - val_loss: 0.0016 - val_acc: 0.9821\n",
      "Epoch 5/10\n",
      "60000/60000 [==============================] - 2s 35us/step - loss: 3.8552e-04 - acc: 0.9957 - val_loss: 0.0017 - val_acc: 0.9807\n",
      "Epoch 6/10\n",
      "60000/60000 [==============================] - 2s 37us/step - loss: 4.1522e-04 - acc: 0.9953 - val_loss: 0.0018 - val_acc: 0.9800\n",
      "Epoch 7/10\n",
      "60000/60000 [==============================] - 2s 31us/step - loss: 3.7714e-04 - acc: 0.9957 - val_loss: 0.0018 - val_acc: 0.9803\n",
      "Epoch 8/10\n",
      "60000/60000 [==============================] - 2s 34us/step - loss: 3.9241e-04 - acc: 0.9956 - val_loss: 0.0017 - val_acc: 0.9810\n",
      "Epoch 9/10\n",
      "60000/60000 [==============================] - 2s 35us/step - loss: 3.6397e-04 - acc: 0.9959 - val_loss: 0.0018 - val_acc: 0.9801\n",
      "Epoch 10/10\n",
      "60000/60000 [==============================] - 2s 32us/step - loss: 3.7519e-04 - acc: 0.9958 - val_loss: 0.0017 - val_acc: 0.9813\n",
      "Test loss: 0.0016905134081390332\n",
      "Test accuracy: 0.9813\n"
     ]
    }
   ],
   "source": [
    "# Compile model using accuracy\n",
    "model.compile(optimizer='rmsprop',\n",
    "              loss='mean_squared_logarithmic_error',\n",
    "              metrics=['accuracy'])\n",
    "\n",
    "# Train model\n",
    "model.fit(X_train, y_train,\n",
    "          batch_size=BATCH_SIZE,\n",
    "          epochs=EPOCHS,\n",
    "          verbose=1,\n",
    "          validation_data=(X_test, y_test))\n",
    "\n",
    "score = model.evaluate(X_test, y_test, verbose=0)\n",
    "print('Test loss:', score[0])\n",
    "print('Test accuracy:', score[1])"
   ]
  },
  {
   "cell_type": "markdown",
   "metadata": {
    "colab_type": "text",
    "id": "jLY0Km_mi0PA"
   },
   "source": [
    "#squared_hinge\n",
    "\n",
    "keras.losses.squared_hinge(y_true, y_pred)"
   ]
  },
  {
   "cell_type": "code",
   "execution_count": 6,
   "metadata": {
    "colab": {
     "base_uri": "https://localhost:8080/",
     "height": 426
    },
    "colab_type": "code",
    "id": "hXoHk504i2e7",
    "outputId": "ed3368a6-3f2d-4d90-a7b0-f05e6886670a"
   },
   "outputs": [
    {
     "name": "stdout",
     "output_type": "stream",
     "text": [
      "Train on 60000 samples, validate on 10000 samples\n",
      "Epoch 1/10\n",
      "60000/60000 [==============================] - 2s 36us/step - loss: 0.9004 - acc: 0.9962 - val_loss: 0.9016 - val_acc: 0.9834\n",
      "Epoch 2/10\n",
      "60000/60000 [==============================] - 2s 35us/step - loss: 0.9003 - acc: 0.9964 - val_loss: 0.9017 - val_acc: 0.9822\n",
      "Epoch 3/10\n",
      "60000/60000 [==============================] - 2s 30us/step - loss: 0.9003 - acc: 0.9964 - val_loss: 0.9018 - val_acc: 0.9801\n",
      "Epoch 4/10\n",
      "60000/60000 [==============================] - 2s 33us/step - loss: 0.9003 - acc: 0.9964 - val_loss: 0.9019 - val_acc: 0.9799\n",
      "Epoch 5/10\n",
      "60000/60000 [==============================] - 2s 31us/step - loss: 0.9004 - acc: 0.9963 - val_loss: 0.9021 - val_acc: 0.9778\n",
      "Epoch 6/10\n",
      "60000/60000 [==============================] - 2s 33us/step - loss: 0.9003 - acc: 0.9962 - val_loss: 0.9019 - val_acc: 0.9794\n",
      "Epoch 7/10\n",
      "60000/60000 [==============================] - 2s 31us/step - loss: 0.9003 - acc: 0.9963 - val_loss: 0.9019 - val_acc: 0.9793\n",
      "Epoch 8/10\n",
      "60000/60000 [==============================] - 2s 32us/step - loss: 0.9003 - acc: 0.9964 - val_loss: 0.9018 - val_acc: 0.9815\n",
      "Epoch 9/10\n",
      "60000/60000 [==============================] - 2s 32us/step - loss: 0.9003 - acc: 0.9965 - val_loss: 0.9019 - val_acc: 0.9794\n",
      "Epoch 10/10\n",
      "60000/60000 [==============================] - 2s 31us/step - loss: 0.9003 - acc: 0.9967 - val_loss: 0.9018 - val_acc: 0.9812\n",
      "Test loss: 0.9017767871856689\n",
      "Test accuracy: 0.9812\n"
     ]
    }
   ],
   "source": [
    "# Compile model using accuracy\n",
    "model.compile(optimizer='rmsprop',\n",
    "              loss='squared_hinge',\n",
    "              metrics=['accuracy'])\n",
    "\n",
    "# Train model\n",
    "model.fit(X_train, y_train,\n",
    "          batch_size=BATCH_SIZE,\n",
    "          epochs=EPOCHS,\n",
    "          verbose=1,\n",
    "          validation_data=(X_test, y_test))\n",
    "\n",
    "score = model.evaluate(X_test, y_test, verbose=0)\n",
    "print('Test loss:', score[0])\n",
    "print('Test accuracy:', score[1])"
   ]
  },
  {
   "cell_type": "markdown",
   "metadata": {
    "colab_type": "text",
    "id": "7hc5-jeei5PL"
   },
   "source": [
    "#hinge\n",
    "\n",
    "keras.losses.hinge(y_true, y_pred)"
   ]
  },
  {
   "cell_type": "code",
   "execution_count": 7,
   "metadata": {
    "colab": {
     "base_uri": "https://localhost:8080/",
     "height": 426
    },
    "colab_type": "code",
    "id": "hkbwuZ5li7oL",
    "outputId": "534e61bf-a379-40c0-ec5b-e9ede75c21ec"
   },
   "outputs": [
    {
     "name": "stdout",
     "output_type": "stream",
     "text": [
      "Train on 60000 samples, validate on 10000 samples\n",
      "Epoch 1/10\n",
      "60000/60000 [==============================] - 2s 37us/step - loss: 0.9003 - acc: 0.9969 - val_loss: 0.9019 - val_acc: 0.9815\n",
      "Epoch 2/10\n",
      "60000/60000 [==============================] - 2s 32us/step - loss: 0.9003 - acc: 0.9969 - val_loss: 0.9017 - val_acc: 0.9828\n",
      "Epoch 3/10\n",
      "60000/60000 [==============================] - 2s 37us/step - loss: 0.9003 - acc: 0.9972 - val_loss: 0.9017 - val_acc: 0.9838\n",
      "Epoch 4/10\n",
      "60000/60000 [==============================] - 2s 33us/step - loss: 0.9003 - acc: 0.9968 - val_loss: 0.9016 - val_acc: 0.9841\n",
      "Epoch 5/10\n",
      "60000/60000 [==============================] - 2s 32us/step - loss: 0.9003 - acc: 0.9972 - val_loss: 0.9019 - val_acc: 0.9812\n",
      "Epoch 6/10\n",
      "60000/60000 [==============================] - 2s 32us/step - loss: 0.9003 - acc: 0.9972 - val_loss: 0.9018 - val_acc: 0.9824\n",
      "Epoch 7/10\n",
      "60000/60000 [==============================] - 2s 34us/step - loss: 0.9003 - acc: 0.9971 - val_loss: 0.9018 - val_acc: 0.9824\n",
      "Epoch 8/10\n",
      "60000/60000 [==============================] - 2s 32us/step - loss: 0.9003 - acc: 0.9971 - val_loss: 0.9018 - val_acc: 0.9817\n",
      "Epoch 9/10\n",
      "60000/60000 [==============================] - 2s 32us/step - loss: 0.9003 - acc: 0.9972 - val_loss: 0.9017 - val_acc: 0.9830\n",
      "Epoch 10/10\n",
      "60000/60000 [==============================] - 2s 32us/step - loss: 0.9003 - acc: 0.9973 - val_loss: 0.9017 - val_acc: 0.9826\n",
      "Test loss: 0.9017479263305664\n",
      "Test accuracy: 0.9826\n"
     ]
    }
   ],
   "source": [
    "# Compile model using accuracy\n",
    "model.compile(optimizer='rmsprop',\n",
    "              loss='hinge',\n",
    "              metrics=['accuracy'])\n",
    "\n",
    "# Train model\n",
    "model.fit(X_train, y_train,\n",
    "          batch_size=BATCH_SIZE,\n",
    "          epochs=EPOCHS,\n",
    "          verbose=1,\n",
    "          validation_data=(X_test, y_test))\n",
    "\n",
    "score = model.evaluate(X_test, y_test, verbose=0)\n",
    "print('Test loss:', score[0])\n",
    "print('Test accuracy:', score[1])"
   ]
  },
  {
   "cell_type": "markdown",
   "metadata": {
    "colab_type": "text",
    "id": "LRoSjzqNjCwi"
   },
   "source": [
    "#categorical_hinge\n",
    "\n",
    "keras.losses.categorical_hinge(y_true, y_pred)"
   ]
  },
  {
   "cell_type": "code",
   "execution_count": 8,
   "metadata": {
    "colab": {
     "base_uri": "https://localhost:8080/",
     "height": 426
    },
    "colab_type": "code",
    "id": "UOrswDfMjF__",
    "outputId": "32da4376-1da1-4ed5-d8cd-913581d267fb"
   },
   "outputs": [
    {
     "name": "stdout",
     "output_type": "stream",
     "text": [
      "Train on 60000 samples, validate on 10000 samples\n",
      "Epoch 1/10\n",
      "60000/60000 [==============================] - 2s 40us/step - loss: 0.0052 - acc: 0.9974 - val_loss: 0.0344 - val_acc: 0.9829\n",
      "Epoch 2/10\n",
      "60000/60000 [==============================] - 2s 34us/step - loss: 0.0054 - acc: 0.9974 - val_loss: 0.0352 - val_acc: 0.9824\n",
      "Epoch 3/10\n",
      "60000/60000 [==============================] - 2s 35us/step - loss: 0.0054 - acc: 0.9973 - val_loss: 0.0394 - val_acc: 0.9800\n",
      "Epoch 4/10\n",
      "60000/60000 [==============================] - 2s 35us/step - loss: 0.0055 - acc: 0.9972 - val_loss: 0.0365 - val_acc: 0.9820\n",
      "Epoch 5/10\n",
      "60000/60000 [==============================] - 2s 38us/step - loss: 0.0053 - acc: 0.9974 - val_loss: 0.0369 - val_acc: 0.9816\n",
      "Epoch 6/10\n",
      "60000/60000 [==============================] - 2s 35us/step - loss: 0.0056 - acc: 0.9972 - val_loss: 0.0378 - val_acc: 0.9813\n",
      "Epoch 7/10\n",
      "60000/60000 [==============================] - 2s 35us/step - loss: 0.0052 - acc: 0.9975 - val_loss: 0.0395 - val_acc: 0.9801\n",
      "Epoch 8/10\n",
      "60000/60000 [==============================] - 2s 36us/step - loss: 0.0049 - acc: 0.9976 - val_loss: 0.0357 - val_acc: 0.9818\n",
      "Epoch 9/10\n",
      "60000/60000 [==============================] - 2s 36us/step - loss: 0.0052 - acc: 0.9974 - val_loss: 0.0398 - val_acc: 0.9800\n",
      "Epoch 10/10\n",
      "60000/60000 [==============================] - 2s 35us/step - loss: 0.0053 - acc: 0.9974 - val_loss: 0.0368 - val_acc: 0.9814\n",
      "Test loss: 0.03678061054176576\n",
      "Test accuracy: 0.9814\n"
     ]
    }
   ],
   "source": [
    "# Compile model using accuracy\n",
    "model.compile(optimizer='rmsprop',\n",
    "              loss='categorical_hinge',\n",
    "              metrics=['accuracy'])\n",
    "\n",
    "# Train model\n",
    "model.fit(X_train, y_train,\n",
    "          batch_size=BATCH_SIZE,\n",
    "          epochs=EPOCHS,\n",
    "          verbose=1,\n",
    "          validation_data=(X_test, y_test))\n",
    "\n",
    "score = model.evaluate(X_test, y_test, verbose=0)\n",
    "print('Test loss:', score[0])\n",
    "print('Test accuracy:', score[1])"
   ]
  },
  {
   "cell_type": "markdown",
   "metadata": {
    "colab_type": "text",
    "id": "VF0cEwoxjIXn"
   },
   "source": [
    "#logcosh\n",
    "\n",
    "keras.losses.logcosh(y_true, y_pred)\n",
    "\n",
    "Logarithm of the hyperbolic cosine of the prediction error.\n",
    "\n",
    "log(cosh(x)) is approximately equal to (x ** 2) / 2 for small x and to abs(x) - log(2) for large x. This means that 'logcosh' works mostly like the mean squared error, but will not be so strongly affected by the occasional wildly incorrect prediction.\n",
    "\n",
    "##Arguments\n",
    "\n",
    "1. y_true: tensor of true targets.\n",
    "2. y_pred: tensor of predicted targets.\n",
    "\n",
    "##Returns\n",
    "\n",
    "1. Tensor with one scalar loss entry per sample."
   ]
  },
  {
   "cell_type": "code",
   "execution_count": 9,
   "metadata": {
    "colab": {
     "base_uri": "https://localhost:8080/",
     "height": 426
    },
    "colab_type": "code",
    "id": "V4A7M01bjLap",
    "outputId": "c0668f44-dfaa-4529-f08d-3281a84475e6"
   },
   "outputs": [
    {
     "name": "stdout",
     "output_type": "stream",
     "text": [
      "Train on 60000 samples, validate on 10000 samples\n",
      "Epoch 1/10\n",
      "60000/60000 [==============================] - 2s 40us/step - loss: 2.3785e-04 - acc: 0.9971 - val_loss: 0.0014 - val_acc: 0.9830\n",
      "Epoch 2/10\n",
      "60000/60000 [==============================] - 2s 33us/step - loss: 2.4709e-04 - acc: 0.9970 - val_loss: 0.0016 - val_acc: 0.9808\n",
      "Epoch 3/10\n",
      "60000/60000 [==============================] - 2s 34us/step - loss: 2.3023e-04 - acc: 0.9972 - val_loss: 0.0016 - val_acc: 0.9808\n",
      "Epoch 4/10\n",
      "60000/60000 [==============================] - 2s 33us/step - loss: 2.3453e-04 - acc: 0.9971 - val_loss: 0.0016 - val_acc: 0.9810\n",
      "Epoch 5/10\n",
      "60000/60000 [==============================] - 2s 32us/step - loss: 2.3399e-04 - acc: 0.9972 - val_loss: 0.0015 - val_acc: 0.9817\n",
      "Epoch 6/10\n",
      "60000/60000 [==============================] - 2s 33us/step - loss: 2.3941e-04 - acc: 0.9971 - val_loss: 0.0016 - val_acc: 0.9805\n",
      "Epoch 7/10\n",
      "60000/60000 [==============================] - 2s 32us/step - loss: 2.4280e-04 - acc: 0.9970 - val_loss: 0.0015 - val_acc: 0.9822\n",
      "Epoch 8/10\n",
      "60000/60000 [==============================] - 2s 34us/step - loss: 2.5686e-04 - acc: 0.9970 - val_loss: 0.0014 - val_acc: 0.9832\n",
      "Epoch 9/10\n",
      "60000/60000 [==============================] - 2s 34us/step - loss: 2.5114e-04 - acc: 0.9970 - val_loss: 0.0015 - val_acc: 0.9823\n",
      "Epoch 10/10\n",
      "60000/60000 [==============================] - 2s 33us/step - loss: 2.2923e-04 - acc: 0.9973 - val_loss: 0.0016 - val_acc: 0.9809\n",
      "Test loss: 0.0016003217829402142\n",
      "Test accuracy: 0.9809\n"
     ]
    }
   ],
   "source": [
    "# Compile model using accuracy\n",
    "model.compile(optimizer='rmsprop',\n",
    "              loss='logcosh',\n",
    "              metrics=['accuracy'])\n",
    "\n",
    "# Train model\n",
    "model.fit(X_train, y_train,\n",
    "          batch_size=BATCH_SIZE,\n",
    "          epochs=EPOCHS,\n",
    "          verbose=1,\n",
    "          validation_data=(X_test, y_test))\n",
    "\n",
    "score = model.evaluate(X_test, y_test, verbose=0)\n",
    "print('Test loss:', score[0])\n",
    "print('Test accuracy:', score[1])"
   ]
  },
  {
   "cell_type": "markdown",
   "metadata": {
    "colab_type": "text",
    "id": "KZ0bv-eXjbXu"
   },
   "source": [
    "#categorical_crossentropy\n",
    "\n",
    "keras.losses.categorical_crossentropy(y_true, y_pred, from_logits=False, label_smoothing=0)"
   ]
  },
  {
   "cell_type": "code",
   "execution_count": 10,
   "metadata": {
    "colab": {
     "base_uri": "https://localhost:8080/",
     "height": 426
    },
    "colab_type": "code",
    "id": "b-XrpX7Ajd_Z",
    "outputId": "a6d2863f-2b4e-40b7-8374-dfdcdcb58a36"
   },
   "outputs": [
    {
     "name": "stdout",
     "output_type": "stream",
     "text": [
      "Train on 60000 samples, validate on 10000 samples\n",
      "Epoch 1/10\n",
      "60000/60000 [==============================] - 3s 47us/step - loss: 0.0352 - acc: 0.9975 - val_loss: 0.2111 - val_acc: 0.9814\n",
      "Epoch 2/10\n",
      "60000/60000 [==============================] - 2s 36us/step - loss: 0.0343 - acc: 0.9974 - val_loss: 0.2295 - val_acc: 0.9803\n",
      "Epoch 3/10\n",
      "60000/60000 [==============================] - 2s 36us/step - loss: 0.0341 - acc: 0.9975 - val_loss: 0.1949 - val_acc: 0.9838\n",
      "Epoch 4/10\n",
      "60000/60000 [==============================] - 2s 37us/step - loss: 0.0347 - acc: 0.9974 - val_loss: 0.1933 - val_acc: 0.9831\n",
      "Epoch 5/10\n",
      "60000/60000 [==============================] - 2s 36us/step - loss: 0.0329 - acc: 0.9978 - val_loss: 0.2038 - val_acc: 0.9821\n",
      "Epoch 6/10\n",
      "60000/60000 [==============================] - 2s 35us/step - loss: 0.0333 - acc: 0.9976 - val_loss: 0.1969 - val_acc: 0.9826\n",
      "Epoch 7/10\n",
      "60000/60000 [==============================] - 2s 37us/step - loss: 0.0338 - acc: 0.9976 - val_loss: 0.2125 - val_acc: 0.9822\n",
      "Epoch 8/10\n",
      "60000/60000 [==============================] - 2s 37us/step - loss: 0.0324 - acc: 0.9978 - val_loss: 0.2209 - val_acc: 0.9816\n",
      "Epoch 9/10\n",
      "60000/60000 [==============================] - 2s 37us/step - loss: 0.0330 - acc: 0.9976 - val_loss: 0.2194 - val_acc: 0.9801\n",
      "Epoch 10/10\n",
      "60000/60000 [==============================] - 2s 37us/step - loss: 0.0326 - acc: 0.9978 - val_loss: 0.2062 - val_acc: 0.9830\n",
      "Test loss: 0.2062284905217385\n",
      "Test accuracy: 0.983\n"
     ]
    }
   ],
   "source": [
    "# Compile model using accuracy\n",
    "model.compile(optimizer='rmsprop',\n",
    "              loss='categorical_crossentropy',\n",
    "              metrics=['accuracy'])\n",
    "\n",
    "# Train model\n",
    "model.fit(X_train, y_train,\n",
    "          batch_size=BATCH_SIZE,\n",
    "          epochs=EPOCHS,\n",
    "          verbose=1,\n",
    "          validation_data=(X_test, y_test))\n",
    "\n",
    "score = model.evaluate(X_test, y_test, verbose=0)\n",
    "print('Test loss:', score[0])\n",
    "print('Test accuracy:', score[1])"
   ]
  },
  {
   "cell_type": "markdown",
   "metadata": {
    "colab_type": "text",
    "id": "j2hMi0U5jk4d"
   },
   "source": [
    "#binary_crossentropy\n",
    "\n",
    "keras.losses.binary_crossentropy(y_true, y_pred, from_logits=False, label_smoothing=0)"
   ]
  },
  {
   "cell_type": "code",
   "execution_count": 11,
   "metadata": {
    "colab": {
     "base_uri": "https://localhost:8080/",
     "height": 426
    },
    "colab_type": "code",
    "id": "YDLqW8otjnUZ",
    "outputId": "d77d2ef1-adc3-4b74-b5de-cd9f7512ddf2"
   },
   "outputs": [
    {
     "name": "stdout",
     "output_type": "stream",
     "text": [
      "Train on 60000 samples, validate on 10000 samples\n",
      "Epoch 1/10\n",
      "60000/60000 [==============================] - 3s 50us/step - loss: 0.0068 - acc: 0.9994 - val_loss: 0.0451 - val_acc: 0.9959\n",
      "Epoch 2/10\n",
      "60000/60000 [==============================] - 2s 36us/step - loss: 0.0067 - acc: 0.9995 - val_loss: 0.0394 - val_acc: 0.9963\n",
      "Epoch 3/10\n",
      "60000/60000 [==============================] - 2s 38us/step - loss: 0.0070 - acc: 0.9994 - val_loss: 0.0416 - val_acc: 0.9962\n",
      "Epoch 4/10\n",
      "60000/60000 [==============================] - 2s 37us/step - loss: 0.0066 - acc: 0.9995 - val_loss: 0.0484 - val_acc: 0.9958\n",
      "Epoch 5/10\n",
      "60000/60000 [==============================] - 2s 36us/step - loss: 0.0074 - acc: 0.9994 - val_loss: 0.0389 - val_acc: 0.9965\n",
      "Epoch 6/10\n",
      "60000/60000 [==============================] - 2s 37us/step - loss: 0.0064 - acc: 0.9995 - val_loss: 0.0412 - val_acc: 0.9963\n",
      "Epoch 7/10\n",
      "60000/60000 [==============================] - 2s 37us/step - loss: 0.0066 - acc: 0.9995 - val_loss: 0.0416 - val_acc: 0.9962\n",
      "Epoch 8/10\n",
      "60000/60000 [==============================] - 2s 36us/step - loss: 0.0064 - acc: 0.9995 - val_loss: 0.0368 - val_acc: 0.9966\n",
      "Epoch 9/10\n",
      "60000/60000 [==============================] - 2s 36us/step - loss: 0.0064 - acc: 0.9995 - val_loss: 0.0430 - val_acc: 0.9960\n",
      "Epoch 10/10\n",
      "60000/60000 [==============================] - 2s 37us/step - loss: 0.0064 - acc: 0.9995 - val_loss: 0.0426 - val_acc: 0.9962\n",
      "Test loss: 0.04257953028870195\n",
      "Test accuracy: 0.9962399946212769\n"
     ]
    }
   ],
   "source": [
    "# Compile model using accuracy\n",
    "model.compile(optimizer='rmsprop',\n",
    "              loss='binary_crossentropy',\n",
    "              metrics=['accuracy'])\n",
    "\n",
    "# Train model\n",
    "model.fit(X_train, y_train,\n",
    "          batch_size=BATCH_SIZE,\n",
    "          epochs=EPOCHS,\n",
    "          verbose=1,\n",
    "          validation_data=(X_test, y_test))\n",
    "\n",
    "score = model.evaluate(X_test, y_test, verbose=0)\n",
    "print('Test loss:', score[0])\n",
    "print('Test accuracy:', score[1])"
   ]
  },
  {
   "cell_type": "markdown",
   "metadata": {
    "colab_type": "text",
    "id": "stvo_lw6jqcT"
   },
   "source": [
    "#kullback_leibler_divergence\n",
    "\n",
    "keras.losses.kullback_leibler_divergence(y_true, y_pred)"
   ]
  },
  {
   "cell_type": "code",
   "execution_count": 12,
   "metadata": {
    "colab": {
     "base_uri": "https://localhost:8080/",
     "height": 426
    },
    "colab_type": "code",
    "id": "m6MTeFaHjs4D",
    "outputId": "0c1fc826-1f54-424c-90e3-7701c47128b3"
   },
   "outputs": [
    {
     "name": "stdout",
     "output_type": "stream",
     "text": [
      "Train on 60000 samples, validate on 10000 samples\n",
      "Epoch 1/10\n",
      "60000/60000 [==============================] - 2s 41us/step - loss: 0.0301 - acc: 0.9978 - val_loss: 0.2252 - val_acc: 0.9808\n",
      "Epoch 2/10\n",
      "60000/60000 [==============================] - 2s 33us/step - loss: 0.0317 - acc: 0.9977 - val_loss: 0.2072 - val_acc: 0.9822\n",
      "Epoch 3/10\n",
      "60000/60000 [==============================] - 2s 36us/step - loss: 0.0299 - acc: 0.9979 - val_loss: 0.2142 - val_acc: 0.9813\n",
      "Epoch 4/10\n",
      "60000/60000 [==============================] - 2s 36us/step - loss: 0.0293 - acc: 0.9979 - val_loss: 0.2346 - val_acc: 0.9808\n",
      "Epoch 5/10\n",
      "60000/60000 [==============================] - 2s 34us/step - loss: 0.0302 - acc: 0.9978 - val_loss: 0.2025 - val_acc: 0.9823\n",
      "Epoch 6/10\n",
      "60000/60000 [==============================] - 2s 35us/step - loss: 0.0290 - acc: 0.9979 - val_loss: 0.2064 - val_acc: 0.9824\n",
      "Epoch 7/10\n",
      "60000/60000 [==============================] - 2s 37us/step - loss: 0.0292 - acc: 0.9979 - val_loss: 0.2074 - val_acc: 0.9825\n",
      "Epoch 8/10\n",
      "60000/60000 [==============================] - 2s 36us/step - loss: 0.0281 - acc: 0.9980 - val_loss: 0.2169 - val_acc: 0.9815\n",
      "Epoch 9/10\n",
      "60000/60000 [==============================] - 2s 34us/step - loss: 0.0294 - acc: 0.9979 - val_loss: 0.2249 - val_acc: 0.9811\n",
      "Epoch 10/10\n",
      "60000/60000 [==============================] - 2s 36us/step - loss: 0.0275 - acc: 0.9981 - val_loss: 0.2048 - val_acc: 0.9829\n",
      "Test loss: 0.2047515923785902\n",
      "Test accuracy: 0.9829\n"
     ]
    }
   ],
   "source": [
    "# Compile model using accuracy\n",
    "model.compile(optimizer='rmsprop',\n",
    "              loss='kullback_leibler_divergence',\n",
    "              metrics=['accuracy'])\n",
    "\n",
    "# Train model\n",
    "model.fit(X_train, y_train,\n",
    "          batch_size=BATCH_SIZE,\n",
    "          epochs=EPOCHS,\n",
    "          verbose=1,\n",
    "          validation_data=(X_test, y_test))\n",
    "\n",
    "score = model.evaluate(X_test, y_test, verbose=0)\n",
    "print('Test loss:', score[0])\n",
    "print('Test accuracy:', score[1])"
   ]
  },
  {
   "cell_type": "markdown",
   "metadata": {
    "colab_type": "text",
    "id": "co28pTxijuyE"
   },
   "source": [
    "#poisson\n",
    "\n",
    "keras.losses.poisson(y_true, y_pred)"
   ]
  },
  {
   "cell_type": "code",
   "execution_count": 13,
   "metadata": {
    "colab": {
     "base_uri": "https://localhost:8080/",
     "height": 426
    },
    "colab_type": "code",
    "id": "J7uvZNh_jxXd",
    "outputId": "98cba4b7-4884-46b0-e140-5bc13612368b"
   },
   "outputs": [
    {
     "name": "stdout",
     "output_type": "stream",
     "text": [
      "Train on 60000 samples, validate on 10000 samples\n",
      "Epoch 1/10\n",
      "60000/60000 [==============================] - 3s 45us/step - loss: 0.1029 - acc: 0.9978 - val_loss: 0.1203 - val_acc: 0.9830\n",
      "Epoch 2/10\n",
      "60000/60000 [==============================] - 2s 36us/step - loss: 0.1027 - acc: 0.9982 - val_loss: 0.1192 - val_acc: 0.9841\n",
      "Epoch 3/10\n",
      "60000/60000 [==============================] - 2s 33us/step - loss: 0.1027 - acc: 0.9981 - val_loss: 0.1199 - val_acc: 0.9832\n",
      "Epoch 4/10\n",
      "60000/60000 [==============================] - 2s 35us/step - loss: 0.1026 - acc: 0.9983 - val_loss: 0.1211 - val_acc: 0.9838\n",
      "Epoch 5/10\n",
      "60000/60000 [==============================] - 2s 34us/step - loss: 0.1027 - acc: 0.9981 - val_loss: 0.1215 - val_acc: 0.9825\n",
      "Epoch 6/10\n",
      "60000/60000 [==============================] - 2s 34us/step - loss: 0.1026 - acc: 0.9983 - val_loss: 0.1213 - val_acc: 0.9826\n",
      "Epoch 7/10\n",
      "60000/60000 [==============================] - 2s 34us/step - loss: 0.1026 - acc: 0.9982 - val_loss: 0.1230 - val_acc: 0.9808\n",
      "Epoch 8/10\n",
      "60000/60000 [==============================] - 2s 36us/step - loss: 0.1028 - acc: 0.9980 - val_loss: 0.1212 - val_acc: 0.9831\n",
      "Epoch 9/10\n",
      "60000/60000 [==============================] - 2s 34us/step - loss: 0.1027 - acc: 0.9981 - val_loss: 0.1214 - val_acc: 0.9815\n",
      "Epoch 10/10\n",
      "60000/60000 [==============================] - 2s 35us/step - loss: 0.1025 - acc: 0.9982 - val_loss: 0.1229 - val_acc: 0.9811\n",
      "Test loss: 0.12290948976278306\n",
      "Test accuracy: 0.9811\n"
     ]
    }
   ],
   "source": [
    "# Compile model using accuracy\n",
    "model.compile(optimizer='rmsprop',\n",
    "              loss='poisson',\n",
    "              metrics=['accuracy'])\n",
    "\n",
    "# Train model\n",
    "model.fit(X_train, y_train,\n",
    "          batch_size=BATCH_SIZE,\n",
    "          epochs=EPOCHS,\n",
    "          verbose=1,\n",
    "          validation_data=(X_test, y_test))\n",
    "\n",
    "score = model.evaluate(X_test, y_test, verbose=0)\n",
    "print('Test loss:', score[0])\n",
    "print('Test accuracy:', score[1])"
   ]
  },
  {
   "cell_type": "markdown",
   "metadata": {
    "colab_type": "text",
    "id": "fzJ8kS6Mj1iS"
   },
   "source": [
    "#cosine_proximity\n",
    "\n",
    "keras.losses.cosine_proximity(y_true, y_pred, axis=-1)"
   ]
  },
  {
   "cell_type": "code",
   "execution_count": 14,
   "metadata": {
    "colab": {
     "base_uri": "https://localhost:8080/",
     "height": 426
    },
    "colab_type": "code",
    "id": "sgC8iO8Lj4Ie",
    "outputId": "4c4f70ca-1b44-453c-ae58-eab0f84a04ad"
   },
   "outputs": [
    {
     "name": "stdout",
     "output_type": "stream",
     "text": [
      "Train on 60000 samples, validate on 10000 samples\n",
      "Epoch 1/10\n",
      "60000/60000 [==============================] - 3s 48us/step - loss: -0.9980 - acc: 0.9980 - val_loss: -0.9815 - val_acc: 0.9810\n",
      "Epoch 2/10\n",
      "60000/60000 [==============================] - 2s 36us/step - loss: -0.9983 - acc: 0.9982 - val_loss: -0.9823 - val_acc: 0.9818\n",
      "Epoch 3/10\n",
      "60000/60000 [==============================] - 2s 38us/step - loss: -0.9981 - acc: 0.9981 - val_loss: -0.9835 - val_acc: 0.9831\n",
      "Epoch 4/10\n",
      "60000/60000 [==============================] - 2s 38us/step - loss: -0.9982 - acc: 0.9981 - val_loss: -0.9833 - val_acc: 0.9830\n",
      "Epoch 5/10\n",
      "60000/60000 [==============================] - 2s 38us/step - loss: -0.9981 - acc: 0.9980 - val_loss: -0.9810 - val_acc: 0.9804\n",
      "Epoch 6/10\n",
      "60000/60000 [==============================] - 2s 38us/step - loss: -0.9980 - acc: 0.9980 - val_loss: -0.9830 - val_acc: 0.9826\n",
      "Epoch 7/10\n",
      "60000/60000 [==============================] - 2s 37us/step - loss: -0.9981 - acc: 0.9980 - val_loss: -0.9829 - val_acc: 0.9827\n",
      "Epoch 8/10\n",
      "60000/60000 [==============================] - 2s 38us/step - loss: -0.9982 - acc: 0.9982 - val_loss: -0.9824 - val_acc: 0.9818\n",
      "Epoch 9/10\n",
      "60000/60000 [==============================] - 2s 38us/step - loss: -0.9981 - acc: 0.9981 - val_loss: -0.9805 - val_acc: 0.9801\n",
      "Epoch 10/10\n",
      "60000/60000 [==============================] - 2s 41us/step - loss: -0.9980 - acc: 0.9979 - val_loss: -0.9834 - val_acc: 0.9827\n",
      "Test loss: -0.9833512559890747\n",
      "Test accuracy: 0.9827\n"
     ]
    }
   ],
   "source": [
    "# Compile model using accuracy\n",
    "model.compile(optimizer='rmsprop',\n",
    "              loss='cosine_proximity',\n",
    "              metrics=['accuracy'])\n",
    "\n",
    "# Train model\n",
    "model.fit(X_train, y_train,\n",
    "          batch_size=BATCH_SIZE,\n",
    "          epochs=EPOCHS,\n",
    "          verbose=1,\n",
    "          validation_data=(X_test, y_test))\n",
    "\n",
    "score = model.evaluate(X_test, y_test, verbose=0)\n",
    "print('Test loss:', score[0])\n",
    "print('Test accuracy:', score[1])"
   ]
  },
  {
   "cell_type": "markdown",
   "metadata": {
    "colab_type": "text",
    "id": "G0X2fr_n5nWG"
   },
   "source": [
    "#Thank you for completing this notebook"
   ]
  }
 ],
 "metadata": {
  "accelerator": "GPU",
  "colab": {
   "collapsed_sections": [],
   "include_colab_link": true,
   "name": "Keras-losses-J006.ipynb",
   "provenance": []
  },
  "kernelspec": {
   "display_name": "Python 3",
   "language": "python",
   "name": "python3"
  },
  "language_info": {
   "codemirror_mode": {
    "name": "ipython",
    "version": 3
   },
   "file_extension": ".py",
   "mimetype": "text/x-python",
   "name": "python",
   "nbconvert_exporter": "python",
   "pygments_lexer": "ipython3",
   "version": "3.7.4"
  }
 },
 "nbformat": 4,
 "nbformat_minor": 1
}
