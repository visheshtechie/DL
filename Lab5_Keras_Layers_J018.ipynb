{
 "cells": [
  {
   "cell_type": "markdown",
   "metadata": {
    "colab_type": "text",
    "id": "-qGLrDE4pn8P"
   },
   "source": [
    "#Keras layers\n",
    "\n",
    "The building blocks for neural network architectures"
   ]
  },
  {
   "cell_type": "markdown",
   "metadata": {
    "colab_type": "text",
    "id": "RZHeMOJVp8Ui"
   },
   "source": [
    "#Download dataset\n",
    "\n",
    "In this Keras tutorial, we are going to use the Pima Indians onset of diabetes dataset. This is a standard machine learning dataset from the UCI Machine Learning repository. It describes patient medical record data for Pima Indians and whether they had an onset of diabetes within five years.\n",
    "\n",
    "As such, it is a binary classification problem (onset of diabetes as 1 or not as 0). All of the input variables that describe each patient are numerical. This makes it easy to use directly with neural networks that expect numerical input and output values, and ideal for our first neural network in Keras."
   ]
  },
  {
   "cell_type": "code",
   "execution_count": 0,
   "metadata": {
    "colab": {
     "base_uri": "https://localhost:8080/",
     "height": 212
    },
    "colab_type": "code",
    "id": "oycfI2SLnukE",
    "outputId": "70281414-77c3-4642-969d-018371f1207e"
   },
   "outputs": [
    {
     "name": "stdout",
     "output_type": "stream",
     "text": [
      "--2020-02-15 14:00:29--  http://upscfever.com/datasets/pima-indians-diabetes.data.csv\n",
      "Resolving upscfever.com (upscfever.com)... 104.27.176.133, 104.27.177.133, 2606:4700:3037::681b:b085, ...\n",
      "Connecting to upscfever.com (upscfever.com)|104.27.176.133|:80... connected.\n",
      "HTTP request sent, awaiting response... 200 OK\n",
      "Length: unspecified [text/csv]\n",
      "Saving to: ‘drive/app/pima-indians-diabetes.data.csv’\n",
      "\n",
      "\r",
      "          pima-indi     [<=>                 ]       0  --.-KB/s               \r",
      "pima-indians-diabet     [ <=>                ]  22.73K  --.-KB/s    in 0.004s  \n",
      "\n",
      "2020-02-15 14:00:29 (5.40 MB/s) - ‘drive/app/pima-indians-diabetes.data.csv’ saved [23278]\n",
      "\n"
     ]
    }
   ],
   "source": [
    "\n",
    "!wget  http://upscfever.com/datasets/pima-indians-diabetes.data.csv  -P drive/app\n"
   ]
  },
  {
   "cell_type": "markdown",
   "metadata": {
    "colab_type": "text",
    "id": "kGUV1OVTqDZD"
   },
   "source": [
    "#Load libraries\n",
    "\n",
    "We can now load the file as a matrix of numbers using the NumPy function loadtxt().\n",
    "\n",
    "There are eight input variables and one output variable (the last column). We will be learning a model to map rows of input variables (X) to an output variable (y), which we often summarize as y = f(X).\n",
    "\n",
    "The variables can be summarized as follows:\n",
    "\n",
    "Input Variables (X):\n",
    "\n",
    "1. Number of times pregnant\n",
    "2. Plasma glucose concentration a 2 hours in an oral glucose tolerance test\n",
    "3. Diastolic blood pressure (mm Hg)\n",
    "4. Triceps skin fold thickness (mm)\n",
    "5. 2-Hour serum insulin (mu U/ml)\n",
    "6. Body mass index (weight in kg/(height in m)^2)\n",
    "7. Diabetes pedigree function\n",
    "8. Age (years)\n",
    "\n",
    "Output Variables (y):\n",
    "\n",
    "Class variable (0 or 1)\n"
   ]
  },
  {
   "cell_type": "code",
   "execution_count": 0,
   "metadata": {
    "colab": {
     "base_uri": "https://localhost:8080/",
     "height": 82
    },
    "colab_type": "code",
    "id": "ShIacRG-pdej",
    "outputId": "565541ce-41ec-48e4-921c-647ca477162e"
   },
   "outputs": [
    {
     "name": "stderr",
     "output_type": "stream",
     "text": [
      "Using TensorFlow backend.\n"
     ]
    },
    {
     "data": {
      "text/html": [
       "<p style=\"color: red;\">\n",
       "The default version of TensorFlow in Colab will soon switch to TensorFlow 2.x.<br>\n",
       "We recommend you <a href=\"https://www.tensorflow.org/guide/migrate\" target=\"_blank\">upgrade</a> now \n",
       "or ensure your notebook will continue to use TensorFlow 1.x via the <code>%tensorflow_version 1.x</code> magic:\n",
       "<a href=\"https://colab.research.google.com/notebooks/tensorflow_version.ipynb\" target=\"_blank\">more info</a>.</p>\n"
      ],
      "text/plain": [
       "<IPython.core.display.HTML object>"
      ]
     },
     "metadata": {
      "tags": []
     },
     "output_type": "display_data"
    }
   ],
   "source": [
    "import pandas as pd\n",
    "import numpy as np\n",
    "from numpy import loadtxt\n",
    "import keras\n",
    "from keras.models import Sequential\n",
    "from keras.layers import Dense\n",
    "dataset = loadtxt('drive/app/pima-indians-diabetes.data.csv', delimiter=',')\n",
    "# split into input (X) and output (y) variables\n",
    "X = dataset[:,0:8]\n",
    "y = dataset[:,8]"
   ]
  },
  {
   "cell_type": "markdown",
   "metadata": {
    "colab_type": "text",
    "id": "1i0X9CY-qaaq"
   },
   "source": [
    "#Define keras model\n",
    "\n",
    "##Dense layer\n",
    "\n",
    "```\n",
    "keras.layers.Dense(units, activation=None, use_bias=True, kernel_initializer='glorot_uniform', bias_initializer='zeros', kernel_regularizer=None, bias_regularizer=None, activity_regularizer=None, kernel_constraint=None, bias_constraint=None)\n",
    "```\n",
    "\n",
    "Just your regular densely-connected NN layer.\n",
    "\n",
    "Dense implements the operation: output = activation(dot(input, kernel) + bias) where activation is the element-wise activation function passed as the activation argument, kernel is a weights matrix created by the layer, and bias is a bias vector created by the layer (only applicable if use_bias is True).\n",
    "\n",
    "Note: if the input to the layer has a rank greater than 2, then it is flattened prior to the initial dot product with kernel.\n",
    "\n",
    "Arguments\n",
    "\n",
    "1. units: Positive integer, dimensionality of the output space.\n",
    "2. activation: Activation function to use (see activations). If you don't specify anything, no activation is applied (ie. \"linear\" activation: a(x) = x).\n",
    "3. use_bias: Boolean, whether the layer uses a bias vector.\n",
    "4. kernel_initializer: Initializer for the kernel weights matrix (see initializers).\n",
    "5. bias_initializer: Initializer for the bias vector (see initializers).\n",
    "6. kernel_regularizer: Regularizer function applied to the kernel weights matrix (see regularizer).\n",
    "7. bias_regularizer: Regularizer function applied to the bias vector (see regularizer).\n",
    "8. activity_regularizer: Regularizer function applied to the output of the layer (its \"activation\"). (see regularizer).\n",
    "9. kernel_constraint: Constraint function applied to the kernel weights matrix (see constraints).\n",
    "10. bias_constraint: Constraint function applied to the bias vector (see constraints)."
   ]
  },
  {
   "cell_type": "code",
   "execution_count": 0,
   "metadata": {
    "colab": {
     "base_uri": "https://localhost:8080/",
     "height": 124
    },
    "colab_type": "code",
    "id": "IoFq8ywRqceh",
    "outputId": "24e0d1f4-c62e-44be-da83-2918c7691e61"
   },
   "outputs": [
    {
     "name": "stdout",
     "output_type": "stream",
     "text": [
      "WARNING:tensorflow:From /usr/local/lib/python3.6/dist-packages/keras/backend/tensorflow_backend.py:66: The name tf.get_default_graph is deprecated. Please use tf.compat.v1.get_default_graph instead.\n",
      "\n",
      "WARNING:tensorflow:From /usr/local/lib/python3.6/dist-packages/keras/backend/tensorflow_backend.py:541: The name tf.placeholder is deprecated. Please use tf.compat.v1.placeholder instead.\n",
      "\n",
      "WARNING:tensorflow:From /usr/local/lib/python3.6/dist-packages/keras/backend/tensorflow_backend.py:4432: The name tf.random_uniform is deprecated. Please use tf.random.uniform instead.\n",
      "\n"
     ]
    }
   ],
   "source": [
    "# define the keras model\n",
    "model = Sequential()\n",
    "model.add(Dense(units=12, input_dim=8, activation='relu', use_bias=True, kernel_initializer='glorot_uniform', bias_initializer='zeros', kernel_regularizer=keras.regularizers.l1_l2(l1=0.01, l2=0.01), bias_regularizer=keras.regularizers.l1_l2(l1=0.01, l2=0.01), activity_regularizer=keras.regularizers.l1_l2(l1=0.01, l2=0.01), kernel_constraint=keras.constraints.MinMaxNorm(min_value=0.0, max_value=1.0, rate=1.0, axis=0), bias_constraint=keras.constraints.MinMaxNorm(min_value=0.0, max_value=1.0, rate=1.0, axis=0)))\n",
    "model.add(Dense(units=8, activation='relu', use_bias=True, kernel_initializer='glorot_uniform', bias_initializer='zeros', kernel_regularizer=keras.regularizers.l1_l2(l1=0.01, l2=0.01), bias_regularizer=keras.regularizers.l1_l2(l1=0.01, l2=0.01), activity_regularizer=keras.regularizers.l1_l2(l1=0.01, l2=0.01), kernel_constraint=keras.constraints.MinMaxNorm(min_value=0.0, max_value=1.0, rate=1.0, axis=0), bias_constraint=keras.constraints.MinMaxNorm(min_value=0.0, max_value=1.0, rate=1.0, axis=0)))\n",
    "model.add(Dense(units=1, activation='sigmoid', kernel_initializer='glorot_uniform', bias_initializer='zeros', kernel_regularizer=keras.regularizers.l1_l2(l1=0.01, l2=0.01), bias_regularizer=keras.regularizers.l1_l2(l1=0.01, l2=0.01), activity_regularizer=keras.regularizers.l1_l2(l1=0.01, l2=0.01), kernel_constraint=keras.constraints.MinMaxNorm(min_value=0.0, max_value=1.0, rate=1.0, axis=0), bias_constraint=keras.constraints.MinMaxNorm(min_value=0.0, max_value=1.0, rate=1.0, axis=0)))"
   ]
  },
  {
   "cell_type": "markdown",
   "metadata": {
    "colab_type": "text",
    "id": "fu_8Z0x6sbE3"
   },
   "source": [
    "#Dense layers\n",
    "\n",
    "Above code:\n",
    "\n",
    "1. The model expects rows of data with 8 variables (the input_dim=8 argument)\n",
    "2. The first hidden layer has 12 nodes and uses the relu activation function.\n",
    "3. The second hidden layer has 8 nodes and uses the relu activation function.\n",
    "4. The output layer has one node and uses the sigmoid activation function."
   ]
  },
  {
   "cell_type": "markdown",
   "metadata": {
    "colab_type": "text",
    "id": "SL4gN-VMqzTk"
   },
   "source": [
    "#Model compile"
   ]
  },
  {
   "cell_type": "code",
   "execution_count": 0,
   "metadata": {
    "colab": {
     "base_uri": "https://localhost:8080/",
     "height": 141
    },
    "colab_type": "code",
    "id": "FRWDG3XMtKMA",
    "outputId": "5a64f43e-69ab-4c84-f18b-b5c392e28a80"
   },
   "outputs": [
    {
     "name": "stdout",
     "output_type": "stream",
     "text": [
      "WARNING:tensorflow:From /usr/local/lib/python3.6/dist-packages/keras/optimizers.py:793: The name tf.train.Optimizer is deprecated. Please use tf.compat.v1.train.Optimizer instead.\n",
      "\n",
      "WARNING:tensorflow:From /usr/local/lib/python3.6/dist-packages/keras/backend/tensorflow_backend.py:3657: The name tf.log is deprecated. Please use tf.math.log instead.\n",
      "\n",
      "WARNING:tensorflow:From /usr/local/lib/python3.6/dist-packages/tensorflow_core/python/ops/nn_impl.py:183: where (from tensorflow.python.ops.array_ops) is deprecated and will be removed in a future version.\n",
      "Instructions for updating:\n",
      "Use tf.where in 2.0, which has the same broadcast rule as np.where\n"
     ]
    }
   ],
   "source": [
    "# compile the keras model\n",
    "model.compile(loss='binary_crossentropy', optimizer='adam', metrics=['accuracy'])"
   ]
  },
  {
   "cell_type": "markdown",
   "metadata": {
    "colab_type": "text",
    "id": "cvCMp556tNZw"
   },
   "source": [
    "#Fit Keras Model"
   ]
  },
  {
   "cell_type": "code",
   "execution_count": 0,
   "metadata": {
    "colab": {
     "base_uri": "https://localhost:8080/",
     "height": 1000
    },
    "colab_type": "code",
    "id": "BnvfSSNktSIR",
    "outputId": "6cedeecd-a4eb-46ed-94c2-e94f2462bdd2"
   },
   "outputs": [
    {
     "name": "stdout",
     "output_type": "stream",
     "text": [
      "WARNING:tensorflow:From /usr/local/lib/python3.6/dist-packages/keras/backend/tensorflow_backend.py:1033: The name tf.assign_add is deprecated. Please use tf.compat.v1.assign_add instead.\n",
      "\n",
      "WARNING:tensorflow:From /usr/local/lib/python3.6/dist-packages/keras/backend/tensorflow_backend.py:1020: The name tf.assign is deprecated. Please use tf.compat.v1.assign instead.\n",
      "\n",
      "WARNING:tensorflow:From /usr/local/lib/python3.6/dist-packages/keras/backend/tensorflow_backend.py:3005: The name tf.Session is deprecated. Please use tf.compat.v1.Session instead.\n",
      "\n",
      "Epoch 1/150\n",
      "WARNING:tensorflow:From /usr/local/lib/python3.6/dist-packages/keras/backend/tensorflow_backend.py:190: The name tf.get_default_session is deprecated. Please use tf.compat.v1.get_default_session instead.\n",
      "\n",
      "WARNING:tensorflow:From /usr/local/lib/python3.6/dist-packages/keras/backend/tensorflow_backend.py:197: The name tf.ConfigProto is deprecated. Please use tf.compat.v1.ConfigProto instead.\n",
      "\n",
      "WARNING:tensorflow:From /usr/local/lib/python3.6/dist-packages/keras/backend/tensorflow_backend.py:207: The name tf.global_variables is deprecated. Please use tf.compat.v1.global_variables instead.\n",
      "\n",
      "WARNING:tensorflow:From /usr/local/lib/python3.6/dist-packages/keras/backend/tensorflow_backend.py:216: The name tf.is_variable_initialized is deprecated. Please use tf.compat.v1.is_variable_initialized instead.\n",
      "\n",
      "WARNING:tensorflow:From /usr/local/lib/python3.6/dist-packages/keras/backend/tensorflow_backend.py:223: The name tf.variables_initializer is deprecated. Please use tf.compat.v1.variables_initializer instead.\n",
      "\n",
      "768/768 [==============================] - 10s 13ms/step - loss: 3438.3014 - acc: 0.6289\n",
      "Epoch 2/150\n",
      "768/768 [==============================] - 0s 509us/step - loss: 1710.1953 - acc: 0.6211\n",
      "Epoch 3/150\n",
      "768/768 [==============================] - 0s 454us/step - loss: 927.4690 - acc: 0.6042\n",
      "Epoch 4/150\n",
      "768/768 [==============================] - 0s 478us/step - loss: 504.7580 - acc: 0.6094\n",
      "Epoch 5/150\n",
      "768/768 [==============================] - 0s 469us/step - loss: 274.9894 - acc: 0.6133\n",
      "Epoch 6/150\n",
      "768/768 [==============================] - 0s 436us/step - loss: 151.3810 - acc: 0.5911\n",
      "Epoch 7/150\n",
      "768/768 [==============================] - 0s 494us/step - loss: 85.0209 - acc: 0.6094\n",
      "Epoch 8/150\n",
      "768/768 [==============================] - 0s 466us/step - loss: 49.6580 - acc: 0.6276\n",
      "Epoch 9/150\n",
      "768/768 [==============================] - 0s 503us/step - loss: 31.0731 - acc: 0.6315\n",
      "Epoch 10/150\n",
      "768/768 [==============================] - 0s 458us/step - loss: 20.4837 - acc: 0.6445\n",
      "Epoch 11/150\n",
      "768/768 [==============================] - 0s 452us/step - loss: 14.3595 - acc: 0.6393\n",
      "Epoch 12/150\n",
      "768/768 [==============================] - 0s 485us/step - loss: 10.6392 - acc: 0.6380\n",
      "Epoch 13/150\n",
      "768/768 [==============================] - 0s 452us/step - loss: 8.1739 - acc: 0.6419\n",
      "Epoch 14/150\n",
      "768/768 [==============================] - 0s 491us/step - loss: 6.5298 - acc: 0.6471\n",
      "Epoch 15/150\n",
      "768/768 [==============================] - 0s 479us/step - loss: 5.3793 - acc: 0.6510\n",
      "Epoch 16/150\n",
      "768/768 [==============================] - 0s 521us/step - loss: 4.5260 - acc: 0.6523\n",
      "Epoch 17/150\n",
      "768/768 [==============================] - 0s 424us/step - loss: 3.8916 - acc: 0.6523\n",
      "Epoch 18/150\n",
      "768/768 [==============================] - 0s 512us/step - loss: 3.4108 - acc: 0.6536\n",
      "Epoch 19/150\n",
      "768/768 [==============================] - 0s 480us/step - loss: 3.0385 - acc: 0.6549\n",
      "Epoch 20/150\n",
      "768/768 [==============================] - 0s 493us/step - loss: 2.7426 - acc: 0.6510\n",
      "Epoch 21/150\n",
      "768/768 [==============================] - 0s 505us/step - loss: 2.5156 - acc: 0.6510\n",
      "Epoch 22/150\n",
      "768/768 [==============================] - 0s 488us/step - loss: 2.3336 - acc: 0.6510\n",
      "Epoch 23/150\n",
      "768/768 [==============================] - 0s 436us/step - loss: 2.1804 - acc: 0.6497\n",
      "Epoch 24/150\n",
      "768/768 [==============================] - 0s 489us/step - loss: 2.0501 - acc: 0.6510\n",
      "Epoch 25/150\n",
      "768/768 [==============================] - 0s 520us/step - loss: 1.9442 - acc: 0.6497\n",
      "Epoch 26/150\n",
      "768/768 [==============================] - 0s 481us/step - loss: 1.8502 - acc: 0.6497\n",
      "Epoch 27/150\n",
      "768/768 [==============================] - 0s 533us/step - loss: 1.7788 - acc: 0.6497\n",
      "Epoch 28/150\n",
      "768/768 [==============================] - 0s 437us/step - loss: 1.7149 - acc: 0.6510\n",
      "Epoch 29/150\n",
      "768/768 [==============================] - 0s 480us/step - loss: 1.6581 - acc: 0.6523\n",
      "Epoch 30/150\n",
      "768/768 [==============================] - 0s 538us/step - loss: 1.6095 - acc: 0.6523\n",
      "Epoch 31/150\n",
      "768/768 [==============================] - 0s 542us/step - loss: 1.5671 - acc: 0.6523\n",
      "Epoch 32/150\n",
      "768/768 [==============================] - 0s 548us/step - loss: 1.5305 - acc: 0.6523\n",
      "Epoch 33/150\n",
      "768/768 [==============================] - 0s 510us/step - loss: 1.4996 - acc: 0.6523\n",
      "Epoch 34/150\n",
      "768/768 [==============================] - 0s 525us/step - loss: 1.4685 - acc: 0.6523\n",
      "Epoch 35/150\n",
      "768/768 [==============================] - 0s 502us/step - loss: 1.4452 - acc: 0.6523\n",
      "Epoch 36/150\n",
      "768/768 [==============================] - 0s 456us/step - loss: 1.4212 - acc: 0.6510\n",
      "Epoch 37/150\n",
      "768/768 [==============================] - 0s 540us/step - loss: 1.4002 - acc: 0.6510\n",
      "Epoch 38/150\n",
      "768/768 [==============================] - 0s 526us/step - loss: 1.3791 - acc: 0.6510\n",
      "Epoch 39/150\n",
      "768/768 [==============================] - 0s 509us/step - loss: 1.3619 - acc: 0.6510\n",
      "Epoch 40/150\n",
      "768/768 [==============================] - 0s 518us/step - loss: 1.3449 - acc: 0.6510\n",
      "Epoch 41/150\n",
      "768/768 [==============================] - 0s 512us/step - loss: 1.3293 - acc: 0.6510\n",
      "Epoch 42/150\n",
      "768/768 [==============================] - 0s 519us/step - loss: 1.3149 - acc: 0.6510\n",
      "Epoch 43/150\n",
      "768/768 [==============================] - 0s 486us/step - loss: 1.3006 - acc: 0.6510\n",
      "Epoch 44/150\n",
      "768/768 [==============================] - 0s 497us/step - loss: 1.2888 - acc: 0.6510\n",
      "Epoch 45/150\n",
      "768/768 [==============================] - 0s 462us/step - loss: 1.2765 - acc: 0.6510\n",
      "Epoch 46/150\n",
      "768/768 [==============================] - 0s 458us/step - loss: 1.2649 - acc: 0.6510\n",
      "Epoch 47/150\n",
      "768/768 [==============================] - 0s 434us/step - loss: 1.2537 - acc: 0.6510\n",
      "Epoch 48/150\n",
      "768/768 [==============================] - 0s 561us/step - loss: 1.2441 - acc: 0.6510\n",
      "Epoch 49/150\n",
      "768/768 [==============================] - 0s 539us/step - loss: 1.2355 - acc: 0.6510\n",
      "Epoch 50/150\n",
      "768/768 [==============================] - 0s 496us/step - loss: 1.2265 - acc: 0.6510\n",
      "Epoch 51/150\n",
      "768/768 [==============================] - 0s 508us/step - loss: 1.2173 - acc: 0.6510\n",
      "Epoch 52/150\n",
      "768/768 [==============================] - 0s 513us/step - loss: 1.2104 - acc: 0.6510\n",
      "Epoch 53/150\n",
      "768/768 [==============================] - 0s 485us/step - loss: 1.2026 - acc: 0.6510\n",
      "Epoch 54/150\n",
      "768/768 [==============================] - 0s 502us/step - loss: 1.1951 - acc: 0.6510\n",
      "Epoch 55/150\n",
      "768/768 [==============================] - 0s 516us/step - loss: 1.1880 - acc: 0.6510\n",
      "Epoch 56/150\n",
      "768/768 [==============================] - 0s 526us/step - loss: 1.1812 - acc: 0.6510\n",
      "Epoch 57/150\n",
      "768/768 [==============================] - 0s 510us/step - loss: 1.1733 - acc: 0.6510\n",
      "Epoch 58/150\n",
      "768/768 [==============================] - 0s 507us/step - loss: 1.1685 - acc: 0.6510\n",
      "Epoch 59/150\n",
      "768/768 [==============================] - 0s 474us/step - loss: 1.1622 - acc: 0.6510\n",
      "Epoch 60/150\n",
      "768/768 [==============================] - 0s 523us/step - loss: 1.1562 - acc: 0.6510\n",
      "Epoch 61/150\n",
      "768/768 [==============================] - 0s 485us/step - loss: 1.1502 - acc: 0.6510\n",
      "Epoch 62/150\n",
      "768/768 [==============================] - 0s 453us/step - loss: 1.1439 - acc: 0.6510\n",
      "Epoch 63/150\n",
      "768/768 [==============================] - 0s 510us/step - loss: 1.1388 - acc: 0.6510\n",
      "Epoch 64/150\n",
      "768/768 [==============================] - 0s 478us/step - loss: 1.1336 - acc: 0.6510\n",
      "Epoch 65/150\n",
      "768/768 [==============================] - 0s 469us/step - loss: 1.1278 - acc: 0.6510\n",
      "Epoch 66/150\n",
      "768/768 [==============================] - 0s 475us/step - loss: 1.1232 - acc: 0.6510\n",
      "Epoch 67/150\n",
      "768/768 [==============================] - 0s 509us/step - loss: 1.1180 - acc: 0.6510\n",
      "Epoch 68/150\n",
      "768/768 [==============================] - 0s 531us/step - loss: 1.1131 - acc: 0.6510\n",
      "Epoch 69/150\n",
      "768/768 [==============================] - 0s 512us/step - loss: 1.1083 - acc: 0.6510\n",
      "Epoch 70/150\n",
      "768/768 [==============================] - 0s 531us/step - loss: 1.1035 - acc: 0.6510\n",
      "Epoch 71/150\n",
      "768/768 [==============================] - 0s 467us/step - loss: 1.0988 - acc: 0.6510\n",
      "Epoch 72/150\n",
      "768/768 [==============================] - 0s 428us/step - loss: 1.0944 - acc: 0.6510\n",
      "Epoch 73/150\n",
      "768/768 [==============================] - 0s 483us/step - loss: 1.0898 - acc: 0.6510\n",
      "Epoch 74/150\n",
      "768/768 [==============================] - 0s 531us/step - loss: 1.0856 - acc: 0.6510\n",
      "Epoch 75/150\n",
      "768/768 [==============================] - 0s 471us/step - loss: 1.0816 - acc: 0.6510\n",
      "Epoch 76/150\n",
      "768/768 [==============================] - 0s 521us/step - loss: 1.0773 - acc: 0.6510\n",
      "Epoch 77/150\n",
      "768/768 [==============================] - 0s 534us/step - loss: 1.0733 - acc: 0.6510\n",
      "Epoch 78/150\n",
      "768/768 [==============================] - 0s 493us/step - loss: 1.0691 - acc: 0.6510\n",
      "Epoch 79/150\n",
      "768/768 [==============================] - 0s 495us/step - loss: 1.0649 - acc: 0.6510\n",
      "Epoch 80/150\n",
      "768/768 [==============================] - 0s 544us/step - loss: 1.0608 - acc: 0.6510\n",
      "Epoch 81/150\n",
      "768/768 [==============================] - 0s 567us/step - loss: 1.0567 - acc: 0.6510\n",
      "Epoch 82/150\n",
      "768/768 [==============================] - 0s 501us/step - loss: 1.0527 - acc: 0.6510\n",
      "Epoch 83/150\n",
      "768/768 [==============================] - 0s 473us/step - loss: 1.0490 - acc: 0.6510\n",
      "Epoch 84/150\n",
      "768/768 [==============================] - 0s 505us/step - loss: 1.0452 - acc: 0.6510\n",
      "Epoch 85/150\n",
      "768/768 [==============================] - 0s 487us/step - loss: 1.0415 - acc: 0.6510\n",
      "Epoch 86/150\n",
      "768/768 [==============================] - 0s 464us/step - loss: 1.0378 - acc: 0.6510\n",
      "Epoch 87/150\n",
      "768/768 [==============================] - 0s 523us/step - loss: 1.0343 - acc: 0.6510\n",
      "Epoch 88/150\n",
      "768/768 [==============================] - 0s 518us/step - loss: 1.0307 - acc: 0.6510\n",
      "Epoch 89/150\n",
      "768/768 [==============================] - 0s 499us/step - loss: 1.0270 - acc: 0.6510\n",
      "Epoch 90/150\n",
      "768/768 [==============================] - 0s 518us/step - loss: 1.0234 - acc: 0.6510\n",
      "Epoch 91/150\n",
      "768/768 [==============================] - 0s 475us/step - loss: 1.0197 - acc: 0.6510\n",
      "Epoch 92/150\n",
      "768/768 [==============================] - 0s 515us/step - loss: 1.0160 - acc: 0.6510\n",
      "Epoch 93/150\n",
      "768/768 [==============================] - 0s 513us/step - loss: 1.0124 - acc: 0.6510\n",
      "Epoch 94/150\n",
      "768/768 [==============================] - 0s 428us/step - loss: 1.0088 - acc: 0.6510\n",
      "Epoch 95/150\n",
      "768/768 [==============================] - 0s 545us/step - loss: 1.0051 - acc: 0.6510\n",
      "Epoch 96/150\n",
      "768/768 [==============================] - 1s 710us/step - loss: 1.0019 - acc: 0.6510\n",
      "Epoch 97/150\n",
      "768/768 [==============================] - 0s 564us/step - loss: 0.9982 - acc: 0.6510\n",
      "Epoch 98/150\n",
      "768/768 [==============================] - 1s 697us/step - loss: 0.9945 - acc: 0.6510\n",
      "Epoch 99/150\n",
      "768/768 [==============================] - 0s 552us/step - loss: 0.9910 - acc: 0.6510\n",
      "Epoch 100/150\n",
      "768/768 [==============================] - 0s 493us/step - loss: 0.9875 - acc: 0.6510\n",
      "Epoch 101/150\n",
      "768/768 [==============================] - 0s 495us/step - loss: 0.9839 - acc: 0.6510\n",
      "Epoch 102/150\n",
      "768/768 [==============================] - 0s 486us/step - loss: 0.9802 - acc: 0.6510\n",
      "Epoch 103/150\n",
      "768/768 [==============================] - 0s 495us/step - loss: 0.9769 - acc: 0.6510\n",
      "Epoch 104/150\n",
      "768/768 [==============================] - 0s 543us/step - loss: 0.9731 - acc: 0.6510\n",
      "Epoch 105/150\n",
      "768/768 [==============================] - 0s 467us/step - loss: 0.9696 - acc: 0.6510\n",
      "Epoch 106/150\n",
      "768/768 [==============================] - 0s 465us/step - loss: 0.9658 - acc: 0.6510\n",
      "Epoch 107/150\n",
      "768/768 [==============================] - 0s 523us/step - loss: 0.9622 - acc: 0.6510\n",
      "Epoch 108/150\n",
      "768/768 [==============================] - 0s 521us/step - loss: 0.9582 - acc: 0.6510\n",
      "Epoch 109/150\n",
      "768/768 [==============================] - 0s 431us/step - loss: 0.9557 - acc: 0.6510\n",
      "Epoch 110/150\n",
      "768/768 [==============================] - 0s 469us/step - loss: 0.9520 - acc: 0.6510\n",
      "Epoch 111/150\n",
      "768/768 [==============================] - 0s 479us/step - loss: 0.9483 - acc: 0.6510\n",
      "Epoch 112/150\n",
      "768/768 [==============================] - 0s 433us/step - loss: 0.9441 - acc: 0.6510\n",
      "Epoch 113/150\n",
      "768/768 [==============================] - 0s 469us/step - loss: 0.9401 - acc: 0.6510\n",
      "Epoch 114/150\n",
      "768/768 [==============================] - 0s 477us/step - loss: 0.9365 - acc: 0.6510\n",
      "Epoch 115/150\n",
      "768/768 [==============================] - 0s 457us/step - loss: 0.9325 - acc: 0.6510\n",
      "Epoch 116/150\n",
      "768/768 [==============================] - 0s 532us/step - loss: 0.9285 - acc: 0.6510\n",
      "Epoch 117/150\n",
      "768/768 [==============================] - 0s 515us/step - loss: 0.9247 - acc: 0.6510\n",
      "Epoch 118/150\n",
      "768/768 [==============================] - 1s 709us/step - loss: 0.9212 - acc: 0.6510\n",
      "Epoch 119/150\n",
      "768/768 [==============================] - 0s 509us/step - loss: 0.9169 - acc: 0.6510\n",
      "Epoch 120/150\n",
      "768/768 [==============================] - 0s 507us/step - loss: 0.9127 - acc: 0.6510\n",
      "Epoch 121/150\n",
      "768/768 [==============================] - 0s 551us/step - loss: 0.9088 - acc: 0.6510\n",
      "Epoch 122/150\n",
      "768/768 [==============================] - 0s 490us/step - loss: 0.9052 - acc: 0.6510\n",
      "Epoch 123/150\n",
      "768/768 [==============================] - 0s 463us/step - loss: 0.9014 - acc: 0.6510\n",
      "Epoch 124/150\n",
      "768/768 [==============================] - 0s 494us/step - loss: 0.8973 - acc: 0.6510\n",
      "Epoch 125/150\n",
      "768/768 [==============================] - 0s 461us/step - loss: 0.8938 - acc: 0.6510\n",
      "Epoch 126/150\n",
      "768/768 [==============================] - 0s 484us/step - loss: 0.8903 - acc: 0.6510\n",
      "Epoch 127/150\n",
      "768/768 [==============================] - 0s 462us/step - loss: 0.8865 - acc: 0.6510\n",
      "Epoch 128/150\n",
      "768/768 [==============================] - 0s 461us/step - loss: 0.8832 - acc: 0.6510\n",
      "Epoch 129/150\n",
      "768/768 [==============================] - 0s 477us/step - loss: 0.8794 - acc: 0.6510\n",
      "Epoch 130/150\n",
      "768/768 [==============================] - 0s 513us/step - loss: 0.8759 - acc: 0.6510\n",
      "Epoch 131/150\n",
      "768/768 [==============================] - 0s 503us/step - loss: 0.8724 - acc: 0.6510\n",
      "Epoch 132/150\n",
      "768/768 [==============================] - 0s 510us/step - loss: 0.8691 - acc: 0.6510\n",
      "Epoch 133/150\n",
      "768/768 [==============================] - 0s 495us/step - loss: 0.8661 - acc: 0.6510\n",
      "Epoch 134/150\n",
      "768/768 [==============================] - 0s 479us/step - loss: 0.8629 - acc: 0.6510\n",
      "Epoch 135/150\n",
      "768/768 [==============================] - 0s 505us/step - loss: 0.8598 - acc: 0.6510\n",
      "Epoch 136/150\n",
      "768/768 [==============================] - 0s 499us/step - loss: 0.8570 - acc: 0.6510\n",
      "Epoch 137/150\n",
      "768/768 [==============================] - 0s 481us/step - loss: 0.8541 - acc: 0.6510\n",
      "Epoch 138/150\n",
      "768/768 [==============================] - 0s 505us/step - loss: 0.8508 - acc: 0.6510\n",
      "Epoch 139/150\n",
      "768/768 [==============================] - 0s 485us/step - loss: 0.8492 - acc: 0.6510\n",
      "Epoch 140/150\n",
      "768/768 [==============================] - 0s 456us/step - loss: 0.8460 - acc: 0.6510\n",
      "Epoch 141/150\n",
      "768/768 [==============================] - 0s 535us/step - loss: 0.8424 - acc: 0.6510\n",
      "Epoch 142/150\n",
      "768/768 [==============================] - 0s 525us/step - loss: 0.8395 - acc: 0.6510\n",
      "Epoch 143/150\n",
      "768/768 [==============================] - 0s 510us/step - loss: 0.8377 - acc: 0.6510\n",
      "Epoch 144/150\n",
      "768/768 [==============================] - 0s 499us/step - loss: 0.8339 - acc: 0.6510\n",
      "Epoch 145/150\n",
      "768/768 [==============================] - 0s 456us/step - loss: 0.8301 - acc: 0.6510\n",
      "Epoch 146/150\n",
      "768/768 [==============================] - 0s 503us/step - loss: 0.8265 - acc: 0.6510\n",
      "Epoch 147/150\n",
      "768/768 [==============================] - 0s 481us/step - loss: 0.8234 - acc: 0.6510\n",
      "Epoch 148/150\n",
      "768/768 [==============================] - 0s 450us/step - loss: 0.8203 - acc: 0.6510\n",
      "Epoch 149/150\n",
      "768/768 [==============================] - 0s 475us/step - loss: 0.8178 - acc: 0.6510\n",
      "Epoch 150/150\n",
      "768/768 [==============================] - 0s 455us/step - loss: 0.8152 - acc: 0.6510\n"
     ]
    },
    {
     "data": {
      "text/plain": [
       "<keras.callbacks.History at 0x7f4f3d1c67b8>"
      ]
     },
     "execution_count": 5,
     "metadata": {
      "tags": []
     },
     "output_type": "execute_result"
    }
   ],
   "source": [
    "# fit the keras model on the dataset\n",
    "model.fit(X, y, epochs=150, batch_size=10)"
   ]
  },
  {
   "cell_type": "markdown",
   "metadata": {
    "colab_type": "text",
    "id": "OYOV62LqtUMY"
   },
   "source": [
    "#Evaluate Keras Model"
   ]
  },
  {
   "cell_type": "code",
   "execution_count": 0,
   "metadata": {
    "colab": {
     "base_uri": "https://localhost:8080/",
     "height": 52
    },
    "colab_type": "code",
    "id": "EvnxnPIgtWWh",
    "outputId": "674e03b0-94b2-46be-f73e-c94e553c6dce"
   },
   "outputs": [
    {
     "name": "stdout",
     "output_type": "stream",
     "text": [
      "768/768 [==============================] - 0s 118us/step\n",
      "Accuracy: 65.10\n"
     ]
    }
   ],
   "source": [
    "# evaluate the keras model\n",
    "_, accuracy = model.evaluate(X, y)\n",
    "print('Accuracy: %.2f' % (accuracy*100))"
   ]
  },
  {
   "cell_type": "markdown",
   "metadata": {
    "colab_type": "text",
    "id": "jXn6vvh3uhya"
   },
   "source": [
    "#Thank you for completing this notebook"
   ]
  }
 ],
 "metadata": {
  "accelerator": "GPU",
  "colab": {
   "include_colab_link": true,
   "name": "Keras-Layers-J006.ipynb",
   "provenance": []
  },
  "kernelspec": {
   "display_name": "Python 3",
   "language": "python",
   "name": "python3"
  },
  "language_info": {
   "codemirror_mode": {
    "name": "ipython",
    "version": 3
   },
   "file_extension": ".py",
   "mimetype": "text/x-python",
   "name": "python",
   "nbconvert_exporter": "python",
   "pygments_lexer": "ipython3",
   "version": "3.7.4"
  }
 },
 "nbformat": 4,
 "nbformat_minor": 1
}
