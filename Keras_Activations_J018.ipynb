{
 "cells": [
  {
   "cell_type": "markdown",
   "metadata": {
    "colab_type": "text",
    "id": "VmQKx4diH0vV"
   },
   "source": [
    "#Usage of activations\n",
    "\n",
    "Activations can either be used through an Activation layer, or through the activation argument supported by all forward layers:\n",
    "\n",
    "\n",
    "\n",
    "```\n",
    "from keras.layers import Activation, Dense\n",
    "model.add(Dense(64))\n",
    "model.add(Activation('tanh'))\n",
    "```\n",
    "\n",
    "\n",
    "\n",
    "This is equivalent to:\n",
    "\n",
    "```\n",
    "model.add(Dense(64, activation='tanh'))\n",
    "```\n",
    "\n",
    "You can also pass an element-wise TensorFlow/Theano/CNTK function as an activation:\n",
    "\n",
    "```\n",
    "from keras import backend as K\n",
    "model.add(Dense(64, activation=K.tanh))\n",
    "```"
   ]
  },
  {
   "cell_type": "markdown",
   "metadata": {
    "colab_type": "text",
    "id": "gcMWdTDBIik-"
   },
   "source": [
    "#elu\n",
    "\n",
    "keras.activations.elu(x, alpha=1.0)\n",
    "\n",
    "Exponential linear unit.\n",
    "\n",
    "##Arguments\n",
    "\n",
    "1. x: Input tensor.\n",
    "2. alpha: A scalar, slope of negative section.\n",
    "\n",
    "Returns\n",
    "\n",
    "1. The exponential linear activation: x if x > 0 and alpha * (exp(x)-1) if x < 0."
   ]
  },
  {
   "cell_type": "code",
   "execution_count": 0,
   "metadata": {
    "colab": {
     "base_uri": "https://localhost:8080/",
     "height": 1000
    },
    "colab_type": "code",
    "id": "MFwOV5GJHUoB",
    "outputId": "b2a1635a-8fb7-4d4f-ff30-34c1e5bdee8d"
   },
   "outputs": [
    {
     "name": "stderr",
     "output_type": "stream",
     "text": [
      "Using TensorFlow backend.\n"
     ]
    },
    {
     "data": {
      "text/html": [
       "<p style=\"color: red;\">\n",
       "The default version of TensorFlow in Colab will soon switch to TensorFlow 2.x.<br>\n",
       "We recommend you <a href=\"https://www.tensorflow.org/guide/migrate\" target=\"_blank\">upgrade</a> now \n",
       "or ensure your notebook will continue to use TensorFlow 1.x via the <code>%tensorflow_version 1.x</code> magic:\n",
       "<a href=\"https://colab.research.google.com/notebooks/tensorflow_version.ipynb\" target=\"_blank\">more info</a>.</p>\n"
      ],
      "text/plain": [
       "<IPython.core.display.HTML object>"
      ]
     },
     "metadata": {
      "tags": []
     },
     "output_type": "display_data"
    },
    {
     "name": "stdout",
     "output_type": "stream",
     "text": [
      "Downloading data from https://s3.amazonaws.com/img-datasets/mnist.npz\n",
      "11493376/11490434 [==============================] - 2s 0us/step\n",
      "WARNING:tensorflow:From /usr/local/lib/python3.6/dist-packages/keras/backend/tensorflow_backend.py:66: The name tf.get_default_graph is deprecated. Please use tf.compat.v1.get_default_graph instead.\n",
      "\n",
      "WARNING:tensorflow:From /usr/local/lib/python3.6/dist-packages/keras/backend/tensorflow_backend.py:541: The name tf.placeholder is deprecated. Please use tf.compat.v1.placeholder instead.\n",
      "\n",
      "WARNING:tensorflow:From /usr/local/lib/python3.6/dist-packages/keras/backend/tensorflow_backend.py:4432: The name tf.random_uniform is deprecated. Please use tf.random.uniform instead.\n",
      "\n",
      "WARNING:tensorflow:From /usr/local/lib/python3.6/dist-packages/keras/optimizers.py:793: The name tf.train.Optimizer is deprecated. Please use tf.compat.v1.train.Optimizer instead.\n",
      "\n",
      "WARNING:tensorflow:From /usr/local/lib/python3.6/dist-packages/keras/backend/tensorflow_backend.py:3576: The name tf.log is deprecated. Please use tf.math.log instead.\n",
      "\n",
      "WARNING:tensorflow:From /usr/local/lib/python3.6/dist-packages/tensorflow_core/python/ops/math_grad.py:1424: where (from tensorflow.python.ops.array_ops) is deprecated and will be removed in a future version.\n",
      "Instructions for updating:\n",
      "Use tf.where in 2.0, which has the same broadcast rule as np.where\n",
      "WARNING:tensorflow:From /usr/local/lib/python3.6/dist-packages/keras/backend/tensorflow_backend.py:1033: The name tf.assign_add is deprecated. Please use tf.compat.v1.assign_add instead.\n",
      "\n",
      "WARNING:tensorflow:From /usr/local/lib/python3.6/dist-packages/keras/backend/tensorflow_backend.py:1020: The name tf.assign is deprecated. Please use tf.compat.v1.assign instead.\n",
      "\n",
      "WARNING:tensorflow:From /usr/local/lib/python3.6/dist-packages/keras/backend/tensorflow_backend.py:3005: The name tf.Session is deprecated. Please use tf.compat.v1.Session instead.\n",
      "\n",
      "Train on 60000 samples, validate on 10000 samples\n",
      "Epoch 1/10\n",
      "WARNING:tensorflow:From /usr/local/lib/python3.6/dist-packages/keras/backend/tensorflow_backend.py:190: The name tf.get_default_session is deprecated. Please use tf.compat.v1.get_default_session instead.\n",
      "\n",
      "WARNING:tensorflow:From /usr/local/lib/python3.6/dist-packages/keras/backend/tensorflow_backend.py:197: The name tf.ConfigProto is deprecated. Please use tf.compat.v1.ConfigProto instead.\n",
      "\n",
      "WARNING:tensorflow:From /usr/local/lib/python3.6/dist-packages/keras/backend/tensorflow_backend.py:207: The name tf.global_variables is deprecated. Please use tf.compat.v1.global_variables instead.\n",
      "\n",
      "WARNING:tensorflow:From /usr/local/lib/python3.6/dist-packages/keras/backend/tensorflow_backend.py:216: The name tf.is_variable_initialized is deprecated. Please use tf.compat.v1.is_variable_initialized instead.\n",
      "\n",
      "WARNING:tensorflow:From /usr/local/lib/python3.6/dist-packages/keras/backend/tensorflow_backend.py:223: The name tf.variables_initializer is deprecated. Please use tf.compat.v1.variables_initializer instead.\n",
      "\n",
      "60000/60000 [==============================] - 11s 189us/step - loss: 0.2874 - acc: 0.9140 - val_loss: 0.1344 - val_acc: 0.9566\n",
      "Epoch 2/10\n",
      "60000/60000 [==============================] - 2s 30us/step - loss: 0.1194 - acc: 0.9627 - val_loss: 0.0997 - val_acc: 0.9690\n",
      "Epoch 3/10\n",
      "60000/60000 [==============================] - 2s 29us/step - loss: 0.0824 - acc: 0.9745 - val_loss: 0.0886 - val_acc: 0.9712\n",
      "Epoch 4/10\n",
      "60000/60000 [==============================] - 2s 32us/step - loss: 0.0634 - acc: 0.9803 - val_loss: 0.0802 - val_acc: 0.9754\n",
      "Epoch 5/10\n",
      "60000/60000 [==============================] - 2s 30us/step - loss: 0.0492 - acc: 0.9841 - val_loss: 0.0795 - val_acc: 0.9755\n",
      "Epoch 6/10\n",
      "60000/60000 [==============================] - 2s 30us/step - loss: 0.0391 - acc: 0.9872 - val_loss: 0.0836 - val_acc: 0.9757\n",
      "Epoch 7/10\n",
      "60000/60000 [==============================] - 2s 34us/step - loss: 0.0331 - acc: 0.9895 - val_loss: 0.0898 - val_acc: 0.9760\n",
      "Epoch 8/10\n",
      "60000/60000 [==============================] - 2s 30us/step - loss: 0.0283 - acc: 0.9912 - val_loss: 0.0930 - val_acc: 0.9773\n",
      "Epoch 9/10\n",
      "60000/60000 [==============================] - 2s 30us/step - loss: 0.0239 - acc: 0.9921 - val_loss: 0.0822 - val_acc: 0.9785\n",
      "Epoch 10/10\n",
      "60000/60000 [==============================] - 2s 30us/step - loss: 0.0199 - acc: 0.9935 - val_loss: 0.0941 - val_acc: 0.9797\n",
      "Test loss: 0.09407635286146342\n",
      "Test accuracy: 0.9797\n"
     ]
    }
   ],
   "source": [
    "import keras\n",
    "from keras import models\n",
    "from keras.layers import Dense, Dropout\n",
    "from keras.utils import to_categorical\n",
    "from keras.datasets import mnist\n",
    "from keras.utils.vis_utils import model_to_dot\n",
    "from IPython.display import SVG\n",
    "\n",
    "NUM_ROWS = 28\n",
    "NUM_COLS = 28\n",
    "NUM_CLASSES = 10\n",
    "BATCH_SIZE = 128\n",
    "EPOCHS = 10\n",
    "\n",
    "# Load data\n",
    "(X_train, y_train), (X_test, y_test) = mnist.load_data()\n",
    "\n",
    "# Reshape data\n",
    "X_train = X_train.reshape((X_train.shape[0], NUM_ROWS * NUM_COLS))\n",
    "X_train = X_train.astype('float32') / 255\n",
    "X_test = X_test.reshape((X_test.shape[0], NUM_ROWS * NUM_COLS))\n",
    "X_test = X_test.astype('float32') / 255\n",
    "\n",
    "# Categorically encode labels\n",
    "y_train = to_categorical(y_train, NUM_CLASSES)\n",
    "y_test = to_categorical(y_test, NUM_CLASSES)\n",
    "\n",
    "\n",
    "# Build neural network\n",
    "model = models.Sequential()\n",
    "model.add(Dense(512, activation='elu', input_shape=(NUM_ROWS * NUM_COLS,)))\n",
    "model.add(Dense(256, activation='elu'))\n",
    "model.add(Dense(10, activation='softmax'))\n",
    "\n",
    "# Compile model\n",
    "model.compile(optimizer='rmsprop',\n",
    "              loss='categorical_crossentropy',\n",
    "              metrics=['accuracy'])\n",
    "\n",
    "# Train model\n",
    "model.fit(X_train, y_train,\n",
    "          batch_size=BATCH_SIZE,\n",
    "          epochs=EPOCHS,\n",
    "          verbose=1,\n",
    "          validation_data=(X_test, y_test))\n",
    "\n",
    "score = model.evaluate(X_test, y_test, verbose=0)\n",
    "print('Test loss:', score[0])\n",
    "print('Test accuracy:', score[1])"
   ]
  },
  {
   "cell_type": "markdown",
   "metadata": {
    "colab_type": "text",
    "id": "gUN3hrzoKAmX"
   },
   "source": [
    "#softmax\n",
    "\n",
    "keras.activations.softmax(x, axis=-1)\n",
    "\n",
    "##Softmax activation function.\n",
    "\n",
    "##Arguments\n",
    "\n",
    "1. x: Input tensor.\n",
    "2. axis: Integer, axis along which the softmax normalization is applied.\n",
    "\n",
    "##Returns\n",
    "\n",
    "Tensor, output of softmax transformation.\n",
    "\n",
    "##Raises\n",
    "\n",
    "ValueError: In case dim(x) == 1."
   ]
  },
  {
   "cell_type": "code",
   "execution_count": 0,
   "metadata": {
    "colab": {
     "base_uri": "https://localhost:8080/",
     "height": 426
    },
    "colab_type": "code",
    "id": "XOQfshRuKK2k",
    "outputId": "757d7c09-61b6-461a-cb19-82f3778835e4"
   },
   "outputs": [
    {
     "name": "stdout",
     "output_type": "stream",
     "text": [
      "Train on 60000 samples, validate on 10000 samples\n",
      "Epoch 1/10\n",
      "60000/60000 [==============================] - 2s 32us/step - loss: 2.2702 - acc: 0.1963 - val_loss: 2.1991 - val_acc: 0.6186\n",
      "Epoch 2/10\n",
      "60000/60000 [==============================] - 2s 29us/step - loss: 2.0507 - acc: 0.6727 - val_loss: 1.8664 - val_acc: 0.6747\n",
      "Epoch 3/10\n",
      "60000/60000 [==============================] - 2s 28us/step - loss: 1.6587 - acc: 0.6798 - val_loss: 1.4458 - val_acc: 0.6816\n",
      "Epoch 4/10\n",
      "60000/60000 [==============================] - 2s 27us/step - loss: 1.2642 - acc: 0.6806 - val_loss: 1.0948 - val_acc: 0.6892\n",
      "Epoch 5/10\n",
      "60000/60000 [==============================] - 2s 28us/step - loss: 0.9770 - acc: 0.6859 - val_loss: 0.8744 - val_acc: 0.6866\n",
      "Epoch 6/10\n",
      "60000/60000 [==============================] - 2s 29us/step - loss: 0.8100 - acc: 0.6921 - val_loss: 0.7593 - val_acc: 0.6892\n",
      "Epoch 7/10\n",
      "60000/60000 [==============================] - 2s 28us/step - loss: 0.7271 - acc: 0.6970 - val_loss: 0.7066 - val_acc: 0.6906\n",
      "Epoch 8/10\n",
      "60000/60000 [==============================] - 2s 28us/step - loss: 0.6877 - acc: 0.7010 - val_loss: 0.6820 - val_acc: 0.7007\n",
      "Epoch 9/10\n",
      "60000/60000 [==============================] - 2s 31us/step - loss: 0.6657 - acc: 0.7102 - val_loss: 0.6678 - val_acc: 0.7167\n",
      "Epoch 10/10\n",
      "60000/60000 [==============================] - 2s 28us/step - loss: 0.6489 - acc: 0.7256 - val_loss: 0.6529 - val_acc: 0.7253\n",
      "Test loss: 0.6528703501701355\n",
      "Test accuracy: 0.7253\n"
     ]
    }
   ],
   "source": [
    "# Build neural network\n",
    "model = models.Sequential()\n",
    "model.add(Dense(512, activation='softmax', input_shape=(NUM_ROWS * NUM_COLS,)))\n",
    "model.add(Dense(256, activation='softmax'))\n",
    "model.add(Dense(10, activation='softmax'))\n",
    "\n",
    "# Compile model\n",
    "model.compile(optimizer='rmsprop',\n",
    "              loss='categorical_crossentropy',\n",
    "              metrics=['accuracy'])\n",
    "\n",
    "# Train model\n",
    "model.fit(X_train, y_train,\n",
    "          batch_size=BATCH_SIZE,\n",
    "          epochs=EPOCHS,\n",
    "          verbose=1,\n",
    "          validation_data=(X_test, y_test))\n",
    "\n",
    "score = model.evaluate(X_test, y_test, verbose=0)\n",
    "print('Test loss:', score[0])\n",
    "print('Test accuracy:', score[1])"
   ]
  },
  {
   "cell_type": "markdown",
   "metadata": {
    "colab_type": "text",
    "id": "hM19cjk8KTL7"
   },
   "source": [
    "#selu\n",
    "\n",
    "keras.activations.selu(x)\n",
    "\n",
    "Scaled Exponential Linear Unit (SELU).\n",
    "\n",
    "SELU is equal to: scale * elu(x, alpha), where alpha and scale are predefined constants. The values of alpha and scale are chosen so that the mean and variance of the inputs are preserved between two consecutive layers as long as the weights are initialized correctly (see lecun_normal initialization) and the number of inputs is \"large enough\" (see references for more information).\n",
    "\n",
    "##Arguments\n",
    "\n",
    "1. x: A tensor or variable to compute the activation function for.\n",
    "\n",
    "##Returns\n",
    "\n",
    "The scaled exponential unit activation: scale * elu(x, alpha).\n",
    "\n",
    "##Note\n",
    "\n",
    "1. To be used together with the initialization \"lecun_normal\".\n",
    "2. To be used together with the dropout variant \"AlphaDropout\"."
   ]
  },
  {
   "cell_type": "code",
   "execution_count": 0,
   "metadata": {
    "colab": {
     "base_uri": "https://localhost:8080/",
     "height": 426
    },
    "colab_type": "code",
    "id": "tqueXLpaKddp",
    "outputId": "f669c985-f80b-40f1-c3c0-e671fdc88a98"
   },
   "outputs": [
    {
     "name": "stdout",
     "output_type": "stream",
     "text": [
      "Train on 60000 samples, validate on 10000 samples\n",
      "Epoch 1/10\n",
      "60000/60000 [==============================] - 2s 34us/step - loss: 0.3384 - acc: 0.8995 - val_loss: 0.1945 - val_acc: 0.9387\n",
      "Epoch 2/10\n",
      "60000/60000 [==============================] - 2s 31us/step - loss: 0.1403 - acc: 0.9572 - val_loss: 0.1136 - val_acc: 0.9644\n",
      "Epoch 3/10\n",
      "60000/60000 [==============================] - 2s 30us/step - loss: 0.0946 - acc: 0.9702 - val_loss: 0.1197 - val_acc: 0.9636\n",
      "Epoch 4/10\n",
      "60000/60000 [==============================] - 2s 31us/step - loss: 0.0732 - acc: 0.9769 - val_loss: 0.0906 - val_acc: 0.9735\n",
      "Epoch 5/10\n",
      "60000/60000 [==============================] - 2s 30us/step - loss: 0.0605 - acc: 0.9805 - val_loss: 0.1000 - val_acc: 0.9734\n",
      "Epoch 6/10\n",
      "60000/60000 [==============================] - 2s 30us/step - loss: 0.0511 - acc: 0.9834 - val_loss: 0.0939 - val_acc: 0.9733\n",
      "Epoch 7/10\n",
      "60000/60000 [==============================] - 2s 30us/step - loss: 0.0425 - acc: 0.9860 - val_loss: 0.0867 - val_acc: 0.9775\n",
      "Epoch 8/10\n",
      "60000/60000 [==============================] - 2s 31us/step - loss: 0.0364 - acc: 0.9883 - val_loss: 0.0975 - val_acc: 0.9758\n",
      "Epoch 9/10\n",
      "60000/60000 [==============================] - 2s 30us/step - loss: 0.0306 - acc: 0.9901 - val_loss: 0.0868 - val_acc: 0.9771\n",
      "Epoch 10/10\n",
      "60000/60000 [==============================] - 2s 30us/step - loss: 0.0264 - acc: 0.9911 - val_loss: 0.0883 - val_acc: 0.9779\n",
      "Test loss: 0.08830038772346634\n",
      "Test accuracy: 0.9779\n"
     ]
    }
   ],
   "source": [
    "# Build neural network\n",
    "model = models.Sequential()\n",
    "model.add(Dense(512, activation='selu', input_shape=(NUM_ROWS * NUM_COLS,)))\n",
    "model.add(Dense(256, activation='selu'))\n",
    "model.add(Dense(10, activation='softmax'))\n",
    "\n",
    "# Compile model\n",
    "model.compile(optimizer='rmsprop',\n",
    "              loss='categorical_crossentropy',\n",
    "              metrics=['accuracy'])\n",
    "\n",
    "# Train model\n",
    "model.fit(X_train, y_train,\n",
    "          batch_size=BATCH_SIZE,\n",
    "          epochs=EPOCHS,\n",
    "          verbose=1,\n",
    "          validation_data=(X_test, y_test))\n",
    "\n",
    "score = model.evaluate(X_test, y_test, verbose=0)\n",
    "print('Test loss:', score[0])\n",
    "print('Test accuracy:', score[1])"
   ]
  },
  {
   "cell_type": "markdown",
   "metadata": {
    "colab_type": "text",
    "id": "8jh93vQKKjws"
   },
   "source": [
    "#softplus\n",
    "\n",
    "keras.activations.softplus(x)\n",
    "\n",
    "Softplus activation function.\n",
    "\n",
    "##Arguments\n",
    "\n",
    "1. x: Input tensor.\n",
    "\n",
    "##Returns\n",
    "\n",
    "1. The softplus activation: log(exp(x) + 1)."
   ]
  },
  {
   "cell_type": "code",
   "execution_count": 0,
   "metadata": {
    "colab": {
     "base_uri": "https://localhost:8080/",
     "height": 426
    },
    "colab_type": "code",
    "id": "msVEMJUtKwTC",
    "outputId": "9d30c60e-572c-424b-dce1-f9bddfe9d35b"
   },
   "outputs": [
    {
     "name": "stdout",
     "output_type": "stream",
     "text": [
      "Train on 60000 samples, validate on 10000 samples\n",
      "Epoch 1/10\n",
      "60000/60000 [==============================] - 2s 34us/step - loss: 0.4616 - acc: 0.8579 - val_loss: 0.2367 - val_acc: 0.9264\n",
      "Epoch 2/10\n",
      "60000/60000 [==============================] - 2s 30us/step - loss: 0.1726 - acc: 0.9476 - val_loss: 0.1225 - val_acc: 0.9628\n",
      "Epoch 3/10\n",
      "60000/60000 [==============================] - 2s 29us/step - loss: 0.1120 - acc: 0.9654 - val_loss: 0.1159 - val_acc: 0.9629\n",
      "Epoch 4/10\n",
      "60000/60000 [==============================] - 2s 30us/step - loss: 0.0836 - acc: 0.9736 - val_loss: 0.0955 - val_acc: 0.9706\n",
      "Epoch 5/10\n",
      "60000/60000 [==============================] - 2s 29us/step - loss: 0.0654 - acc: 0.9793 - val_loss: 0.0743 - val_acc: 0.9768\n",
      "Epoch 6/10\n",
      "60000/60000 [==============================] - 2s 31us/step - loss: 0.0520 - acc: 0.9833 - val_loss: 0.0914 - val_acc: 0.9729\n",
      "Epoch 7/10\n",
      "60000/60000 [==============================] - 2s 30us/step - loss: 0.0433 - acc: 0.9864 - val_loss: 0.0848 - val_acc: 0.9761\n",
      "Epoch 8/10\n",
      "60000/60000 [==============================] - 2s 31us/step - loss: 0.0364 - acc: 0.9888 - val_loss: 0.0765 - val_acc: 0.9797\n",
      "Epoch 9/10\n",
      "60000/60000 [==============================] - 2s 33us/step - loss: 0.0298 - acc: 0.9908 - val_loss: 0.0731 - val_acc: 0.9814\n",
      "Epoch 10/10\n",
      "60000/60000 [==============================] - 2s 30us/step - loss: 0.0259 - acc: 0.9919 - val_loss: 0.0722 - val_acc: 0.9811\n",
      "Test loss: 0.07218922507387333\n",
      "Test accuracy: 0.9811\n"
     ]
    }
   ],
   "source": [
    "# Build neural network\n",
    "model = models.Sequential()\n",
    "model.add(Dense(512, activation='softplus', input_shape=(NUM_ROWS * NUM_COLS,)))\n",
    "model.add(Dense(256, activation='softplus'))\n",
    "model.add(Dense(10, activation='softmax'))\n",
    "\n",
    "# Compile model\n",
    "model.compile(optimizer='rmsprop',\n",
    "              loss='categorical_crossentropy',\n",
    "              metrics=['accuracy'])\n",
    "\n",
    "# Train model\n",
    "model.fit(X_train, y_train,\n",
    "          batch_size=BATCH_SIZE,\n",
    "          epochs=EPOCHS,\n",
    "          verbose=1,\n",
    "          validation_data=(X_test, y_test))\n",
    "\n",
    "score = model.evaluate(X_test, y_test, verbose=0)\n",
    "print('Test loss:', score[0])\n",
    "print('Test accuracy:', score[1])"
   ]
  },
  {
   "cell_type": "markdown",
   "metadata": {
    "colab_type": "text",
    "id": "5us_flAJK4lP"
   },
   "source": [
    "#softsign\n",
    "\n",
    "keras.activations.softsign(x)\n",
    "\n",
    "##Softsign activation function.\n",
    "\n",
    "##Arguments\n",
    "\n",
    "1. x: Input tensor.\n",
    "\n",
    "##Returns\n",
    "\n",
    "1. The softsign activation: x / (abs(x) + 1)."
   ]
  },
  {
   "cell_type": "code",
   "execution_count": 0,
   "metadata": {
    "colab": {
     "base_uri": "https://localhost:8080/",
     "height": 426
    },
    "colab_type": "code",
    "id": "YxsE4bDzK_Wo",
    "outputId": "e5093194-e336-48a8-beae-72ff210ae165"
   },
   "outputs": [
    {
     "name": "stdout",
     "output_type": "stream",
     "text": [
      "Train on 60000 samples, validate on 10000 samples\n",
      "Epoch 1/10\n",
      "60000/60000 [==============================] - 2s 35us/step - loss: 0.2928 - acc: 0.9123 - val_loss: 0.1748 - val_acc: 0.9475\n",
      "Epoch 2/10\n",
      "60000/60000 [==============================] - 2s 29us/step - loss: 0.1444 - acc: 0.9566 - val_loss: 0.1221 - val_acc: 0.9625\n",
      "Epoch 3/10\n",
      "60000/60000 [==============================] - 2s 28us/step - loss: 0.0998 - acc: 0.9692 - val_loss: 0.1022 - val_acc: 0.9681\n",
      "Epoch 4/10\n",
      "60000/60000 [==============================] - 2s 30us/step - loss: 0.0737 - acc: 0.9776 - val_loss: 0.0885 - val_acc: 0.9734\n",
      "Epoch 5/10\n",
      "60000/60000 [==============================] - 2s 29us/step - loss: 0.0573 - acc: 0.9829 - val_loss: 0.0757 - val_acc: 0.9756\n",
      "Epoch 6/10\n",
      "60000/60000 [==============================] - 2s 29us/step - loss: 0.0451 - acc: 0.9860 - val_loss: 0.0758 - val_acc: 0.9764\n",
      "Epoch 7/10\n",
      "60000/60000 [==============================] - 2s 29us/step - loss: 0.0359 - acc: 0.9890 - val_loss: 0.0895 - val_acc: 0.9732\n",
      "Epoch 8/10\n",
      "60000/60000 [==============================] - 2s 31us/step - loss: 0.0288 - acc: 0.9911 - val_loss: 0.0710 - val_acc: 0.9787\n",
      "Epoch 9/10\n",
      "60000/60000 [==============================] - 2s 29us/step - loss: 0.0223 - acc: 0.9932 - val_loss: 0.0763 - val_acc: 0.9773\n",
      "Epoch 10/10\n",
      "60000/60000 [==============================] - 2s 30us/step - loss: 0.0178 - acc: 0.9952 - val_loss: 0.0756 - val_acc: 0.9780\n",
      "Test loss: 0.075616524197947\n",
      "Test accuracy: 0.978\n"
     ]
    }
   ],
   "source": [
    "# Build neural network\n",
    "model = models.Sequential()\n",
    "model.add(Dense(512, activation='softsign', input_shape=(NUM_ROWS * NUM_COLS,)))\n",
    "model.add(Dense(256, activation='softsign'))\n",
    "model.add(Dense(10, activation='softmax'))\n",
    "\n",
    "# Compile model\n",
    "model.compile(optimizer='rmsprop',\n",
    "              loss='categorical_crossentropy',\n",
    "              metrics=['accuracy'])\n",
    "\n",
    "# Train model\n",
    "model.fit(X_train, y_train,\n",
    "          batch_size=BATCH_SIZE,\n",
    "          epochs=EPOCHS,\n",
    "          verbose=1,\n",
    "          validation_data=(X_test, y_test))\n",
    "\n",
    "score = model.evaluate(X_test, y_test, verbose=0)\n",
    "print('Test loss:', score[0])\n",
    "print('Test accuracy:', score[1])"
   ]
  },
  {
   "cell_type": "markdown",
   "metadata": {
    "colab_type": "text",
    "id": "q1frWDGbLIPD"
   },
   "source": [
    "#relu\n",
    "\n",
    "keras.activations.relu(x, alpha=0.0, max_value=None, threshold=0.0)\n",
    "\n",
    "##Rectified Linear Unit.\n",
    "\n",
    "With default values, it returns element-wise max(x, 0).\n",
    "\n",
    "Otherwise, it follows: f(x) = max_value for x >= max_value, f(x) = x for threshold <= x < max_value, f(x) = alpha * (x - threshold) otherwise.\n",
    "\n",
    "##Arguments\n",
    "\n",
    "1. x: Input tensor.\n",
    "2. alpha: float. Slope of the negative part. Defaults to zero.\n",
    "3. max_value: float. Saturation threshold.\n",
    "4. threshold: float. Threshold value for thresholded activation.\n",
    "\n",
    "##Returns\n",
    "\n",
    "A tensor."
   ]
  },
  {
   "cell_type": "code",
   "execution_count": 0,
   "metadata": {
    "colab": {
     "base_uri": "https://localhost:8080/",
     "height": 426
    },
    "colab_type": "code",
    "id": "W-yB_H-6LEmI",
    "outputId": "b89cf4d5-39ed-41be-d94e-39e8980ddcb0"
   },
   "outputs": [
    {
     "name": "stdout",
     "output_type": "stream",
     "text": [
      "Train on 60000 samples, validate on 10000 samples\n",
      "Epoch 1/10\n",
      "60000/60000 [==============================] - 2s 35us/step - loss: 0.2288 - acc: 0.9307 - val_loss: 0.1086 - val_acc: 0.9657\n",
      "Epoch 2/10\n",
      "60000/60000 [==============================] - 2s 29us/step - loss: 0.0850 - acc: 0.9741 - val_loss: 0.0882 - val_acc: 0.9745\n",
      "Epoch 3/10\n",
      "60000/60000 [==============================] - 2s 29us/step - loss: 0.0554 - acc: 0.9825 - val_loss: 0.0775 - val_acc: 0.9763\n",
      "Epoch 4/10\n",
      "60000/60000 [==============================] - 2s 30us/step - loss: 0.0397 - acc: 0.9877 - val_loss: 0.0854 - val_acc: 0.9764\n",
      "Epoch 5/10\n",
      "60000/60000 [==============================] - 2s 30us/step - loss: 0.0301 - acc: 0.9907 - val_loss: 0.0885 - val_acc: 0.9788\n",
      "Epoch 6/10\n",
      "60000/60000 [==============================] - 2s 31us/step - loss: 0.0231 - acc: 0.9926 - val_loss: 0.0692 - val_acc: 0.9840\n",
      "Epoch 7/10\n",
      "60000/60000 [==============================] - 2s 30us/step - loss: 0.0184 - acc: 0.9939 - val_loss: 0.0865 - val_acc: 0.9813\n",
      "Epoch 8/10\n",
      "60000/60000 [==============================] - 2s 29us/step - loss: 0.0158 - acc: 0.9952 - val_loss: 0.0881 - val_acc: 0.9815\n",
      "Epoch 9/10\n",
      "60000/60000 [==============================] - 2s 29us/step - loss: 0.0129 - acc: 0.9962 - val_loss: 0.0836 - val_acc: 0.9834\n",
      "Epoch 10/10\n",
      "60000/60000 [==============================] - 2s 29us/step - loss: 0.0097 - acc: 0.9969 - val_loss: 0.1003 - val_acc: 0.9806\n",
      "Test loss: 0.10026641304894911\n",
      "Test accuracy: 0.9806\n"
     ]
    }
   ],
   "source": [
    "# Build neural network\n",
    "model = models.Sequential()\n",
    "model.add(Dense(512, activation='relu', input_shape=(NUM_ROWS * NUM_COLS,)))\n",
    "model.add(Dense(256, activation='relu'))\n",
    "model.add(Dense(10, activation='softmax'))\n",
    "\n",
    "# Compile model\n",
    "model.compile(optimizer='rmsprop',\n",
    "              loss='categorical_crossentropy',\n",
    "              metrics=['accuracy'])\n",
    "\n",
    "# Train model\n",
    "model.fit(X_train, y_train,\n",
    "          batch_size=BATCH_SIZE,\n",
    "          epochs=EPOCHS,\n",
    "          verbose=1,\n",
    "          validation_data=(X_test, y_test))\n",
    "\n",
    "score = model.evaluate(X_test, y_test, verbose=0)\n",
    "print('Test loss:', score[0])\n",
    "print('Test accuracy:', score[1])"
   ]
  },
  {
   "cell_type": "markdown",
   "metadata": {
    "colab_type": "text",
    "id": "qb6436cKLXyP"
   },
   "source": [
    "#tanh\n",
    "\n",
    "keras.activations.tanh(x)\n",
    "\n",
    "##Hyperbolic tangent activation function.\n",
    "\n",
    "##Arguments\n",
    "\n",
    "1. x: Input tensor.\n",
    "\n",
    "##Returns\n",
    "\n",
    "1. The hyperbolic activation: tanh(x) = (exp(x) - exp(-x)) / (exp(x) + exp(-x))"
   ]
  },
  {
   "cell_type": "code",
   "execution_count": 0,
   "metadata": {
    "colab": {
     "base_uri": "https://localhost:8080/",
     "height": 426
    },
    "colab_type": "code",
    "id": "2l_JVgdfLd_E",
    "outputId": "09fb9604-43f9-457a-c103-5cfc68f92b33"
   },
   "outputs": [
    {
     "name": "stdout",
     "output_type": "stream",
     "text": [
      "Train on 60000 samples, validate on 10000 samples\n",
      "Epoch 1/10\n",
      "60000/60000 [==============================] - 2s 36us/step - loss: 0.2881 - acc: 0.9132 - val_loss: 0.1495 - val_acc: 0.9553\n",
      "Epoch 2/10\n",
      "60000/60000 [==============================] - 2s 30us/step - loss: 0.1213 - acc: 0.9629 - val_loss: 0.1188 - val_acc: 0.9626\n",
      "Epoch 3/10\n",
      "60000/60000 [==============================] - 2s 29us/step - loss: 0.0801 - acc: 0.9761 - val_loss: 0.0936 - val_acc: 0.9696\n",
      "Epoch 4/10\n",
      "60000/60000 [==============================] - 2s 30us/step - loss: 0.0578 - acc: 0.9826 - val_loss: 0.0872 - val_acc: 0.9733\n",
      "Epoch 5/10\n",
      "60000/60000 [==============================] - 2s 29us/step - loss: 0.0424 - acc: 0.9871 - val_loss: 0.0720 - val_acc: 0.9763\n",
      "Epoch 6/10\n",
      "60000/60000 [==============================] - 2s 29us/step - loss: 0.0309 - acc: 0.9908 - val_loss: 0.0702 - val_acc: 0.9780\n",
      "Epoch 7/10\n",
      "60000/60000 [==============================] - 2s 29us/step - loss: 0.0225 - acc: 0.9936 - val_loss: 0.0612 - val_acc: 0.9821\n",
      "Epoch 8/10\n",
      "60000/60000 [==============================] - 2s 33us/step - loss: 0.0158 - acc: 0.9956 - val_loss: 0.0704 - val_acc: 0.9789\n",
      "Epoch 9/10\n",
      "60000/60000 [==============================] - 2s 33us/step - loss: 0.0131 - acc: 0.9961 - val_loss: 0.0646 - val_acc: 0.9802\n",
      "Epoch 10/10\n",
      "60000/60000 [==============================] - 2s 31us/step - loss: 0.0091 - acc: 0.9977 - val_loss: 0.0681 - val_acc: 0.9810\n",
      "Test loss: 0.06814086468871683\n",
      "Test accuracy: 0.981\n"
     ]
    }
   ],
   "source": [
    "# Build neural network\n",
    "model = models.Sequential()\n",
    "model.add(Dense(512, activation='tanh', input_shape=(NUM_ROWS * NUM_COLS,)))\n",
    "model.add(Dense(256, activation='tanh'))\n",
    "model.add(Dense(10, activation='softmax'))\n",
    "\n",
    "# Compile model\n",
    "model.compile(optimizer='rmsprop',\n",
    "              loss='categorical_crossentropy',\n",
    "              metrics=['accuracy'])\n",
    "\n",
    "# Train model\n",
    "model.fit(X_train, y_train,\n",
    "          batch_size=BATCH_SIZE,\n",
    "          epochs=EPOCHS,\n",
    "          verbose=1,\n",
    "          validation_data=(X_test, y_test))\n",
    "\n",
    "score = model.evaluate(X_test, y_test, verbose=0)\n",
    "print('Test loss:', score[0])\n",
    "print('Test accuracy:', score[1])"
   ]
  },
  {
   "cell_type": "markdown",
   "metadata": {
    "colab_type": "text",
    "id": "JwPdvFC3LmME"
   },
   "source": [
    "#sigmoid\n",
    "\n",
    "keras.activations.sigmoid(x)\n",
    "\n",
    "##Sigmoid activation function.\n",
    "\n",
    "##Arguments\n",
    "\n",
    "1. x: Input tensor.\n",
    "\n",
    "##Returns\n",
    "\n",
    "1. The sigmoid activation: 1 / (1 + exp(-x))."
   ]
  },
  {
   "cell_type": "code",
   "execution_count": 0,
   "metadata": {
    "colab": {
     "base_uri": "https://localhost:8080/",
     "height": 426
    },
    "colab_type": "code",
    "id": "chkhKBK4LtS9",
    "outputId": "a16d730a-7c6a-4701-f2dc-dde123e6767e"
   },
   "outputs": [
    {
     "name": "stdout",
     "output_type": "stream",
     "text": [
      "Train on 60000 samples, validate on 10000 samples\n",
      "Epoch 1/10\n",
      "60000/60000 [==============================] - 2s 41us/step - loss: 0.4868 - acc: 0.8604 - val_loss: 0.2541 - val_acc: 0.9257\n",
      "Epoch 2/10\n",
      "60000/60000 [==============================] - 2s 34us/step - loss: 0.2150 - acc: 0.9351 - val_loss: 0.1845 - val_acc: 0.9445\n",
      "Epoch 3/10\n",
      "60000/60000 [==============================] - 2s 30us/step - loss: 0.1539 - acc: 0.9538 - val_loss: 0.1323 - val_acc: 0.9582\n",
      "Epoch 4/10\n",
      "60000/60000 [==============================] - 2s 29us/step - loss: 0.1164 - acc: 0.9645 - val_loss: 0.1101 - val_acc: 0.9667\n",
      "Epoch 5/10\n",
      "60000/60000 [==============================] - 2s 29us/step - loss: 0.0918 - acc: 0.9719 - val_loss: 0.0997 - val_acc: 0.9688\n",
      "Epoch 6/10\n",
      "60000/60000 [==============================] - 2s 31us/step - loss: 0.0748 - acc: 0.9771 - val_loss: 0.0880 - val_acc: 0.9739\n",
      "Epoch 7/10\n",
      "60000/60000 [==============================] - 2s 29us/step - loss: 0.0608 - acc: 0.9811 - val_loss: 0.0883 - val_acc: 0.9738\n",
      "Epoch 8/10\n",
      "60000/60000 [==============================] - 2s 29us/step - loss: 0.0520 - acc: 0.9840 - val_loss: 0.0752 - val_acc: 0.9770\n",
      "Epoch 9/10\n",
      "60000/60000 [==============================] - 2s 31us/step - loss: 0.0436 - acc: 0.9864 - val_loss: 0.0707 - val_acc: 0.9791\n",
      "Epoch 10/10\n",
      "60000/60000 [==============================] - 2s 30us/step - loss: 0.0365 - acc: 0.9889 - val_loss: 0.0730 - val_acc: 0.9781\n",
      "Test loss: 0.07300390212240163\n",
      "Test accuracy: 0.9781\n"
     ]
    }
   ],
   "source": [
    "# Build neural network\n",
    "model = models.Sequential()\n",
    "model.add(Dense(512, activation='sigmoid', input_shape=(NUM_ROWS * NUM_COLS,)))\n",
    "model.add(Dense(256, activation='sigmoid'))\n",
    "model.add(Dense(10, activation='softmax'))\n",
    "\n",
    "# Compile model\n",
    "model.compile(optimizer='rmsprop',\n",
    "              loss='categorical_crossentropy',\n",
    "              metrics=['accuracy'])\n",
    "\n",
    "# Train model\n",
    "model.fit(X_train, y_train,\n",
    "          batch_size=BATCH_SIZE,\n",
    "          epochs=EPOCHS,\n",
    "          verbose=1,\n",
    "          validation_data=(X_test, y_test))\n",
    "\n",
    "score = model.evaluate(X_test, y_test, verbose=0)\n",
    "print('Test loss:', score[0])\n",
    "print('Test accuracy:', score[1])"
   ]
  },
  {
   "cell_type": "markdown",
   "metadata": {
    "colab_type": "text",
    "id": "FDSa6h2iL016"
   },
   "source": [
    "#hard_sigmoid\n",
    "\n",
    "keras.activations.hard_sigmoid(x)\n",
    "\n",
    "##Hard sigmoid activation function.\n",
    "\n",
    "Faster to compute than sigmoid activation.\n",
    "\n",
    "##Arguments\n",
    "\n",
    "1. x: Input tensor.\n",
    "\n",
    "##Returns\n",
    "\n",
    "1. Hard sigmoid activation:\n",
    "\n",
    "```\n",
    "0 if x < -2.5\n",
    "1 if x > 2.5\n",
    "0.2 * x + 0.5 if -2.5 <= x <= 2.5.\n",
    "```"
   ]
  },
  {
   "cell_type": "code",
   "execution_count": 0,
   "metadata": {
    "colab": {
     "base_uri": "https://localhost:8080/",
     "height": 426
    },
    "colab_type": "code",
    "id": "VPIE0vA2MIY0",
    "outputId": "282df1a1-b011-4d6a-d2dc-4279e6d53c87"
   },
   "outputs": [
    {
     "name": "stdout",
     "output_type": "stream",
     "text": [
      "Train on 60000 samples, validate on 10000 samples\n",
      "Epoch 1/10\n",
      "60000/60000 [==============================] - 3s 43us/step - loss: 0.5020 - acc: 0.8534 - val_loss: 0.2587 - val_acc: 0.9230\n",
      "Epoch 2/10\n",
      "60000/60000 [==============================] - 2s 33us/step - loss: 0.2135 - acc: 0.9359 - val_loss: 0.1827 - val_acc: 0.9447\n",
      "Epoch 3/10\n",
      "60000/60000 [==============================] - 2s 34us/step - loss: 0.1498 - acc: 0.9550 - val_loss: 0.1312 - val_acc: 0.9592\n",
      "Epoch 4/10\n",
      "60000/60000 [==============================] - 2s 33us/step - loss: 0.1115 - acc: 0.9659 - val_loss: 0.1112 - val_acc: 0.9649\n",
      "Epoch 5/10\n",
      "60000/60000 [==============================] - 2s 33us/step - loss: 0.0866 - acc: 0.9737 - val_loss: 0.1031 - val_acc: 0.9688\n",
      "Epoch 6/10\n",
      "60000/60000 [==============================] - 2s 34us/step - loss: 0.0686 - acc: 0.9795 - val_loss: 0.0855 - val_acc: 0.9738\n",
      "Epoch 7/10\n",
      "60000/60000 [==============================] - 2s 33us/step - loss: 0.0554 - acc: 0.9834 - val_loss: 0.0851 - val_acc: 0.9734\n",
      "Epoch 8/10\n",
      "60000/60000 [==============================] - 2s 32us/step - loss: 0.0448 - acc: 0.9861 - val_loss: 0.0715 - val_acc: 0.9783\n",
      "Epoch 9/10\n",
      "60000/60000 [==============================] - 2s 32us/step - loss: 0.0364 - acc: 0.9889 - val_loss: 0.0705 - val_acc: 0.9794\n",
      "Epoch 10/10\n",
      "60000/60000 [==============================] - 2s 31us/step - loss: 0.0297 - acc: 0.9911 - val_loss: 0.0730 - val_acc: 0.9782\n",
      "Test loss: 0.07303991296563764\n",
      "Test accuracy: 0.9782\n"
     ]
    }
   ],
   "source": [
    "# Build neural network\n",
    "model = models.Sequential()\n",
    "model.add(Dense(512, activation='hard_sigmoid', input_shape=(NUM_ROWS * NUM_COLS,)))\n",
    "model.add(Dense(256, activation='hard_sigmoid'))\n",
    "model.add(Dense(10, activation='softmax'))\n",
    "\n",
    "# Compile model\n",
    "model.compile(optimizer='rmsprop',\n",
    "              loss='categorical_crossentropy',\n",
    "              metrics=['accuracy'])\n",
    "\n",
    "# Train model\n",
    "model.fit(X_train, y_train,\n",
    "          batch_size=BATCH_SIZE,\n",
    "          epochs=EPOCHS,\n",
    "          verbose=1,\n",
    "          validation_data=(X_test, y_test))\n",
    "\n",
    "score = model.evaluate(X_test, y_test, verbose=0)\n",
    "print('Test loss:', score[0])\n",
    "print('Test accuracy:', score[1])"
   ]
  },
  {
   "cell_type": "markdown",
   "metadata": {
    "colab_type": "text",
    "id": "nkEibscrMTJ7"
   },
   "source": [
    "#exponential\n",
    "\n",
    "keras.activations.exponential(x)\n",
    "\n",
    "Exponential (base e) activation function.\n",
    "\n",
    "##Arguments\n",
    "\n",
    "1. x: Input tensor.\n",
    "\n",
    "##Returns\n",
    "\n",
    "1. Exponential activation: exp(x)."
   ]
  },
  {
   "cell_type": "code",
   "execution_count": 0,
   "metadata": {
    "colab": {
     "base_uri": "https://localhost:8080/",
     "height": 426
    },
    "colab_type": "code",
    "id": "Z03_Vua1MY82",
    "outputId": "cb02de05-a982-4fba-f5dc-b41ba5c364a4"
   },
   "outputs": [
    {
     "name": "stdout",
     "output_type": "stream",
     "text": [
      "Train on 60000 samples, validate on 10000 samples\n",
      "Epoch 1/10\n",
      "60000/60000 [==============================] - 2s 38us/step - loss: 14.5074 - acc: 0.0990 - val_loss: 14.5740 - val_acc: 0.0958\n",
      "Epoch 2/10\n",
      "60000/60000 [==============================] - 2s 31us/step - loss: 14.5283 - acc: 0.0986 - val_loss: 14.5740 - val_acc: 0.0958\n",
      "Epoch 3/10\n",
      "60000/60000 [==============================] - 2s 30us/step - loss: 14.5283 - acc: 0.0986 - val_loss: 14.5740 - val_acc: 0.0958\n",
      "Epoch 4/10\n",
      "60000/60000 [==============================] - 2s 30us/step - loss: 14.5283 - acc: 0.0986 - val_loss: 14.5740 - val_acc: 0.0958\n",
      "Epoch 5/10\n",
      "60000/60000 [==============================] - 2s 31us/step - loss: 14.5283 - acc: 0.0986 - val_loss: 14.5740 - val_acc: 0.0958\n",
      "Epoch 6/10\n",
      "60000/60000 [==============================] - 2s 29us/step - loss: 14.5283 - acc: 0.0986 - val_loss: 14.5740 - val_acc: 0.0958\n",
      "Epoch 7/10\n",
      "60000/60000 [==============================] - 2s 31us/step - loss: 14.5283 - acc: 0.0986 - val_loss: 14.5740 - val_acc: 0.0958\n",
      "Epoch 8/10\n",
      "60000/60000 [==============================] - 2s 32us/step - loss: 14.5283 - acc: 0.0986 - val_loss: 14.5740 - val_acc: 0.0958\n",
      "Epoch 9/10\n",
      "60000/60000 [==============================] - 2s 31us/step - loss: 14.5283 - acc: 0.0986 - val_loss: 14.5740 - val_acc: 0.0958\n",
      "Epoch 10/10\n",
      "60000/60000 [==============================] - 2s 30us/step - loss: 14.5283 - acc: 0.0986 - val_loss: 14.5740 - val_acc: 0.0958\n",
      "Test loss: 14.573981648254394\n",
      "Test accuracy: 0.0958\n"
     ]
    }
   ],
   "source": [
    "# Build neural network\n",
    "model = models.Sequential()\n",
    "model.add(Dense(512, activation='exponential', input_shape=(NUM_ROWS * NUM_COLS,)))\n",
    "model.add(Dense(256, activation='exponential'))\n",
    "model.add(Dense(10, activation='softmax'))\n",
    "\n",
    "# Compile model\n",
    "model.compile(optimizer='rmsprop',\n",
    "              loss='categorical_crossentropy',\n",
    "              metrics=['accuracy'])\n",
    "\n",
    "# Train model\n",
    "model.fit(X_train, y_train,\n",
    "          batch_size=BATCH_SIZE,\n",
    "          epochs=EPOCHS,\n",
    "          verbose=1,\n",
    "          validation_data=(X_test, y_test))\n",
    "\n",
    "score = model.evaluate(X_test, y_test, verbose=0)\n",
    "print('Test loss:', score[0])\n",
    "print('Test accuracy:', score[1])"
   ]
  },
  {
   "cell_type": "markdown",
   "metadata": {
    "colab_type": "text",
    "id": "twHrIcibMfqj"
   },
   "source": [
    "#linear\n",
    "\n",
    "keras.activations.linear(x)\n",
    "\n",
    "Linear (i.e. identity) activation function.\n",
    "\n",
    "##Arguments\n",
    "\n",
    "1. x: Input tensor.\n",
    "\n",
    "##Returns\n",
    "\n",
    "Input tensor, unchanged."
   ]
  },
  {
   "cell_type": "code",
   "execution_count": 0,
   "metadata": {
    "colab": {
     "base_uri": "https://localhost:8080/",
     "height": 426
    },
    "colab_type": "code",
    "id": "X4yIoO3RMk-n",
    "outputId": "5f23dd40-3c5a-4093-c246-f2be3caafc41"
   },
   "outputs": [
    {
     "name": "stdout",
     "output_type": "stream",
     "text": [
      "Train on 60000 samples, validate on 10000 samples\n",
      "Epoch 1/10\n",
      "60000/60000 [==============================] - 3s 42us/step - loss: 0.4279 - acc: 0.8752 - val_loss: 0.3180 - val_acc: 0.9151\n",
      "Epoch 2/10\n",
      "60000/60000 [==============================] - 2s 32us/step - loss: 0.3423 - acc: 0.9029 - val_loss: 0.3279 - val_acc: 0.9075\n",
      "Epoch 3/10\n",
      "60000/60000 [==============================] - 2s 29us/step - loss: 0.3204 - acc: 0.9100 - val_loss: 0.3120 - val_acc: 0.9082\n",
      "Epoch 4/10\n",
      "60000/60000 [==============================] - 2s 30us/step - loss: 0.3075 - acc: 0.9143 - val_loss: 0.3030 - val_acc: 0.9154\n",
      "Epoch 5/10\n",
      "60000/60000 [==============================] - 2s 29us/step - loss: 0.3027 - acc: 0.9148 - val_loss: 0.3298 - val_acc: 0.9099\n",
      "Epoch 6/10\n",
      "60000/60000 [==============================] - 2s 28us/step - loss: 0.2935 - acc: 0.9184 - val_loss: 0.3028 - val_acc: 0.9139\n",
      "Epoch 7/10\n",
      "60000/60000 [==============================] - 2s 29us/step - loss: 0.2891 - acc: 0.9194 - val_loss: 0.2945 - val_acc: 0.9191\n",
      "Epoch 8/10\n",
      "60000/60000 [==============================] - 2s 31us/step - loss: 0.2849 - acc: 0.9198 - val_loss: 0.3047 - val_acc: 0.9177\n",
      "Epoch 9/10\n",
      "60000/60000 [==============================] - 2s 29us/step - loss: 0.2816 - acc: 0.9213 - val_loss: 0.3003 - val_acc: 0.9184\n",
      "Epoch 10/10\n",
      "60000/60000 [==============================] - 2s 30us/step - loss: 0.2800 - acc: 0.9222 - val_loss: 0.2817 - val_acc: 0.9243\n",
      "Test loss: 0.28171733449697495\n",
      "Test accuracy: 0.9243\n"
     ]
    }
   ],
   "source": [
    "# Build neural network\n",
    "model = models.Sequential()\n",
    "model.add(Dense(512, activation='linear', input_shape=(NUM_ROWS * NUM_COLS,)))\n",
    "model.add(Dense(256, activation='linear'))\n",
    "model.add(Dense(10, activation='softmax'))\n",
    "\n",
    "# Compile model\n",
    "model.compile(optimizer='rmsprop',\n",
    "              loss='categorical_crossentropy',\n",
    "              metrics=['accuracy'])\n",
    "\n",
    "# Train model\n",
    "model.fit(X_train, y_train,\n",
    "          batch_size=BATCH_SIZE,\n",
    "          epochs=EPOCHS,\n",
    "          verbose=1,\n",
    "          validation_data=(X_test, y_test))\n",
    "\n",
    "score = model.evaluate(X_test, y_test, verbose=0)\n",
    "print('Test loss:', score[0])\n",
    "print('Test accuracy:', score[1])"
   ]
  },
  {
   "cell_type": "markdown",
   "metadata": {
    "colab_type": "text",
    "id": "1OyPjtogMtdG"
   },
   "source": [
    "#LeakyReLU\n",
    "\n",
    "keras.layers.LeakyReLU(alpha=0.3)\n",
    "\n",
    "Leaky version of a Rectified Linear Unit.\n",
    "\n",
    "It allows a small gradient when the unit is not active: \n",
    "```\n",
    "f(x) = alpha * x for x < 0\n",
    "f(x) = x for x >= 0.\n",
    "```\n",
    "\n",
    "##Input shape\n",
    "\n",
    "Arbitrary. Use the keyword argument input_shape (tuple of integers, does not include the samples axis) when using this layer as the first layer in a model.\n",
    "\n",
    "##Output shape\n",
    "\n",
    "Same shape as the input.\n",
    "\n",
    "##Arguments\n",
    "\n",
    "alpha: float >= 0. Negative slope coefficient."
   ]
  },
  {
   "cell_type": "code",
   "execution_count": 0,
   "metadata": {
    "colab": {
     "base_uri": "https://localhost:8080/",
     "height": 481
    },
    "colab_type": "code",
    "id": "erjq0UrxNRum",
    "outputId": "17c2b13e-1ba7-405a-b731-2191772582bc"
   },
   "outputs": [
    {
     "name": "stderr",
     "output_type": "stream",
     "text": [
      "/usr/local/lib/python3.6/dist-packages/keras/activations.py:235: UserWarning: Do not pass a layer instance (such as LeakyReLU) as the activation argument of another layer. Instead, advanced activation layers should be used just like any other layer in a model.\n",
      "  identifier=identifier.__class__.__name__))\n"
     ]
    },
    {
     "name": "stdout",
     "output_type": "stream",
     "text": [
      "Train on 60000 samples, validate on 10000 samples\n",
      "Epoch 1/10\n",
      "60000/60000 [==============================] - 2s 41us/step - loss: 0.2627 - acc: 0.9206 - val_loss: 0.1522 - val_acc: 0.9522\n",
      "Epoch 2/10\n",
      "60000/60000 [==============================] - 2s 29us/step - loss: 0.1260 - acc: 0.9616 - val_loss: 0.1731 - val_acc: 0.9453\n",
      "Epoch 3/10\n",
      "60000/60000 [==============================] - 2s 29us/step - loss: 0.0935 - acc: 0.9714 - val_loss: 0.1078 - val_acc: 0.9681\n",
      "Epoch 4/10\n",
      "60000/60000 [==============================] - 2s 30us/step - loss: 0.0763 - acc: 0.9756 - val_loss: 0.0978 - val_acc: 0.9719\n",
      "Epoch 5/10\n",
      "60000/60000 [==============================] - 2s 29us/step - loss: 0.0639 - acc: 0.9797 - val_loss: 0.1001 - val_acc: 0.9691\n",
      "Epoch 6/10\n",
      "60000/60000 [==============================] - 2s 29us/step - loss: 0.0552 - acc: 0.9830 - val_loss: 0.0837 - val_acc: 0.9762\n",
      "Epoch 7/10\n",
      "60000/60000 [==============================] - 2s 29us/step - loss: 0.0468 - acc: 0.9852 - val_loss: 0.1721 - val_acc: 0.9566\n",
      "Epoch 8/10\n",
      "60000/60000 [==============================] - 2s 28us/step - loss: 0.0433 - acc: 0.9864 - val_loss: 0.1020 - val_acc: 0.9729\n",
      "Epoch 9/10\n",
      "60000/60000 [==============================] - 2s 29us/step - loss: 0.0381 - acc: 0.9875 - val_loss: 0.1080 - val_acc: 0.9725\n",
      "Epoch 10/10\n",
      "60000/60000 [==============================] - 2s 29us/step - loss: 0.0343 - acc: 0.9888 - val_loss: 0.0881 - val_acc: 0.9763\n",
      "Test loss: 0.08807727217000211\n",
      "Test accuracy: 0.9763\n"
     ]
    }
   ],
   "source": [
    "# Build neural network\n",
    "model = models.Sequential()\n",
    "model.add(Dense(512, activation=keras.layers.LeakyReLU(alpha=0.3), input_shape=(NUM_ROWS * NUM_COLS,)))\n",
    "model.add(Dense(256, activation=keras.layers.LeakyReLU(alpha=0.3)))\n",
    "model.add(Dense(10, activation='softmax'))\n",
    "\n",
    "# Compile model\n",
    "model.compile(optimizer='rmsprop',\n",
    "              loss='categorical_crossentropy',\n",
    "              metrics=['accuracy'])\n",
    "\n",
    "# Train model\n",
    "model.fit(X_train, y_train,\n",
    "          batch_size=BATCH_SIZE,\n",
    "          epochs=EPOCHS,\n",
    "          verbose=1,\n",
    "          validation_data=(X_test, y_test))\n",
    "\n",
    "score = model.evaluate(X_test, y_test, verbose=0)\n",
    "print('Test loss:', score[0])\n",
    "print('Test accuracy:', score[1])"
   ]
  },
  {
   "cell_type": "markdown",
   "metadata": {
    "colab_type": "text",
    "id": "wcJBHILnNv8k"
   },
   "source": [
    "#PReLU\n",
    "\n",
    "keras.layers.PReLU(alpha_initializer='zeros', alpha_regularizer=None, alpha_constraint=None, shared_axes=None)\n",
    "\n",
    "Parametric Rectified Linear Unit.\n",
    "\n",
    "It follows: f(x) = alpha * x for x < 0, f(x) = x for x >= 0, where alpha is a learned array with the same shape as x.\n",
    "\n",
    "##Input shape\n",
    "\n",
    "Arbitrary. Use the keyword argument input_shape (tuple of integers, does not include the samples axis) when using this layer as the first layer in a model.\n",
    "\n",
    "##Output shape\n",
    "\n",
    "Same shape as the input.\n",
    "\n",
    "##Arguments\n",
    "\n",
    "1. alpha_initializer: initializer function for the weights.\n",
    "2. alpha_regularizer: regularizer for the weights.\n",
    "3. alpha_constraint: constraint for the weights.\n",
    "4. shared_axes: the axes along which to share learnable parameters for the activation function. For example, if the incoming feature maps are from a 2D convolution with output shape (batch, height, width, channels), and you wish to share parameters across space so that each filter only has one set of parameters, set shared_axes=[1, 2]."
   ]
  },
  {
   "cell_type": "code",
   "execution_count": 0,
   "metadata": {
    "colab": {
     "base_uri": "https://localhost:8080/",
     "height": 481
    },
    "colab_type": "code",
    "id": "9sMj5qFNN7Xv",
    "outputId": "7adf403f-1809-464e-ef9b-0f8af6b73596"
   },
   "outputs": [
    {
     "name": "stderr",
     "output_type": "stream",
     "text": [
      "/usr/local/lib/python3.6/dist-packages/keras/activations.py:235: UserWarning: Do not pass a layer instance (such as PReLU) as the activation argument of another layer. Instead, advanced activation layers should be used just like any other layer in a model.\n",
      "  identifier=identifier.__class__.__name__))\n"
     ]
    },
    {
     "name": "stdout",
     "output_type": "stream",
     "text": [
      "Train on 60000 samples, validate on 10000 samples\n",
      "Epoch 1/10\n",
      "60000/60000 [==============================] - 3s 42us/step - loss: 0.2322 - acc: 0.9283 - val_loss: 0.1028 - val_acc: 0.9693\n",
      "Epoch 2/10\n",
      "60000/60000 [==============================] - 2s 32us/step - loss: 0.0844 - acc: 0.9744 - val_loss: 0.0774 - val_acc: 0.9762\n",
      "Epoch 3/10\n",
      "60000/60000 [==============================] - 2s 33us/step - loss: 0.0552 - acc: 0.9825 - val_loss: 0.0780 - val_acc: 0.9763\n",
      "Epoch 4/10\n",
      "60000/60000 [==============================] - 2s 33us/step - loss: 0.0392 - acc: 0.9874 - val_loss: 0.0805 - val_acc: 0.9784\n",
      "Epoch 5/10\n",
      "60000/60000 [==============================] - 2s 33us/step - loss: 0.0295 - acc: 0.9911 - val_loss: 0.0585 - val_acc: 0.9843\n",
      "Epoch 6/10\n",
      "60000/60000 [==============================] - 2s 32us/step - loss: 0.0223 - acc: 0.9929 - val_loss: 0.0836 - val_acc: 0.9805\n",
      "Epoch 7/10\n",
      "60000/60000 [==============================] - 2s 32us/step - loss: 0.0175 - acc: 0.9942 - val_loss: 0.0811 - val_acc: 0.9816\n",
      "Epoch 8/10\n",
      "60000/60000 [==============================] - 2s 35us/step - loss: 0.0154 - acc: 0.9953 - val_loss: 0.0751 - val_acc: 0.9833\n",
      "Epoch 9/10\n",
      "60000/60000 [==============================] - 2s 33us/step - loss: 0.0127 - acc: 0.9961 - val_loss: 0.0859 - val_acc: 0.9815\n",
      "Epoch 10/10\n",
      "60000/60000 [==============================] - 2s 33us/step - loss: 0.0110 - acc: 0.9968 - val_loss: 0.0988 - val_acc: 0.9827\n",
      "Test loss: 0.09879627683000694\n",
      "Test accuracy: 0.9827\n"
     ]
    }
   ],
   "source": [
    "# Build neural network\n",
    "model = models.Sequential()\n",
    "model.add(Dense(512, activation=keras.layers.PReLU(alpha_initializer='zeros', alpha_regularizer=None, alpha_constraint=None, shared_axes=None)\n",
    ", input_shape=(NUM_ROWS * NUM_COLS,)))\n",
    "model.add(Dense(256, activation=keras.layers.PReLU(alpha_initializer='zeros', alpha_regularizer=None, alpha_constraint=None, shared_axes=None)\n",
    "))\n",
    "model.add(Dense(10, activation='softmax'))\n",
    "\n",
    "# Compile model\n",
    "model.compile(optimizer='rmsprop',\n",
    "              loss='categorical_crossentropy',\n",
    "              metrics=['accuracy'])\n",
    "\n",
    "# Train model\n",
    "model.fit(X_train, y_train,\n",
    "          batch_size=BATCH_SIZE,\n",
    "          epochs=EPOCHS,\n",
    "          verbose=1,\n",
    "          validation_data=(X_test, y_test))\n",
    "\n",
    "score = model.evaluate(X_test, y_test, verbose=0)\n",
    "print('Test loss:', score[0])\n",
    "print('Test accuracy:', score[1])"
   ]
  },
  {
   "cell_type": "markdown",
   "metadata": {
    "colab_type": "text",
    "id": "5hZFbSZYOSCi"
   },
   "source": [
    "#ELU\n",
    "\n",
    "keras.layers.ELU(alpha=1.0)\n",
    "\n",
    "Exponential Linear Unit.\n",
    "\n",
    "It follows: f(x) =  alpha * (exp(x) - 1.) for x < 0, f(x) = x for x >= 0.\n",
    "\n",
    "##Input shape\n",
    "\n",
    "Arbitrary. Use the keyword argument input_shape (tuple of integers, does not include the samples axis) when using this layer as the first layer in a model.\n",
    "\n",
    "##Output shape\n",
    "\n",
    "Same shape as the input.\n",
    "\n",
    "##Arguments\n",
    "\n",
    "1. alpha: scale for the negative factor."
   ]
  },
  {
   "cell_type": "code",
   "execution_count": 0,
   "metadata": {
    "colab": {
     "base_uri": "https://localhost:8080/",
     "height": 481
    },
    "colab_type": "code",
    "id": "rV_7KHrmOZEV",
    "outputId": "c1239e44-04a8-4f8f-bd14-62d666ee0dfe"
   },
   "outputs": [
    {
     "name": "stderr",
     "output_type": "stream",
     "text": [
      "/usr/local/lib/python3.6/dist-packages/keras/activations.py:235: UserWarning: Do not pass a layer instance (such as ELU) as the activation argument of another layer. Instead, advanced activation layers should be used just like any other layer in a model.\n",
      "  identifier=identifier.__class__.__name__))\n"
     ]
    },
    {
     "name": "stdout",
     "output_type": "stream",
     "text": [
      "Train on 60000 samples, validate on 10000 samples\n",
      "Epoch 1/10\n",
      "60000/60000 [==============================] - 3s 45us/step - loss: 0.2896 - acc: 0.9105 - val_loss: 0.1703 - val_acc: 0.9479\n",
      "Epoch 2/10\n",
      "60000/60000 [==============================] - 2s 32us/step - loss: 0.1224 - acc: 0.9624 - val_loss: 0.1204 - val_acc: 0.9615\n",
      "Epoch 3/10\n",
      "60000/60000 [==============================] - 2s 33us/step - loss: 0.0839 - acc: 0.9742 - val_loss: 0.0867 - val_acc: 0.9735\n",
      "Epoch 4/10\n",
      "60000/60000 [==============================] - 2s 29us/step - loss: 0.0633 - acc: 0.9798 - val_loss: 0.0838 - val_acc: 0.9753\n",
      "Epoch 5/10\n",
      "60000/60000 [==============================] - 2s 30us/step - loss: 0.0502 - acc: 0.9839 - val_loss: 0.0940 - val_acc: 0.9717\n",
      "Epoch 6/10\n",
      "60000/60000 [==============================] - 2s 29us/step - loss: 0.0409 - acc: 0.9871 - val_loss: 0.0847 - val_acc: 0.9764\n",
      "Epoch 7/10\n",
      "60000/60000 [==============================] - 2s 30us/step - loss: 0.0330 - acc: 0.9895 - val_loss: 0.0708 - val_acc: 0.9794\n",
      "Epoch 8/10\n",
      "60000/60000 [==============================] - 2s 30us/step - loss: 0.0272 - acc: 0.9910 - val_loss: 0.0876 - val_acc: 0.9781\n",
      "Epoch 9/10\n",
      "60000/60000 [==============================] - 2s 30us/step - loss: 0.0228 - acc: 0.9925 - val_loss: 0.0825 - val_acc: 0.9786\n",
      "Epoch 10/10\n",
      "60000/60000 [==============================] - 2s 31us/step - loss: 0.0199 - acc: 0.9930 - val_loss: 0.0936 - val_acc: 0.9759\n",
      "Test loss: 0.09363198312379828\n",
      "Test accuracy: 0.9759\n"
     ]
    }
   ],
   "source": [
    "# Build neural network\n",
    "model = models.Sequential()\n",
    "model.add(Dense(512, activation=keras.layers.ELU(alpha=1.0), input_shape=(NUM_ROWS * NUM_COLS,)))\n",
    "model.add(Dense(256, activation=keras.layers.ELU(alpha=1.0)))\n",
    "model.add(Dense(10, activation='softmax'))\n",
    "\n",
    "# Compile model\n",
    "model.compile(optimizer='rmsprop',\n",
    "              loss='categorical_crossentropy',\n",
    "              metrics=['accuracy'])\n",
    "\n",
    "# Train model\n",
    "model.fit(X_train, y_train,\n",
    "          batch_size=BATCH_SIZE,\n",
    "          epochs=EPOCHS,\n",
    "          verbose=1,\n",
    "          validation_data=(X_test, y_test))\n",
    "\n",
    "score = model.evaluate(X_test, y_test, verbose=0)\n",
    "print('Test loss:', score[0])\n",
    "print('Test accuracy:', score[1])"
   ]
  },
  {
   "cell_type": "markdown",
   "metadata": {
    "colab_type": "text",
    "id": "mMMit6nZOlXi"
   },
   "source": [
    "#ThresholdedReLU\n",
    "\n",
    "keras.layers.ThresholdedReLU(theta=1.0)\n",
    "\n",
    "Thresholded Rectified Linear Unit.\n",
    "\n",
    "It follows: f(x) = x for x > theta, f(x) = 0 otherwise.\n",
    "\n",
    "##Input shape\n",
    "\n",
    "Arbitrary. Use the keyword argument input_shape (tuple of integers, does not include the samples axis) when using this layer as the first layer in a model.\n",
    "\n",
    "##Output shape\n",
    "\n",
    "Same shape as the input.\n",
    "\n",
    "##Arguments\n",
    "\n",
    "1. theta: float >= 0. Threshold location of activation."
   ]
  },
  {
   "cell_type": "code",
   "execution_count": 0,
   "metadata": {
    "colab": {
     "base_uri": "https://localhost:8080/",
     "height": 481
    },
    "colab_type": "code",
    "id": "jtN3bUOOOqN0",
    "outputId": "7c9f9b67-0778-4a03-884c-478156eebce3"
   },
   "outputs": [
    {
     "name": "stderr",
     "output_type": "stream",
     "text": [
      "/usr/local/lib/python3.6/dist-packages/keras/activations.py:235: UserWarning: Do not pass a layer instance (such as ThresholdedReLU) as the activation argument of another layer. Instead, advanced activation layers should be used just like any other layer in a model.\n",
      "  identifier=identifier.__class__.__name__))\n"
     ]
    },
    {
     "name": "stdout",
     "output_type": "stream",
     "text": [
      "Train on 60000 samples, validate on 10000 samples\n",
      "Epoch 1/10\n",
      "60000/60000 [==============================] - 3s 44us/step - loss: 2.3017 - acc: 0.1112 - val_loss: 2.3011 - val_acc: 0.1135\n",
      "Epoch 2/10\n",
      "60000/60000 [==============================] - 2s 32us/step - loss: 2.3013 - acc: 0.1124 - val_loss: 2.3010 - val_acc: 0.1135\n",
      "Epoch 3/10\n",
      "60000/60000 [==============================] - 2s 30us/step - loss: 2.3012 - acc: 0.1124 - val_loss: 2.3011 - val_acc: 0.1135\n",
      "Epoch 4/10\n",
      "60000/60000 [==============================] - 2s 30us/step - loss: 2.3013 - acc: 0.1124 - val_loss: 2.3010 - val_acc: 0.1135\n",
      "Epoch 5/10\n",
      "60000/60000 [==============================] - 2s 28us/step - loss: 2.3013 - acc: 0.1124 - val_loss: 2.3010 - val_acc: 0.1135\n",
      "Epoch 6/10\n",
      "60000/60000 [==============================] - 2s 30us/step - loss: 2.3012 - acc: 0.1124 - val_loss: 2.3011 - val_acc: 0.1135\n",
      "Epoch 7/10\n",
      "60000/60000 [==============================] - 2s 30us/step - loss: 2.3013 - acc: 0.1124 - val_loss: 2.3010 - val_acc: 0.1135\n",
      "Epoch 8/10\n",
      "60000/60000 [==============================] - 2s 29us/step - loss: 2.3013 - acc: 0.1124 - val_loss: 2.3010 - val_acc: 0.1135\n",
      "Epoch 9/10\n",
      "60000/60000 [==============================] - 2s 29us/step - loss: 2.3013 - acc: 0.1124 - val_loss: 2.3010 - val_acc: 0.1135\n",
      "Epoch 10/10\n",
      "60000/60000 [==============================] - 2s 30us/step - loss: 2.3013 - acc: 0.1124 - val_loss: 2.3010 - val_acc: 0.1135\n",
      "Test loss: 2.3009999839782713\n",
      "Test accuracy: 0.1135\n"
     ]
    }
   ],
   "source": [
    "# Build neural network\n",
    "model = models.Sequential()\n",
    "model.add(Dense(512, activation=keras.layers.ThresholdedReLU(theta=1.0), input_shape=(NUM_ROWS * NUM_COLS,)))\n",
    "model.add(Dense(256, activation=keras.layers.ThresholdedReLU(theta=1.0)))\n",
    "model.add(Dense(10, activation='softmax'))\n",
    "\n",
    "# Compile model\n",
    "model.compile(optimizer='rmsprop',\n",
    "              loss='categorical_crossentropy',\n",
    "              metrics=['accuracy'])\n",
    "\n",
    "# Train model\n",
    "model.fit(X_train, y_train,\n",
    "          batch_size=BATCH_SIZE,\n",
    "          epochs=EPOCHS,\n",
    "          verbose=1,\n",
    "          validation_data=(X_test, y_test))\n",
    "\n",
    "score = model.evaluate(X_test, y_test, verbose=0)\n",
    "print('Test loss:', score[0])\n",
    "print('Test accuracy:', score[1])"
   ]
  },
  {
   "cell_type": "markdown",
   "metadata": {
    "colab_type": "text",
    "id": "ZHf3ajyEOy7R"
   },
   "source": [
    "#Softmax\n",
    "\n",
    "keras.layers.Softmax(axis=-1)\n",
    "\n",
    "Softmax activation function.\n",
    "\n",
    "##Input shape\n",
    "\n",
    "Arbitrary. Use the keyword argument input_shape (tuple of integers, does not include the samples axis) when using this layer as the first layer in a model.\n",
    "\n",
    "##Output shape\n",
    "\n",
    "Same shape as the input.\n",
    "\n",
    "##Arguments\n",
    "\n",
    "1. axis: Integer, axis along which the softmax normalization is applied."
   ]
  },
  {
   "cell_type": "code",
   "execution_count": 0,
   "metadata": {
    "colab": {
     "base_uri": "https://localhost:8080/",
     "height": 481
    },
    "colab_type": "code",
    "id": "mSzMbFfGO600",
    "outputId": "4705044d-dd01-49ae-e5fa-2ba1da6bb61e"
   },
   "outputs": [
    {
     "name": "stderr",
     "output_type": "stream",
     "text": [
      "/usr/local/lib/python3.6/dist-packages/keras/activations.py:235: UserWarning: Do not pass a layer instance (such as Softmax) as the activation argument of another layer. Instead, advanced activation layers should be used just like any other layer in a model.\n",
      "  identifier=identifier.__class__.__name__))\n"
     ]
    },
    {
     "name": "stdout",
     "output_type": "stream",
     "text": [
      "Train on 60000 samples, validate on 10000 samples\n",
      "Epoch 1/10\n",
      "60000/60000 [==============================] - 3s 43us/step - loss: 2.2695 - acc: 0.1886 - val_loss: 2.1968 - val_acc: 0.6431\n",
      "Epoch 2/10\n",
      "60000/60000 [==============================] - 2s 30us/step - loss: 2.0447 - acc: 0.7009 - val_loss: 1.8588 - val_acc: 0.7334\n",
      "Epoch 3/10\n",
      "60000/60000 [==============================] - 2s 29us/step - loss: 1.6479 - acc: 0.7407 - val_loss: 1.4299 - val_acc: 0.7474\n",
      "Epoch 4/10\n",
      "60000/60000 [==============================] - 2s 29us/step - loss: 1.2345 - acc: 0.7494 - val_loss: 1.0481 - val_acc: 0.7614\n",
      "Epoch 5/10\n",
      "60000/60000 [==============================] - 2s 30us/step - loss: 0.9122 - acc: 0.7571 - val_loss: 0.7909 - val_acc: 0.7557\n",
      "Epoch 6/10\n",
      "60000/60000 [==============================] - 2s 31us/step - loss: 0.7156 - acc: 0.7638 - val_loss: 0.6480 - val_acc: 0.7604\n",
      "Epoch 7/10\n",
      "60000/60000 [==============================] - 2s 29us/step - loss: 0.6119 - acc: 0.7705 - val_loss: 0.5772 - val_acc: 0.7659\n",
      "Epoch 8/10\n",
      "60000/60000 [==============================] - 2s 30us/step - loss: 0.5569 - acc: 0.7777 - val_loss: 0.5387 - val_acc: 0.7774\n",
      "Epoch 9/10\n",
      "60000/60000 [==============================] - 2s 33us/step - loss: 0.5264 - acc: 0.7877 - val_loss: 0.5202 - val_acc: 0.7785\n",
      "Epoch 10/10\n",
      "60000/60000 [==============================] - 2s 30us/step - loss: 0.5063 - acc: 0.7952 - val_loss: 0.5105 - val_acc: 0.7819\n",
      "Test loss: 0.5105008833885193\n",
      "Test accuracy: 0.7819\n"
     ]
    }
   ],
   "source": [
    "# Build neural network\n",
    "model = models.Sequential()\n",
    "model.add(Dense(512, activation=keras.layers.Softmax(axis=-1), input_shape=(NUM_ROWS * NUM_COLS,)))\n",
    "model.add(Dense(256, activation=keras.layers.Softmax(axis=-1)))\n",
    "model.add(Dense(10, activation='softmax'))\n",
    "\n",
    "# Compile model\n",
    "model.compile(optimizer='rmsprop',\n",
    "              loss='categorical_crossentropy',\n",
    "              metrics=['accuracy'])\n",
    "\n",
    "# Train model\n",
    "model.fit(X_train, y_train,\n",
    "          batch_size=BATCH_SIZE,\n",
    "          epochs=EPOCHS,\n",
    "          verbose=1,\n",
    "          validation_data=(X_test, y_test))\n",
    "\n",
    "score = model.evaluate(X_test, y_test, verbose=0)\n",
    "print('Test loss:', score[0])\n",
    "print('Test accuracy:', score[1])"
   ]
  },
  {
   "cell_type": "markdown",
   "metadata": {
    "colab_type": "text",
    "id": "oCbXH5M2PCwO"
   },
   "source": [
    "#ReLU\n",
    "\n",
    "keras.layers.ReLU(max_value=None, negative_slope=0.0, threshold=0.0)\n",
    "\n",
    "Rectified Linear Unit activation function.\n",
    "\n",
    "With default values, it returns element-wise max(x, 0).\n",
    "\n",
    "Otherwise, it follows: f(x) = max_value for x >= max_value, f(x) = x for threshold <= x < max_value, f(x) = negative_slope * (x - threshold) otherwise.\n",
    "\n",
    "##Input shape\n",
    "\n",
    "Arbitrary. Use the keyword argument input_shape (tuple of integers, does not include the samples axis) when using this layer as the first layer in a model.\n",
    "\n",
    "##Output shape\n",
    "\n",
    "Same shape as the input.\n",
    "\n",
    "##Arguments\n",
    "\n",
    "1. max_value: float >= 0. Maximum activation value.\n",
    "2. negative_slope: float >= 0. Negative slope coefficient.\n",
    "3. threshold: float. Threshold value for thresholded activation."
   ]
  },
  {
   "cell_type": "code",
   "execution_count": 0,
   "metadata": {
    "colab": {
     "base_uri": "https://localhost:8080/",
     "height": 481
    },
    "colab_type": "code",
    "id": "KMee8FeqPK2N",
    "outputId": "021fa604-d2ea-48d1-e787-0094cbdad59d"
   },
   "outputs": [
    {
     "name": "stderr",
     "output_type": "stream",
     "text": [
      "/usr/local/lib/python3.6/dist-packages/keras/activations.py:235: UserWarning: Do not pass a layer instance (such as ReLU) as the activation argument of another layer. Instead, advanced activation layers should be used just like any other layer in a model.\n",
      "  identifier=identifier.__class__.__name__))\n"
     ]
    },
    {
     "name": "stdout",
     "output_type": "stream",
     "text": [
      "Train on 60000 samples, validate on 10000 samples\n",
      "Epoch 1/10\n",
      "60000/60000 [==============================] - 3s 44us/step - loss: 0.2255 - acc: 0.9324 - val_loss: 0.1297 - val_acc: 0.9586\n",
      "Epoch 2/10\n",
      "60000/60000 [==============================] - 2s 30us/step - loss: 0.0854 - acc: 0.9744 - val_loss: 0.1067 - val_acc: 0.9657\n",
      "Epoch 3/10\n",
      "60000/60000 [==============================] - 2s 32us/step - loss: 0.0567 - acc: 0.9828 - val_loss: 0.0723 - val_acc: 0.9796\n",
      "Epoch 4/10\n",
      "60000/60000 [==============================] - 2s 29us/step - loss: 0.0394 - acc: 0.9876 - val_loss: 0.0900 - val_acc: 0.9770\n",
      "Epoch 5/10\n",
      "60000/60000 [==============================] - 2s 30us/step - loss: 0.0298 - acc: 0.9902 - val_loss: 0.0820 - val_acc: 0.9786\n",
      "Epoch 6/10\n",
      "60000/60000 [==============================] - 2s 31us/step - loss: 0.0220 - acc: 0.9932 - val_loss: 0.0829 - val_acc: 0.9795\n",
      "Epoch 7/10\n",
      "60000/60000 [==============================] - 2s 31us/step - loss: 0.0187 - acc: 0.9941 - val_loss: 0.0967 - val_acc: 0.9777\n",
      "Epoch 8/10\n",
      "60000/60000 [==============================] - 2s 30us/step - loss: 0.0146 - acc: 0.9955 - val_loss: 0.0957 - val_acc: 0.9805\n",
      "Epoch 9/10\n",
      "60000/60000 [==============================] - 2s 31us/step - loss: 0.0127 - acc: 0.9957 - val_loss: 0.0992 - val_acc: 0.9797\n",
      "Epoch 10/10\n",
      "60000/60000 [==============================] - 2s 32us/step - loss: 0.0107 - acc: 0.9969 - val_loss: 0.1101 - val_acc: 0.9789\n",
      "Test loss: 0.11010378701751575\n",
      "Test accuracy: 0.9789\n"
     ]
    }
   ],
   "source": [
    "# Build neural network\n",
    "model = models.Sequential()\n",
    "model.add(Dense(512, activation=keras.layers.ReLU(max_value=None, negative_slope=0.0, threshold=0.0)\n",
    ", input_shape=(NUM_ROWS * NUM_COLS,)))\n",
    "model.add(Dense(256, activation=keras.layers.ReLU(max_value=None, negative_slope=0.0, threshold=0.0)\n",
    "))\n",
    "model.add(Dense(10, activation='softmax'))\n",
    "\n",
    "# Compile model\n",
    "model.compile(optimizer='rmsprop',\n",
    "              loss='categorical_crossentropy',\n",
    "              metrics=['accuracy'])\n",
    "\n",
    "# Train model\n",
    "model.fit(X_train, y_train,\n",
    "          batch_size=BATCH_SIZE,\n",
    "          epochs=EPOCHS,\n",
    "          verbose=1,\n",
    "          validation_data=(X_test, y_test))\n",
    "\n",
    "score = model.evaluate(X_test, y_test, verbose=0)\n",
    "print('Test loss:', score[0])\n",
    "print('Test accuracy:', score[1])"
   ]
  },
  {
   "cell_type": "markdown",
   "metadata": {
    "colab_type": "text",
    "id": "Iw_XEgUlPU04"
   },
   "source": [
    "#Thank you for completing this notebook"
   ]
  }
 ],
 "metadata": {
  "accelerator": "GPU",
  "colab": {
   "include_colab_link": true,
   "name": "Keras-Activations-J006.ipynb",
   "provenance": []
  },
  "kernelspec": {
   "display_name": "Python 3",
   "language": "python",
   "name": "python3"
  },
  "language_info": {
   "codemirror_mode": {
    "name": "ipython",
    "version": 3
   },
   "file_extension": ".py",
   "mimetype": "text/x-python",
   "name": "python",
   "nbconvert_exporter": "python",
   "pygments_lexer": "ipython3",
   "version": "3.7.4"
  }
 },
 "nbformat": 4,
 "nbformat_minor": 1
}
