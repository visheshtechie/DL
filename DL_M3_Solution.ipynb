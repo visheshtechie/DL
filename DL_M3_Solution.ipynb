{
 "cells": [
  {
   "cell_type": "code",
   "execution_count": 7,
   "metadata": {},
   "outputs": [
    {
     "name": "stdout",
     "output_type": "stream",
     "text": [
      "\n",
      "Iteration: 1\n",
      "z: 14.000000002074998  (x,y): (3.900000000125, 1.0999999995)\n",
      "\n",
      "Iteration: 2\n",
      "z: 13.000238888099947  (x,y): (3.800073995080272, 1.200134775758703)\n",
      "\n",
      "Iteration: 3\n",
      "z: 12.000752143218875  (x,y): (3.7002738443431915, 1.3004900537533786)\n",
      "\n",
      "Iteration: 4\n",
      "z: 11.00149200833835  (x,y): (3.600653220390188, 1.4011465323683614)\n",
      "\n",
      "Iteration: 5\n",
      "z: 10.002331978278312  (x,y): (3.501267529595913, 1.5021791955437123)\n"
     ]
    }
   ],
   "source": [
    "#Full algo on page 311 of deep learning book by goodfellow bengio courville\n",
    "#key point is bias correction is not carried into the first and second moment updates (note s, s_hat, r and r_hat)\n",
    "import numpy as np\n",
    "def z(x,y):\n",
    "    z = x**2 - y**2\n",
    "    return z\n",
    "\n",
    "def dz_by_dx(x,y):\n",
    "    return 2*x\n",
    "\n",
    "def dz_by_dy(x,y):\n",
    "    return -2*y\n",
    "\n",
    "x_init, y_init = (4,1)\n",
    "lr = .1\n",
    "\n",
    "x_adam, y_adam =(x_init,y_init)\n",
    "x_adam_sum_grad, y_adam_sum_grad=(0,0)\n",
    "x_adam_sum_grad_squared, y_adam_sum_grad_squared=(0,0)\n",
    "alpha1_adam=0.9\n",
    "alpha2_adam=0.999\n",
    "\n",
    "i=0\n",
    "while i in range(5):\n",
    "    \n",
    "    #Adam\n",
    "    x_adam_sum_grad = alpha1_adam * x_adam_sum_grad + (1-alpha1_adam)*dz_by_dx( x_adam, y_adam )\n",
    "    y_adam_sum_grad = alpha1_adam * y_adam_sum_grad + (1-alpha1_adam)*dz_by_dy( x_adam, y_adam )\n",
    "    \n",
    "    x_adam_sum_grad_squared = alpha2_adam * x_adam_sum_grad_squared + (1-alpha2_adam)*dz_by_dx( x_adam, y_adam )**2\n",
    "    y_adam_sum_grad_squared = alpha2_adam * y_adam_sum_grad_squared + (1-alpha2_adam)*dz_by_dy( x_adam, y_adam )**2\n",
    "    \n",
    "    x_adam_sum_grad_bias_corrected = x_adam_sum_grad / (1-alpha1_adam**(i+1))\n",
    "    y_adam_sum_grad_bias_corrected = y_adam_sum_grad / (1-alpha1_adam**(i+1))\n",
    "    \n",
    "    x_adam_sum_grad_squared_bias_corrected = x_adam_sum_grad_squared / (1-alpha2_adam**(i+1))\n",
    "    y_adam_sum_grad_squared_bias_corrected = y_adam_sum_grad_squared / (1-alpha2_adam**(i+1))\n",
    "    \n",
    "    x_adam += -lr *  x_adam_sum_grad_bias_corrected/ (np.sqrt(x_adam_sum_grad_squared_bias_corrected) + 1e-8)\n",
    "    y_adam += -lr *  y_adam_sum_grad_bias_corrected/ (np.sqrt(y_adam_sum_grad_squared_bias_corrected) + 1e-8)\n",
    "    \n",
    "    \n",
    "    print(\"\\nIteration:\",i+1)\n",
    "    print(\"z:\",z(x_adam,y_adam), \" (x,y):\",(x_adam,y_adam))\n",
    "    \n",
    "    i+=1\n",
    "    "
   ]
  },
  {
   "cell_type": "markdown",
   "metadata": {},
   "source": [
    "Convnet is straightforward formula substitution from https://cs231n.github.io/convolutional-networks/\n",
    "Conv1: Output Volume: 62 x 62 x 10\n",
    "Num Weights: 12000\n",
    "Num Baises: 10\n",
    "Poo1: Output Volume: 30 x 30 x 10\n",
    "Num Weights: 0\n",
    "Num Baises: 0"
   ]
  }
 ],
 "metadata": {
  "kernelspec": {
   "display_name": "Python 3",
   "language": "python",
   "name": "python3"
  },
  "language_info": {
   "codemirror_mode": {
    "name": "ipython",
    "version": 3
   },
   "file_extension": ".py",
   "mimetype": "text/x-python",
   "name": "python",
   "nbconvert_exporter": "python",
   "pygments_lexer": "ipython3",
   "version": "3.6.10"
  }
 },
 "nbformat": 4,
 "nbformat_minor": 4
}
