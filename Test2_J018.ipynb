{
 "cells": [
  {
   "cell_type": "markdown",
   "metadata": {},
   "source": [
    "# Vishesh Gupta - J018"
   ]
  },
  {
   "cell_type": "markdown",
   "metadata": {
    "colab_type": "text",
    "id": "aF3SeqY5-zU-"
   },
   "source": [
    "# Loading the Libraries"
   ]
  },
  {
   "cell_type": "code",
   "execution_count": 1,
   "metadata": {
    "ExecuteTime": {
     "end_time": "2020-03-01T12:40:07.635663Z",
     "start_time": "2020-03-01T12:40:07.187375Z"
    },
    "colab": {},
    "colab_type": "code",
    "id": "p-bzygDJrkDu"
   },
   "outputs": [],
   "source": [
    "import numpy as np\n",
    "import pandas as pd\n",
    "import cv2\n",
    "import PIL.Image\n",
    "import os"
   ]
  },
  {
   "cell_type": "markdown",
   "metadata": {
    "colab_type": "text",
    "id": "t49iLxvo-7vQ"
   },
   "source": [
    "# **Preparing the data**"
   ]
  },
  {
   "cell_type": "markdown",
   "metadata": {
    "colab_type": "text",
    "id": "lsu3P-nC_Ip4"
   },
   "source": [
    "# 2.1) Making the functions to get the training and validation set from the Images"
   ]
  },
  {
   "cell_type": "code",
   "execution_count": 2,
   "metadata": {
    "colab": {},
    "colab_type": "code",
    "id": "Bj1LWocIxkRu"
   },
   "outputs": [],
   "source": [
    "X=[]\n",
    "Z=[]\n",
    "IMG_SIZE=150\n",
    "AGRICULTURAL_DIR='D:/Documents/Python Codes/DL MPSTME/UCMerced_LandUse/Images/agricultural' \n",
    "AIRPLANE_DIR='D:/Documents/Python Codes/DL MPSTME/UCMerced_LandUse/Images/airplane'\n",
    "BASEBALLDIAMOND_DIR='D:/Documents/Python Codes/DL MPSTME/UCMerced_LandUse/Images/baseballdiamond'\n",
    "BEACH_DIR='D:/Documents/Python Codes/DL MPSTME/UCMerced_LandUse/Images/beach'\n",
    "BUILDINGS_DIR='D:/Documents/Python Codes/DL MPSTME/UCMerced_LandUse/Images/buildings'\n",
    "CHAPARRAL_DIR='D:/Documents/Python Codes/DL MPSTME/UCMerced_LandUse/Images/chaparral'\n",
    "DENSERESIDENTIAL_DIR='D:/Documents/Python Codes/DL MPSTME/UCMerced_LandUse/Images/denseresidential'\n",
    "FOREST_DIR='D:/Documents/Python Codes/DL MPSTME/UCMerced_LandUse/Images/forest'\n",
    "FREEWAY_DIR='D:/Documents/Python Codes/DL MPSTME/UCMerced_LandUse/Images/freeway'\n",
    "GOLFCOURSE_DIR='D:/Documents/Python Codes/DL MPSTME/UCMerced_LandUse/Images/golfcourse'\n",
    "HARBOR_DIR='D:/Documents/Python Codes/DL MPSTME/UCMerced_LandUse/Images/harbor'\n",
    "INTERSECTION_DIR='D:/Documents/Python Codes/DL MPSTME/UCMerced_LandUse/Images/intersection'\n",
    "MEDIUMRESIDENTIAL_DIR='D:/Documents/Python Codes/DL MPSTME/UCMerced_LandUse/Images/mediumresidential'\n",
    "MOBILEHOMEPARK_DIR='D:/Documents/Python Codes/DL MPSTME/UCMerced_LandUse/Images/mobilehomepark'\n",
    "OVERPASS_DIR='D:/Documents/Python Codes/DL MPSTME/UCMerced_LandUse/Images/overpass'\n",
    "PARKINGLOT_DIR='D:/Documents/Python Codes/DL MPSTME/UCMerced_LandUse/Images/parkinglot'\n",
    "RIVER_DIR='D:/Documents/Python Codes/DL MPSTME/UCMerced_LandUse/Images/river'\n",
    "RUNWAY_DIR='D:/Documents/Python Codes/DL MPSTME/UCMerced_LandUse/Images/runway'\n",
    "SPARSERESIDENTIAL_DIR='D:/Documents/Python Codes/DL MPSTME/UCMerced_LandUse/Images/sparseresidential'\n",
    "STORAGETANKS_DIR='D:/Documents/Python Codes/DL MPSTME/UCMerced_LandUse/Images/storagetanks'\n",
    "TENNISCOURT_DIR='D:/Documents/Python Codes/DL MPSTME/UCMerced_LandUse/Images/tenniscourt'"
   ]
  },
  {
   "cell_type": "code",
   "execution_count": 3,
   "metadata": {
    "colab": {},
    "colab_type": "code",
    "id": "D8wCcPnR4pQh"
   },
   "outputs": [],
   "source": [
    "def assign_label(img,image_type):\n",
    "    return image_type"
   ]
  },
  {
   "cell_type": "code",
   "execution_count": 4,
   "metadata": {
    "colab": {},
    "colab_type": "code",
    "id": "FQZNJsn84tas"
   },
   "outputs": [],
   "source": [
    "def make_train_data(image_type,DIR):\n",
    "    for img in tqdm(os.listdir(DIR)):\n",
    "        label=assign_label(img,image_type)\n",
    "        path = os.path.join(DIR,img)\n",
    "        img = cv2.imread(path,cv2.IMREAD_COLOR)\n",
    "        img = cv2.resize(img, (IMG_SIZE,IMG_SIZE))\n",
    "        \n",
    "        X.append(np.array(img))\n",
    "        Z.append(str(label))"
   ]
  },
  {
   "cell_type": "code",
   "execution_count": 5,
   "metadata": {
    "colab": {},
    "colab_type": "code",
    "id": "0EvBxW6_4vsl"
   },
   "outputs": [],
   "source": [
    "from tqdm import tqdm"
   ]
  },
  {
   "cell_type": "code",
   "execution_count": 6,
   "metadata": {
    "colab": {
     "base_uri": "https://localhost:8080/",
     "height": 50
    },
    "colab_type": "code",
    "id": "Z8oZCt2h4xr2",
    "outputId": "ba9cc850-e142-4289-8136-bcc54772ef22"
   },
   "outputs": [
    {
     "name": "stderr",
     "output_type": "stream",
     "text": [
      "100%|██████████████████████████████████████████████████████████████████████████████| 100/100 [00:00<00:00, 1670.11it/s]"
     ]
    },
    {
     "name": "stdout",
     "output_type": "stream",
     "text": [
      "100\n"
     ]
    },
    {
     "name": "stderr",
     "output_type": "stream",
     "text": [
      "\n"
     ]
    }
   ],
   "source": [
    "make_train_data('Agricultural',AGRICULTURAL_DIR)\n",
    "print(len(X))"
   ]
  },
  {
   "cell_type": "code",
   "execution_count": 7,
   "metadata": {
    "colab": {
     "base_uri": "https://localhost:8080/",
     "height": 50
    },
    "colab_type": "code",
    "id": "PGlimA1g43hE",
    "outputId": "6db56eb1-7774-4f58-ae95-67b6c1d6d8ab"
   },
   "outputs": [
    {
     "name": "stderr",
     "output_type": "stream",
     "text": [
      "100%|██████████████████████████████████████████████████████████████████████████████| 100/100 [00:00<00:00, 1823.06it/s]"
     ]
    },
    {
     "name": "stdout",
     "output_type": "stream",
     "text": [
      "200\n"
     ]
    },
    {
     "name": "stderr",
     "output_type": "stream",
     "text": [
      "\n"
     ]
    }
   ],
   "source": [
    "make_train_data('Airplane',AIRPLANE_DIR)\n",
    "print(len(X))"
   ]
  },
  {
   "cell_type": "code",
   "execution_count": 8,
   "metadata": {
    "colab": {
     "base_uri": "https://localhost:8080/",
     "height": 50
    },
    "colab_type": "code",
    "id": "3q0K3Cph489i",
    "outputId": "deb6f12b-491c-4524-f598-b85592af415d"
   },
   "outputs": [
    {
     "name": "stderr",
     "output_type": "stream",
     "text": [
      "100%|██████████████████████████████████████████████████████████████████████████████| 100/100 [00:00<00:00, 1671.14it/s]"
     ]
    },
    {
     "name": "stdout",
     "output_type": "stream",
     "text": [
      "300\n"
     ]
    },
    {
     "name": "stderr",
     "output_type": "stream",
     "text": [
      "\n"
     ]
    }
   ],
   "source": [
    "make_train_data('Baseball Diamond',BASEBALLDIAMOND_DIR)\n",
    "print(len(X))"
   ]
  },
  {
   "cell_type": "code",
   "execution_count": 9,
   "metadata": {
    "colab": {
     "base_uri": "https://localhost:8080/",
     "height": 50
    },
    "colab_type": "code",
    "id": "xwlVeNjV4_Do",
    "outputId": "6bbe98d4-fe7b-446d-8360-2dfefb4a25ba"
   },
   "outputs": [
    {
     "name": "stderr",
     "output_type": "stream",
     "text": [
      "100%|██████████████████████████████████████████████████████████████████████████████| 100/100 [00:00<00:00, 1856.04it/s]"
     ]
    },
    {
     "name": "stdout",
     "output_type": "stream",
     "text": [
      "400\n"
     ]
    },
    {
     "name": "stderr",
     "output_type": "stream",
     "text": [
      "\n"
     ]
    }
   ],
   "source": [
    "make_train_data('Beach',BEACH_DIR)\n",
    "print(len(X))"
   ]
  },
  {
   "cell_type": "code",
   "execution_count": 10,
   "metadata": {
    "colab": {
     "base_uri": "https://localhost:8080/",
     "height": 50
    },
    "colab_type": "code",
    "id": "Jbk2034Q5Lq8",
    "outputId": "0353fd08-c821-49f4-8712-e0b7f7b7ed61"
   },
   "outputs": [
    {
     "name": "stderr",
     "output_type": "stream",
     "text": [
      "100%|██████████████████████████████████████████████████████████████████████████████| 100/100 [00:00<00:00, 1759.11it/s]"
     ]
    },
    {
     "name": "stdout",
     "output_type": "stream",
     "text": [
      "500\n"
     ]
    },
    {
     "name": "stderr",
     "output_type": "stream",
     "text": [
      "\n"
     ]
    }
   ],
   "source": [
    "make_train_data('Buildings',BUILDINGS_DIR)\n",
    "print(len(X))"
   ]
  },
  {
   "cell_type": "code",
   "execution_count": 11,
   "metadata": {
    "colab": {
     "base_uri": "https://localhost:8080/",
     "height": 50
    },
    "colab_type": "code",
    "id": "HtoA_9w95OC7",
    "outputId": "f2df13ff-0c09-49fb-a873-1b8b302291ce"
   },
   "outputs": [
    {
     "name": "stderr",
     "output_type": "stream",
     "text": [
      "100%|██████████████████████████████████████████████████████████████████████████████| 100/100 [00:00<00:00, 1790.53it/s]"
     ]
    },
    {
     "name": "stdout",
     "output_type": "stream",
     "text": [
      "600\n"
     ]
    },
    {
     "name": "stderr",
     "output_type": "stream",
     "text": [
      "\n"
     ]
    }
   ],
   "source": [
    "make_train_data('Chaparral',CHAPARRAL_DIR)\n",
    "print(len(X))"
   ]
  },
  {
   "cell_type": "code",
   "execution_count": 12,
   "metadata": {
    "colab": {
     "base_uri": "https://localhost:8080/",
     "height": 50
    },
    "colab_type": "code",
    "id": "K7UEuFPV5PLF",
    "outputId": "07cfbcb0-b0c0-4c8b-c0fc-bbfd0ce2f719"
   },
   "outputs": [
    {
     "name": "stderr",
     "output_type": "stream",
     "text": [
      "100%|██████████████████████████████████████████████████████████████████████████████| 100/100 [00:00<00:00, 1823.06it/s]"
     ]
    },
    {
     "name": "stdout",
     "output_type": "stream",
     "text": [
      "700\n"
     ]
    },
    {
     "name": "stderr",
     "output_type": "stream",
     "text": [
      "\n"
     ]
    }
   ],
   "source": [
    "make_train_data('Dense Residential',DENSERESIDENTIAL_DIR)\n",
    "print(len(X))"
   ]
  },
  {
   "cell_type": "code",
   "execution_count": 13,
   "metadata": {
    "colab": {
     "base_uri": "https://localhost:8080/",
     "height": 50
    },
    "colab_type": "code",
    "id": "p0QSbXFH5hTS",
    "outputId": "54b1f97a-ec57-4e0c-ec1e-10327af25439"
   },
   "outputs": [
    {
     "name": "stderr",
     "output_type": "stream",
     "text": [
      "100%|██████████████████████████████████████████████████████████████████████████████| 100/100 [00:00<00:00, 1856.80it/s]"
     ]
    },
    {
     "name": "stdout",
     "output_type": "stream",
     "text": [
      "800\n"
     ]
    },
    {
     "name": "stderr",
     "output_type": "stream",
     "text": [
      "\n"
     ]
    }
   ],
   "source": [
    "make_train_data('Forest',FOREST_DIR)\n",
    "print(len(X))"
   ]
  },
  {
   "cell_type": "code",
   "execution_count": 14,
   "metadata": {
    "colab": {
     "base_uri": "https://localhost:8080/",
     "height": 50
    },
    "colab_type": "code",
    "id": "wNyeJpBe5hwo",
    "outputId": "7a5c4c2d-c6c4-4473-8a50-f7bf40cfe703"
   },
   "outputs": [
    {
     "name": "stderr",
     "output_type": "stream",
     "text": [
      "100%|██████████████████████████████████████████████████████████████████████████████| 100/100 [00:00<00:00, 1789.24it/s]"
     ]
    },
    {
     "name": "stdout",
     "output_type": "stream",
     "text": [
      "900\n"
     ]
    },
    {
     "name": "stderr",
     "output_type": "stream",
     "text": [
      "\n"
     ]
    }
   ],
   "source": [
    "make_train_data('Freeway',FREEWAY_DIR)\n",
    "print(len(X))"
   ]
  },
  {
   "cell_type": "code",
   "execution_count": 15,
   "metadata": {
    "colab": {
     "base_uri": "https://localhost:8080/",
     "height": 50
    },
    "colab_type": "code",
    "id": "nGnzUx5K53-2",
    "outputId": "985b7d5c-07e6-4f39-fc5a-c3fb6c97b596"
   },
   "outputs": [
    {
     "name": "stderr",
     "output_type": "stream",
     "text": [
      "100%|██████████████████████████████████████████████████████████████████████████████| 100/100 [00:00<00:00, 1699.62it/s]"
     ]
    },
    {
     "name": "stdout",
     "output_type": "stream",
     "text": [
      "1000\n"
     ]
    },
    {
     "name": "stderr",
     "output_type": "stream",
     "text": [
      "\n"
     ]
    }
   ],
   "source": [
    "make_train_data('Golfcourse',GOLFCOURSE_DIR)\n",
    "print(len(X))"
   ]
  },
  {
   "cell_type": "code",
   "execution_count": 16,
   "metadata": {
    "colab": {
     "base_uri": "https://localhost:8080/",
     "height": 50
    },
    "colab_type": "code",
    "id": "iNgjHnuZ6LCa",
    "outputId": "ca02ba7d-2f54-4591-f172-d0e99189232a"
   },
   "outputs": [
    {
     "name": "stderr",
     "output_type": "stream",
     "text": [
      "100%|██████████████████████████████████████████████████████████████████████████████| 100/100 [00:00<00:00, 1699.50it/s]"
     ]
    },
    {
     "name": "stdout",
     "output_type": "stream",
     "text": [
      "1100\n"
     ]
    },
    {
     "name": "stderr",
     "output_type": "stream",
     "text": [
      "\n"
     ]
    }
   ],
   "source": [
    "make_train_data('Harbor',HARBOR_DIR)\n",
    "print(len(X))"
   ]
  },
  {
   "cell_type": "code",
   "execution_count": 17,
   "metadata": {
    "colab": {
     "base_uri": "https://localhost:8080/",
     "height": 50
    },
    "colab_type": "code",
    "id": "oul7FHPp6PlR",
    "outputId": "d1aa050d-bafa-4735-b332-dfbe0c4c539d"
   },
   "outputs": [
    {
     "name": "stderr",
     "output_type": "stream",
     "text": [
      "100%|██████████████████████████████████████████████████████████████████████████████| 100/100 [00:00<00:00, 1789.68it/s]"
     ]
    },
    {
     "name": "stdout",
     "output_type": "stream",
     "text": [
      "1200\n"
     ]
    },
    {
     "name": "stderr",
     "output_type": "stream",
     "text": [
      "\n"
     ]
    }
   ],
   "source": [
    "make_train_data('Intersection',INTERSECTION_DIR)\n",
    "print(len(X))"
   ]
  },
  {
   "cell_type": "code",
   "execution_count": 18,
   "metadata": {
    "colab": {
     "base_uri": "https://localhost:8080/",
     "height": 50
    },
    "colab_type": "code",
    "id": "cTCOjxmD6UYW",
    "outputId": "c73fbcce-ad40-4996-b2e8-0d633af06e60"
   },
   "outputs": [
    {
     "name": "stderr",
     "output_type": "stream",
     "text": [
      "100%|██████████████████████████████████████████████████████████████████████████████| 100/100 [00:00<00:00, 1821.74it/s]"
     ]
    },
    {
     "name": "stdout",
     "output_type": "stream",
     "text": [
      "1300\n"
     ]
    },
    {
     "name": "stderr",
     "output_type": "stream",
     "text": [
      "\n"
     ]
    }
   ],
   "source": [
    "make_train_data('Medium Residential',MEDIUMRESIDENTIAL_DIR)\n",
    "print(len(X))"
   ]
  },
  {
   "cell_type": "code",
   "execution_count": 19,
   "metadata": {
    "colab": {
     "base_uri": "https://localhost:8080/",
     "height": 50
    },
    "colab_type": "code",
    "id": "P1KwWifp6Z4G",
    "outputId": "767bd7af-c590-48a1-826a-c292c70b40ea"
   },
   "outputs": [
    {
     "name": "stderr",
     "output_type": "stream",
     "text": [
      "100%|██████████████████████████████████████████████████████████████████████████████| 100/100 [00:00<00:00, 1727.99it/s]"
     ]
    },
    {
     "name": "stdout",
     "output_type": "stream",
     "text": [
      "1400\n"
     ]
    },
    {
     "name": "stderr",
     "output_type": "stream",
     "text": [
      "\n"
     ]
    }
   ],
   "source": [
    "make_train_data('Mobile Home Park',MOBILEHOMEPARK_DIR)\n",
    "print(len(X))"
   ]
  },
  {
   "cell_type": "code",
   "execution_count": 20,
   "metadata": {
    "colab": {
     "base_uri": "https://localhost:8080/",
     "height": 50
    },
    "colab_type": "code",
    "id": "oYQwhtWu6hYe",
    "outputId": "c6db8aa0-6f73-464b-c00e-7e55b431e9d2"
   },
   "outputs": [
    {
     "name": "stderr",
     "output_type": "stream",
     "text": [
      "100%|██████████████████████████████████████████████████████████████████████████████| 100/100 [00:00<00:00, 1728.64it/s]"
     ]
    },
    {
     "name": "stdout",
     "output_type": "stream",
     "text": [
      "1500\n"
     ]
    },
    {
     "name": "stderr",
     "output_type": "stream",
     "text": [
      "\n"
     ]
    }
   ],
   "source": [
    "make_train_data('Overpass',OVERPASS_DIR)\n",
    "print(len(X))"
   ]
  },
  {
   "cell_type": "code",
   "execution_count": 21,
   "metadata": {
    "colab": {
     "base_uri": "https://localhost:8080/",
     "height": 50
    },
    "colab_type": "code",
    "id": "_n-9yGXy6raE",
    "outputId": "171bfbc9-0e85-4c94-86ec-f1e426b3502c"
   },
   "outputs": [
    {
     "name": "stderr",
     "output_type": "stream",
     "text": [
      "100%|██████████████████████████████████████████████████████████████████████████████| 100/100 [00:00<00:00, 1698.43it/s]"
     ]
    },
    {
     "name": "stdout",
     "output_type": "stream",
     "text": [
      "1600\n"
     ]
    },
    {
     "name": "stderr",
     "output_type": "stream",
     "text": [
      "\n"
     ]
    }
   ],
   "source": [
    "make_train_data('Parking Lot',PARKINGLOT_DIR)\n",
    "print(len(X))"
   ]
  },
  {
   "cell_type": "code",
   "execution_count": 22,
   "metadata": {
    "colab": {
     "base_uri": "https://localhost:8080/",
     "height": 50
    },
    "colab_type": "code",
    "id": "W7gazX6u6v1V",
    "outputId": "2f845c5f-d06e-46db-98f6-ebe0cd11a6c8"
   },
   "outputs": [
    {
     "name": "stderr",
     "output_type": "stream",
     "text": [
      "100%|██████████████████████████████████████████████████████████████████████████████| 100/100 [00:00<00:00, 1789.66it/s]"
     ]
    },
    {
     "name": "stdout",
     "output_type": "stream",
     "text": [
      "1700\n"
     ]
    },
    {
     "name": "stderr",
     "output_type": "stream",
     "text": [
      "\n"
     ]
    }
   ],
   "source": [
    "make_train_data('River',RIVER_DIR)\n",
    "print(len(X))"
   ]
  },
  {
   "cell_type": "code",
   "execution_count": 23,
   "metadata": {
    "colab": {
     "base_uri": "https://localhost:8080/",
     "height": 50
    },
    "colab_type": "code",
    "id": "W5WXOGbk6zKM",
    "outputId": "af75363e-d97e-4978-d704-4372ebe44f30"
   },
   "outputs": [
    {
     "name": "stderr",
     "output_type": "stream",
     "text": [
      "100%|██████████████████████████████████████████████████████████████████████████████| 100/100 [00:00<00:00, 1823.05it/s]"
     ]
    },
    {
     "name": "stdout",
     "output_type": "stream",
     "text": [
      "1800\n"
     ]
    },
    {
     "name": "stderr",
     "output_type": "stream",
     "text": [
      "\n"
     ]
    }
   ],
   "source": [
    "make_train_data('Runway',RUNWAY_DIR)\n",
    "print(len(X))"
   ]
  },
  {
   "cell_type": "code",
   "execution_count": 24,
   "metadata": {
    "colab": {
     "base_uri": "https://localhost:8080/",
     "height": 50
    },
    "colab_type": "code",
    "id": "Xqv7nBV362tC",
    "outputId": "5f8c323d-5583-4a3f-ec64-b2aa3158599c"
   },
   "outputs": [
    {
     "name": "stderr",
     "output_type": "stream",
     "text": [
      "100%|██████████████████████████████████████████████████████████████████████████████| 100/100 [00:00<00:00, 1757.98it/s]"
     ]
    },
    {
     "name": "stdout",
     "output_type": "stream",
     "text": [
      "1900\n"
     ]
    },
    {
     "name": "stderr",
     "output_type": "stream",
     "text": [
      "\n"
     ]
    }
   ],
   "source": [
    "make_train_data('Sparse Residential',SPARSERESIDENTIAL_DIR)\n",
    "print(len(X))"
   ]
  },
  {
   "cell_type": "code",
   "execution_count": 25,
   "metadata": {
    "colab": {
     "base_uri": "https://localhost:8080/",
     "height": 50
    },
    "colab_type": "code",
    "id": "19In7umf68g7",
    "outputId": "bd53d6e5-de85-4612-bc13-3c3ec0c3b0f6"
   },
   "outputs": [
    {
     "name": "stderr",
     "output_type": "stream",
     "text": [
      "100%|██████████████████████████████████████████████████████████████████████████████| 100/100 [00:00<00:00, 1671.18it/s]"
     ]
    },
    {
     "name": "stdout",
     "output_type": "stream",
     "text": [
      "2000\n"
     ]
    },
    {
     "name": "stderr",
     "output_type": "stream",
     "text": [
      "\n"
     ]
    }
   ],
   "source": [
    "make_train_data('Storage Tanks',STORAGETANKS_DIR)\n",
    "print(len(X))"
   ]
  },
  {
   "cell_type": "code",
   "execution_count": 26,
   "metadata": {
    "colab": {
     "base_uri": "https://localhost:8080/",
     "height": 50
    },
    "colab_type": "code",
    "id": "6kMMcCm07Hxl",
    "outputId": "007e3592-5aa5-4230-cfc5-1c85e75ac350"
   },
   "outputs": [
    {
     "name": "stderr",
     "output_type": "stream",
     "text": [
      "100%|██████████████████████████████████████████████████████████████████████████████| 100/100 [00:00<00:00, 1591.42it/s]"
     ]
    },
    {
     "name": "stdout",
     "output_type": "stream",
     "text": [
      "2100\n"
     ]
    },
    {
     "name": "stderr",
     "output_type": "stream",
     "text": [
      "\n"
     ]
    }
   ],
   "source": [
    "make_train_data('Tennis Court',TENNISCOURT_DIR)\n",
    "print(len(X))"
   ]
  },
  {
   "cell_type": "markdown",
   "metadata": {
    "colab_type": "text",
    "id": "3JQP5XHH_OHw"
   },
   "source": [
    "# **Importing various modules**"
   ]
  },
  {
   "cell_type": "code",
   "execution_count": 27,
   "metadata": {
    "colab": {
     "base_uri": "https://localhost:8080/",
     "height": 79
    },
    "colab_type": "code",
    "id": "8uUkE0Mu7MA9",
    "outputId": "4301fb40-0d97-4b82-b547-48da56a8187e"
   },
   "outputs": [
    {
     "name": "stderr",
     "output_type": "stream",
     "text": [
      "Using TensorFlow backend.\n"
     ]
    }
   ],
   "source": [
    "# Ignore  the warnings\n",
    "import warnings\n",
    "warnings.filterwarnings('always')\n",
    "warnings.filterwarnings('ignore')\n",
    "\n",
    "# data visualisation and manipulation\n",
    "import numpy as np\n",
    "import pandas as pd\n",
    "import matplotlib.pyplot as plt\n",
    "from matplotlib import style\n",
    "import seaborn as sns\n",
    " \n",
    "#configure\n",
    "# sets matplotlib to inline and displays graphs below the corressponding cell.\n",
    "%matplotlib inline  \n",
    "style.use('fivethirtyeight')\n",
    "sns.set(style='whitegrid',color_codes=True)\n",
    "\n",
    "#model selection\n",
    "from sklearn.model_selection import train_test_split\n",
    "from sklearn.model_selection import KFold\n",
    "from sklearn.metrics import accuracy_score,precision_score,recall_score,confusion_matrix,roc_curve,roc_auc_score\n",
    "from sklearn.model_selection import GridSearchCV\n",
    "from sklearn.preprocessing import LabelEncoder\n",
    "\n",
    "#preprocess.\n",
    "from keras.preprocessing.image import ImageDataGenerator\n",
    "\n",
    "#dl libraraies\n",
    "from keras import backend as K\n",
    "from keras.models import Sequential\n",
    "from keras.layers import Dense\n",
    "from keras.optimizers import Adam,SGD,Adagrad,Adadelta,RMSprop\n",
    "from keras.utils import to_categorical\n",
    "\n",
    "# specifically for cnn\n",
    "from keras.layers import Dropout, Flatten,Activation\n",
    "from keras.layers import Conv2D, MaxPooling2D, BatchNormalization\n",
    " \n",
    "import tensorflow as tf\n",
    "import random as rn\n",
    "\n",
    "# specifically for manipulating zipped images and getting numpy arrays of pixel values of images.\n",
    "import cv2                  \n",
    "import numpy as np  \n",
    "from tqdm import tqdm\n",
    "import os                   \n",
    "from random import shuffle  \n",
    "from zipfile import ZipFile\n",
    "from PIL import Image"
   ]
  },
  {
   "cell_type": "markdown",
   "metadata": {
    "colab_type": "text",
    "id": "Kj-SgXwq_Sfp"
   },
   "source": [
    "# 2.2 ) Label Encoding the Y array (i.e. agricultural->0, airplane->1 etc...) & then One Hot Encoding"
   ]
  },
  {
   "cell_type": "code",
   "execution_count": 28,
   "metadata": {
    "colab": {},
    "colab_type": "code",
    "id": "qs7-XRaT7Qqt"
   },
   "outputs": [],
   "source": [
    "le=LabelEncoder()\n",
    "Y=le.fit_transform(Z)\n",
    "Y=to_categorical(Y,21)\n",
    "X=np.array(X)\n",
    "X=X/255"
   ]
  },
  {
   "cell_type": "markdown",
   "metadata": {
    "colab_type": "text",
    "id": "KIXJhD3r_gXo"
   },
   "source": [
    "# 2.3) Splitting into Training and Validation Sets"
   ]
  },
  {
   "cell_type": "code",
   "execution_count": 29,
   "metadata": {
    "colab": {},
    "colab_type": "code",
    "id": "rG4oaC4C7V55"
   },
   "outputs": [],
   "source": [
    "x_train,x_test,y_train,y_test=train_test_split(X,Y,test_size=0.25,random_state=42)"
   ]
  },
  {
   "cell_type": "markdown",
   "metadata": {
    "colab_type": "text",
    "id": "T9uOEm_w_hy7"
   },
   "source": [
    "# 2.4 ) Setting the Random Seeds"
   ]
  },
  {
   "cell_type": "code",
   "execution_count": 30,
   "metadata": {
    "colab": {},
    "colab_type": "code",
    "id": "C7ChBwcv7Zji"
   },
   "outputs": [],
   "source": [
    "np.random.seed(42)\n",
    "rn.seed(42)\n",
    "tf.random.set_seed(42)"
   ]
  },
  {
   "cell_type": "markdown",
   "metadata": {
    "colab_type": "text",
    "id": "lNmnxM9__lWU"
   },
   "source": [
    "# **3 ) Modelling**"
   ]
  },
  {
   "cell_type": "markdown",
   "metadata": {
    "colab_type": "text",
    "id": "Ac2TBejM_oqn"
   },
   "source": [
    "# 3.1 ) Building the ConvNet Model"
   ]
  },
  {
   "cell_type": "code",
   "execution_count": 31,
   "metadata": {
    "colab": {
     "base_uri": "https://localhost:8080/",
     "height": 171
    },
    "colab_type": "code",
    "id": "KfDv23Yq7bZc",
    "outputId": "670a2cba-1340-4134-b9dc-a89f13a352f3"
   },
   "outputs": [],
   "source": [
    "# # modelling starts using a CNN.\n",
    "\n",
    "model = Sequential()\n",
    "model.add(Conv2D(filters = 32, kernel_size = (5,5),padding = 'Same',activation ='relu', input_shape = (150,150,3)))\n",
    "model.add(MaxPooling2D(pool_size=(2,2)))\n",
    "\n",
    "\n",
    "model.add(Conv2D(filters = 64, kernel_size = (3,3),padding = 'Same',activation ='relu'))\n",
    "model.add(MaxPooling2D(pool_size=(2,2), strides=(2,2)))\n",
    " \n",
    "\n",
    "model.add(Conv2D(filters =96, kernel_size = (3,3),padding = 'Same',activation ='relu'))\n",
    "model.add(MaxPooling2D(pool_size=(2,2), strides=(2,2)))\n",
    "\n",
    "model.add(Conv2D(filters = 96, kernel_size = (3,3),padding = 'Same',activation ='relu'))\n",
    "model.add(MaxPooling2D(pool_size=(2,2), strides=(2,2)))\n",
    "\n",
    "model.add(Flatten())\n",
    "model.add(Dense(512))\n",
    "model.add(Activation('relu'))\n",
    "model.add(Dense(21, activation = \"softmax\"))"
   ]
  },
  {
   "cell_type": "markdown",
   "metadata": {
    "colab_type": "text",
    "id": "a--8PqlX_umH"
   },
   "source": [
    "# 3.2 ) Using a LR Annealer"
   ]
  },
  {
   "cell_type": "code",
   "execution_count": 32,
   "metadata": {
    "colab": {},
    "colab_type": "code",
    "id": "yWB0P4F97lsQ"
   },
   "outputs": [],
   "source": [
    "batch_size=21\n",
    "epochs=50\n",
    "\n",
    "from keras.callbacks import ReduceLROnPlateau\n",
    "red_lr= ReduceLROnPlateau(monitor='val_acc',patience=3,verbose=1,factor=0.1)"
   ]
  },
  {
   "cell_type": "markdown",
   "metadata": {
    "colab_type": "text",
    "id": "ii7mBWmg_x8U"
   },
   "source": [
    "# 3.3 ) Data Augmentation to prevent Overfitting\n"
   ]
  },
  {
   "cell_type": "code",
   "execution_count": 33,
   "metadata": {
    "colab": {},
    "colab_type": "code",
    "id": "wrVXoNxP7seJ"
   },
   "outputs": [],
   "source": [
    "datagen = ImageDataGenerator(\n",
    "        featurewise_center=False,  # set input mean to 0 over the dataset\n",
    "        samplewise_center=False,  # set each sample mean to 0\n",
    "        featurewise_std_normalization=False,  # divide inputs by std of the dataset\n",
    "        samplewise_std_normalization=False,  # divide each input by its std\n",
    "        zca_whitening=False,  # apply ZCA whitening\n",
    "        rotation_range=10,  # randomly rotate images in the range (degrees, 0 to 180)\n",
    "        zoom_range = 0.1, # Randomly zoom image \n",
    "        width_shift_range=0.2,  # randomly shift images horizontally (fraction of total width)\n",
    "        height_shift_range=0.2,  # randomly shift images vertically (fraction of total height)\n",
    "        horizontal_flip=True,  # randomly flip images\n",
    "        vertical_flip=False)  # randomly flip images\n",
    "\n",
    "\n",
    "datagen.fit(x_train)"
   ]
  },
  {
   "cell_type": "markdown",
   "metadata": {
    "colab_type": "text",
    "id": "7Fux6dRb_1G0"
   },
   "source": [
    "# 3.4 ) Compiling the Keras Model & Summary"
   ]
  },
  {
   "cell_type": "code",
   "execution_count": 34,
   "metadata": {
    "colab": {
     "base_uri": "https://localhost:8080/",
     "height": 154
    },
    "colab_type": "code",
    "id": "WHVPZRd_7xP_",
    "outputId": "5019f4ed-46cd-42b9-a27f-ba52826d5172"
   },
   "outputs": [],
   "source": [
    "model.compile(optimizer=Adam(lr=0.001),loss='binary_crossentropy',metrics=['accuracy'])"
   ]
  },
  {
   "cell_type": "code",
   "execution_count": 35,
   "metadata": {
    "colab": {
     "base_uri": "https://localhost:8080/",
     "height": 554
    },
    "colab_type": "code",
    "id": "BRjC5tVW7zDo",
    "outputId": "3d7670d5-cbea-445c-fc6e-06e86c1af25f"
   },
   "outputs": [
    {
     "name": "stdout",
     "output_type": "stream",
     "text": [
      "Model: \"sequential_1\"\n",
      "_________________________________________________________________\n",
      "Layer (type)                 Output Shape              Param #   \n",
      "=================================================================\n",
      "conv2d_1 (Conv2D)            (None, 150, 150, 32)      2432      \n",
      "_________________________________________________________________\n",
      "max_pooling2d_1 (MaxPooling2 (None, 75, 75, 32)        0         \n",
      "_________________________________________________________________\n",
      "conv2d_2 (Conv2D)            (None, 75, 75, 64)        18496     \n",
      "_________________________________________________________________\n",
      "max_pooling2d_2 (MaxPooling2 (None, 37, 37, 64)        0         \n",
      "_________________________________________________________________\n",
      "conv2d_3 (Conv2D)            (None, 37, 37, 96)        55392     \n",
      "_________________________________________________________________\n",
      "max_pooling2d_3 (MaxPooling2 (None, 18, 18, 96)        0         \n",
      "_________________________________________________________________\n",
      "conv2d_4 (Conv2D)            (None, 18, 18, 96)        83040     \n",
      "_________________________________________________________________\n",
      "max_pooling2d_4 (MaxPooling2 (None, 9, 9, 96)          0         \n",
      "_________________________________________________________________\n",
      "flatten_1 (Flatten)          (None, 7776)              0         \n",
      "_________________________________________________________________\n",
      "dense_1 (Dense)              (None, 512)               3981824   \n",
      "_________________________________________________________________\n",
      "activation_1 (Activation)    (None, 512)               0         \n",
      "_________________________________________________________________\n",
      "dense_2 (Dense)              (None, 21)                10773     \n",
      "=================================================================\n",
      "Total params: 4,151,957\n",
      "Trainable params: 4,151,957\n",
      "Non-trainable params: 0\n",
      "_________________________________________________________________\n"
     ]
    }
   ],
   "source": [
    "model.summary()"
   ]
  },
  {
   "cell_type": "markdown",
   "metadata": {
    "colab_type": "text",
    "id": "4sXGvVh7_49c"
   },
   "source": [
    "# 3.5 ) Fitting on the Training set and making predcitons on the Validation set"
   ]
  },
  {
   "cell_type": "code",
   "execution_count": 36,
   "metadata": {
    "colab": {
     "base_uri": "https://localhost:8080/",
     "height": 1000
    },
    "colab_type": "code",
    "id": "rBzDssSu71S3",
    "outputId": "80567e92-a3ab-4c0d-d957-b71e4d41780d"
   },
   "outputs": [
    {
     "name": "stdout",
     "output_type": "stream",
     "text": [
      "Epoch 1/50\n",
      "75/75 [==============================] - 31s 411ms/step - loss: 0.1907 - accuracy: 0.9524 - val_loss: 0.1884 - val_accuracy: 0.9524\n",
      "Epoch 2/50\n",
      "75/75 [==============================] - 35s 462ms/step - loss: 0.1760 - accuracy: 0.9524 - val_loss: 0.1598 - val_accuracy: 0.9526\n",
      "Epoch 3/50\n",
      "75/75 [==============================] - 35s 462ms/step - loss: 0.1574 - accuracy: 0.9530 - val_loss: 0.1642 - val_accuracy: 0.9540\n",
      "Epoch 4/50\n",
      "75/75 [==============================] - 35s 462ms/step - loss: 0.1412 - accuracy: 0.9553 - val_loss: 0.1194 - val_accuracy: 0.9581\n",
      "Epoch 5/50\n",
      "75/75 [==============================] - 35s 466ms/step - loss: 0.1278 - accuracy: 0.9572 - val_loss: 0.1078 - val_accuracy: 0.9623\n",
      "Epoch 6/50\n",
      "75/75 [==============================] - 35s 462ms/step - loss: 0.1154 - accuracy: 0.9600 - val_loss: 0.1052 - val_accuracy: 0.9651\n",
      "Epoch 7/50\n",
      "75/75 [==============================] - 36s 480ms/step - loss: 0.1080 - accuracy: 0.9623 - val_loss: 0.0940 - val_accuracy: 0.9668\n",
      "Epoch 8/50\n",
      "75/75 [==============================] - 36s 479ms/step - loss: 0.0995 - accuracy: 0.9638 - val_loss: 0.0965 - val_accuracy: 0.9659\n",
      "Epoch 9/50\n",
      "75/75 [==============================] - 37s 490ms/step - loss: 0.0904 - accuracy: 0.9674 - val_loss: 0.0813 - val_accuracy: 0.9709\n",
      "Epoch 10/50\n",
      "75/75 [==============================] - 38s 501ms/step - loss: 0.0835 - accuracy: 0.9689 - val_loss: 0.0689 - val_accuracy: 0.9751\n",
      "Epoch 11/50\n",
      "75/75 [==============================] - 36s 487ms/step - loss: 0.0816 - accuracy: 0.9688 - val_loss: 0.0662 - val_accuracy: 0.9756\n",
      "Epoch 12/50\n",
      "75/75 [==============================] - 36s 483ms/step - loss: 0.0742 - accuracy: 0.9715 - val_loss: 0.0695 - val_accuracy: 0.9751\n",
      "Epoch 13/50\n",
      "75/75 [==============================] - 36s 481ms/step - loss: 0.0666 - accuracy: 0.9738 - val_loss: 0.0631 - val_accuracy: 0.9765\n",
      "Epoch 14/50\n",
      "75/75 [==============================] - 36s 481ms/step - loss: 0.0634 - accuracy: 0.9762 - val_loss: 0.0601 - val_accuracy: 0.9780\n",
      "Epoch 15/50\n",
      "75/75 [==============================] - 36s 480ms/step - loss: 0.0619 - accuracy: 0.9765 - val_loss: 0.0631 - val_accuracy: 0.9765\n",
      "Epoch 16/50\n",
      "75/75 [==============================] - 36s 481ms/step - loss: 0.0571 - accuracy: 0.9773 - val_loss: 0.0543 - val_accuracy: 0.9804\n",
      "Epoch 17/50\n",
      "75/75 [==============================] - 36s 481ms/step - loss: 0.0563 - accuracy: 0.9780 - val_loss: 0.0637 - val_accuracy: 0.9768\n",
      "Epoch 18/50\n",
      "75/75 [==============================] - 36s 483ms/step - loss: 0.0516 - accuracy: 0.9802 - val_loss: 0.0468 - val_accuracy: 0.9825\n",
      "Epoch 19/50\n",
      "75/75 [==============================] - 36s 481ms/step - loss: 0.0525 - accuracy: 0.9798 - val_loss: 0.0462 - val_accuracy: 0.9822\n",
      "Epoch 20/50\n",
      "75/75 [==============================] - 37s 488ms/step - loss: 0.0487 - accuracy: 0.9815 - val_loss: 0.0554 - val_accuracy: 0.9786\n",
      "Epoch 21/50\n",
      "75/75 [==============================] - 36s 480ms/step - loss: 0.0448 - accuracy: 0.9827 - val_loss: 0.0488 - val_accuracy: 0.9813\n",
      "Epoch 22/50\n",
      "75/75 [==============================] - 36s 479ms/step - loss: 0.0434 - accuracy: 0.9835 - val_loss: 0.0529 - val_accuracy: 0.9818\n",
      "Epoch 23/50\n",
      "75/75 [==============================] - 36s 483ms/step - loss: 0.0428 - accuracy: 0.9834 - val_loss: 0.0495 - val_accuracy: 0.9807\n",
      "Epoch 24/50\n",
      "75/75 [==============================] - 36s 482ms/step - loss: 0.0395 - accuracy: 0.9851 - val_loss: 0.0587 - val_accuracy: 0.9803\n",
      "Epoch 25/50\n",
      "75/75 [==============================] - 36s 480ms/step - loss: 0.0411 - accuracy: 0.9852 - val_loss: 0.0500 - val_accuracy: 0.9819\n",
      "Epoch 26/50\n",
      "75/75 [==============================] - 36s 482ms/step - loss: 0.0397 - accuracy: 0.9854 - val_loss: 0.0448 - val_accuracy: 0.9830\n",
      "Epoch 27/50\n",
      "75/75 [==============================] - 36s 477ms/step - loss: 0.0354 - accuracy: 0.9861 - val_loss: 0.0475 - val_accuracy: 0.9840\n",
      "Epoch 28/50\n",
      "75/75 [==============================] - 36s 481ms/step - loss: 0.0342 - accuracy: 0.9874 - val_loss: 0.0438 - val_accuracy: 0.9847\n",
      "Epoch 29/50\n",
      "75/75 [==============================] - 35s 465ms/step - loss: 0.0373 - accuracy: 0.9860 - val_loss: 0.0470 - val_accuracy: 0.9830\n",
      "Epoch 30/50\n",
      "75/75 [==============================] - 35s 466ms/step - loss: 0.0356 - accuracy: 0.9865 - val_loss: 0.0508 - val_accuracy: 0.9818\n",
      "Epoch 31/50\n",
      "75/75 [==============================] - 35s 465ms/step - loss: 0.0294 - accuracy: 0.9888 - val_loss: 0.0454 - val_accuracy: 0.9848\n",
      "Epoch 32/50\n",
      "75/75 [==============================] - 35s 466ms/step - loss: 0.0308 - accuracy: 0.9886 - val_loss: 0.0426 - val_accuracy: 0.9853\n",
      "Epoch 33/50\n",
      "75/75 [==============================] - 35s 467ms/step - loss: 0.0292 - accuracy: 0.9892 - val_loss: 0.0433 - val_accuracy: 0.9845\n",
      "Epoch 34/50\n",
      "75/75 [==============================] - 35s 466ms/step - loss: 0.0283 - accuracy: 0.9892 - val_loss: 0.0441 - val_accuracy: 0.9846\n",
      "Epoch 35/50\n",
      "75/75 [==============================] - 35s 469ms/step - loss: 0.0315 - accuracy: 0.9885 - val_loss: 0.0572 - val_accuracy: 0.9798\n",
      "Epoch 36/50\n",
      "75/75 [==============================] - 35s 468ms/step - loss: 0.0335 - accuracy: 0.9875 - val_loss: 0.0434 - val_accuracy: 0.9838\n",
      "Epoch 37/50\n",
      "75/75 [==============================] - 35s 468ms/step - loss: 0.0269 - accuracy: 0.9900 - val_loss: 0.0367 - val_accuracy: 0.9861\n",
      "Epoch 38/50\n",
      "75/75 [==============================] - 36s 477ms/step - loss: 0.0264 - accuracy: 0.9901 - val_loss: 0.0372 - val_accuracy: 0.9864\n",
      "Epoch 39/50\n",
      "75/75 [==============================] - 37s 492ms/step - loss: 0.0275 - accuracy: 0.9897 - val_loss: 0.0401 - val_accuracy: 0.9866\n",
      "Epoch 40/50\n",
      "75/75 [==============================] - 38s 501ms/step - loss: 0.0298 - accuracy: 0.9891 - val_loss: 0.0386 - val_accuracy: 0.9868\n",
      "Epoch 41/50\n",
      "75/75 [==============================] - 37s 488ms/step - loss: 0.0211 - accuracy: 0.9925 - val_loss: 0.0469 - val_accuracy: 0.9848\n",
      "Epoch 42/50\n",
      "75/75 [==============================] - 37s 497ms/step - loss: 0.0295 - accuracy: 0.9880 - val_loss: 0.0446 - val_accuracy: 0.9844\n",
      "Epoch 43/50\n",
      "75/75 [==============================] - 38s 512ms/step - loss: 0.0227 - accuracy: 0.9913 - val_loss: 0.0429 - val_accuracy: 0.9868\n",
      "Epoch 44/50\n",
      "75/75 [==============================] - 36s 474ms/step - loss: 0.0244 - accuracy: 0.9908 - val_loss: 0.0477 - val_accuracy: 0.9836\n",
      "Epoch 45/50\n",
      "75/75 [==============================] - 36s 480ms/step - loss: 0.0243 - accuracy: 0.9914 - val_loss: 0.0343 - val_accuracy: 0.9878\n",
      "Epoch 46/50\n",
      "75/75 [==============================] - 38s 502ms/step - loss: 0.0194 - accuracy: 0.9930 - val_loss: 0.0433 - val_accuracy: 0.9839\n",
      "Epoch 47/50\n",
      "75/75 [==============================] - 39s 519ms/step - loss: 0.0223 - accuracy: 0.9912 - val_loss: 0.0364 - val_accuracy: 0.9873\n",
      "Epoch 48/50\n",
      "75/75 [==============================] - 37s 496ms/step - loss: 0.0192 - accuracy: 0.9927 - val_loss: 0.0479 - val_accuracy: 0.9839\n",
      "Epoch 49/50\n",
      "75/75 [==============================] - 34s 456ms/step - loss: 0.0213 - accuracy: 0.9922 - val_loss: 0.0506 - val_accuracy: 0.9830\n",
      "Epoch 50/50\n",
      "75/75 [==============================] - 34s 457ms/step - loss: 0.0180 - accuracy: 0.9939 - val_loss: 0.0395 - val_accuracy: 0.9865\n"
     ]
    }
   ],
   "source": [
    "History = model.fit_generator(datagen.flow(x_train,y_train, batch_size=batch_size),\n",
    "                              epochs = epochs, validation_data = (x_test,y_test), \n",
    "                              verbose = 1, steps_per_epoch=x_train.shape[0] // batch_size)\n",
    "# model.fit(x_train,y_train,epochs=epochs,batch_size=batch_size,validation_data = (x_test,y_test))"
   ]
  },
  {
   "cell_type": "markdown",
   "metadata": {
    "colab_type": "text",
    "id": "_lmetVPa_-Sf"
   },
   "source": [
    "# 4 ) Evaluating the Model Performance"
   ]
  },
  {
   "cell_type": "code",
   "execution_count": 37,
   "metadata": {
    "colab": {
     "base_uri": "https://localhost:8080/",
     "height": 317
    },
    "colab_type": "code",
    "id": "vf1aKD-y75Rp",
    "outputId": "a55e7a43-223c-4522-d03d-2511cb9b98f7"
   },
   "outputs": [
    {
     "data": {
      "image/png": "[encoded data removed]",
      "text/plain": [
       "<Figure size 432x288 with 1 Axes>"
      ]
     },
     "metadata": {},
     "output_type": "display_data"
    }
   ],
   "source": [
    "plt.plot(History.history['loss'])\n",
    "plt.plot(History.history['val_loss'])\n",
    "plt.title('Model Loss')\n",
    "plt.ylabel('Loss')\n",
    "plt.xlabel('Epochs')\n",
    "plt.legend(['train', 'test'])\n",
    "plt.show()"
   ]
  },
  {
   "cell_type": "code",
   "execution_count": 46,
   "metadata": {
    "colab": {
     "base_uri": "https://localhost:8080/",
     "height": 317
    },
    "colab_type": "code",
    "id": "2rKOujgO7-Dg",
    "outputId": "0ee01e59-0a46-437a-9a9a-543aaa1ea73a"
   },
   "outputs": [
    {
     "data": {
      "image/png": "[encoded data removed]",
      "text/plain": [
       "<Figure size 432x288 with 1 Axes>"
      ]
     },
     "metadata": {},
     "output_type": "display_data"
    }
   ],
   "source": [
    "plt.plot(History.history['accuracy'])\n",
    "plt.plot(History.history['val_accuracy'])\n",
    "plt.title('Model Accuracy')\n",
    "plt.ylabel('Accuracy')\n",
    "plt.xlabel('Epochs')\n",
    "plt.legend(['train', 'test'])\n",
    "plt.show()\n"
   ]
  },
  {
   "cell_type": "code",
   "execution_count": 47,
   "metadata": {
    "colab": {
     "base_uri": "https://localhost:8080/",
     "height": 550
    },
    "colab_type": "code",
    "id": "r1THS1Pq9lW-",
    "outputId": "26c6626b-631f-41cf-8eb5-2958bbe041ac"
   },
   "outputs": [
    {
     "data": {
      "image/png": "[encoded data removed]",
      "text/plain": [
       "<Figure size 576x576 with 2 Axes>"
      ]
     },
     "metadata": {},
     "output_type": "display_data"
    }
   ],
   "source": [
    "# confusion matrix\n",
    "import seaborn as sns\n",
    "# Predict the values from the validation dataset\n",
    "Y_pred = model.predict(x_test)\n",
    "# Convert predictions classes to one hot vectors \n",
    "Y_pred_classes = np.argmax(Y_pred,axis = 1) \n",
    "# Convert validation observations to one hot vectors\n",
    "Y_true = np.argmax(y_test,axis = 1) \n",
    "# compute the confusion matrix\n",
    "confusion_mtx = confusion_matrix(Y_true, Y_pred_classes) \n",
    "# plot the confusion matrix\n",
    "f,ax = plt.subplots(figsize=(8, 8))\n",
    "sns.heatmap(confusion_mtx, annot=True, linewidths=0.01,cmap=\"Greens\",linecolor=\"gray\", fmt= '.1f',ax=ax)\n",
    "plt.xlabel(\"Predicted Label\")\n",
    "plt.ylabel(\"True Label\")\n",
    "plt.title(\"Confusion Matrix\")\n",
    "plt.show()"
   ]
  },
  {
   "cell_type": "code",
   "execution_count": null,
   "metadata": {
    "colab": {},
    "colab_type": "code",
    "id": "l49bGNQl9qib"
   },
   "outputs": [],
   "source": []
  }
 ],
 "metadata": {
  "accelerator": "GPU",
  "colab": {
   "collapsed_sections": [],
   "name": "DL-test-2 - J038.ipynb",
   "provenance": []
  },
  "kernelspec": {
   "display_name": "Python 3",
   "language": "python",
   "name": "python3"
  },
  "language_info": {
   "codemirror_mode": {
    "name": "ipython",
    "version": 3
   },
   "file_extension": ".py",
   "mimetype": "text/x-python",
   "name": "python",
   "nbconvert_exporter": "python",
   "pygments_lexer": "ipython3",
   "version": "3.6.10"
  },
  "varInspector": {
   "cols": {
    "lenName": 16,
    "lenType": 16,
    "lenVar": 40
   },
   "kernels_config": {
    "python": {
     "delete_cmd_postfix": "",
     "delete_cmd_prefix": "del ",
     "library": "var_list.py",
     "varRefreshCmd": "print(var_dic_list())"
    },
    "r": {
     "delete_cmd_postfix": ") ",
     "delete_cmd_prefix": "rm(",
     "library": "var_list.r",
     "varRefreshCmd": "cat(var_dic_list()) "
    }
   },
   "types_to_exclude": [
    "module",
    "function",
    "builtin_function_or_method",
    "instance",
    "_Feature"
   ],
   "window_display": false
  }
 },
 "nbformat": 4,
 "nbformat_minor": 1
}
