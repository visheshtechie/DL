{
 "cells": [
  {
   "cell_type": "markdown",
   "metadata": {
    "colab_type": "text",
    "id": "-1DzPAqft6mM"
   },
   "source": [
    "#Callbacks\n",
    "\n",
    "Deep learning models can take hours, days or even weeks to train.\n",
    "\n",
    "If the run is stopped unexpectedly, you can lose a lot of work.\n",
    "\n",
    "In this post you will discover how you can check-point your deep learning models during training in Python using the Keras library."
   ]
  },
  {
   "cell_type": "code",
   "execution_count": 1,
   "metadata": {
    "colab": {
     "base_uri": "https://localhost:8080/",
     "height": 1000
    },
    "colab_type": "code",
    "id": "9Qi36pHUtjWZ",
    "outputId": "6b9ec7af-4795-4d0b-84b4-772129990f18"
   },
   "outputs": [
    {
     "name": "stderr",
     "output_type": "stream",
     "text": [
      "Using TensorFlow backend.\n"
     ]
    },
    {
     "data": {
      "text/html": [
       "<p style=\"color: red;\">\n",
       "The default version of TensorFlow in Colab will soon switch to TensorFlow 2.x.<br>\n",
       "We recommend you <a href=\"https://www.tensorflow.org/guide/migrate\" target=\"_blank\">upgrade</a> now \n",
       "or ensure your notebook will continue to use TensorFlow 1.x via the <code>%tensorflow_version 1.x</code> magic:\n",
       "<a href=\"https://colab.research.google.com/notebooks/tensorflow_version.ipynb\" target=\"_blank\">more info</a>.</p>\n"
      ],
      "text/plain": [
       "<IPython.core.display.HTML object>"
      ]
     },
     "metadata": {
      "tags": []
     },
     "output_type": "display_data"
    },
    {
     "name": "stdout",
     "output_type": "stream",
     "text": [
      "Downloading data from https://s3.amazonaws.com/img-datasets/mnist.npz\n",
      "11493376/11490434 [==============================] - 1s 0us/step\n",
      "WARNING:tensorflow:From /usr/local/lib/python3.6/dist-packages/keras/backend/tensorflow_backend.py:66: The name tf.get_default_graph is deprecated. Please use tf.compat.v1.get_default_graph instead.\n",
      "\n",
      "WARNING:tensorflow:From /usr/local/lib/python3.6/dist-packages/keras/backend/tensorflow_backend.py:541: The name tf.placeholder is deprecated. Please use tf.compat.v1.placeholder instead.\n",
      "\n",
      "WARNING:tensorflow:From /usr/local/lib/python3.6/dist-packages/keras/backend/tensorflow_backend.py:4432: The name tf.random_uniform is deprecated. Please use tf.random.uniform instead.\n",
      "\n",
      "WARNING:tensorflow:From /usr/local/lib/python3.6/dist-packages/keras/optimizers.py:793: The name tf.train.Optimizer is deprecated. Please use tf.compat.v1.train.Optimizer instead.\n",
      "\n",
      "WARNING:tensorflow:From /usr/local/lib/python3.6/dist-packages/keras/backend/tensorflow_backend.py:3576: The name tf.log is deprecated. Please use tf.math.log instead.\n",
      "\n",
      "WARNING:tensorflow:From /usr/local/lib/python3.6/dist-packages/tensorflow_core/python/ops/math_grad.py:1424: where (from tensorflow.python.ops.array_ops) is deprecated and will be removed in a future version.\n",
      "Instructions for updating:\n",
      "Use tf.where in 2.0, which has the same broadcast rule as np.where\n",
      "WARNING:tensorflow:From /usr/local/lib/python3.6/dist-packages/keras/backend/tensorflow_backend.py:1033: The name tf.assign_add is deprecated. Please use tf.compat.v1.assign_add instead.\n",
      "\n",
      "WARNING:tensorflow:From /usr/local/lib/python3.6/dist-packages/keras/backend/tensorflow_backend.py:1020: The name tf.assign is deprecated. Please use tf.compat.v1.assign instead.\n",
      "\n",
      "WARNING:tensorflow:From /usr/local/lib/python3.6/dist-packages/keras/backend/tensorflow_backend.py:3005: The name tf.Session is deprecated. Please use tf.compat.v1.Session instead.\n",
      "\n",
      "Train on 60000 samples, validate on 10000 samples\n",
      "Epoch 1/10\n",
      "WARNING:tensorflow:From /usr/local/lib/python3.6/dist-packages/keras/backend/tensorflow_backend.py:190: The name tf.get_default_session is deprecated. Please use tf.compat.v1.get_default_session instead.\n",
      "\n",
      "WARNING:tensorflow:From /usr/local/lib/python3.6/dist-packages/keras/backend/tensorflow_backend.py:197: The name tf.ConfigProto is deprecated. Please use tf.compat.v1.ConfigProto instead.\n",
      "\n",
      "WARNING:tensorflow:From /usr/local/lib/python3.6/dist-packages/keras/backend/tensorflow_backend.py:207: The name tf.global_variables is deprecated. Please use tf.compat.v1.global_variables instead.\n",
      "\n",
      "WARNING:tensorflow:From /usr/local/lib/python3.6/dist-packages/keras/backend/tensorflow_backend.py:216: The name tf.is_variable_initialized is deprecated. Please use tf.compat.v1.is_variable_initialized instead.\n",
      "\n",
      "WARNING:tensorflow:From /usr/local/lib/python3.6/dist-packages/keras/backend/tensorflow_backend.py:223: The name tf.variables_initializer is deprecated. Please use tf.compat.v1.variables_initializer instead.\n",
      "\n",
      "60000/60000 [==============================] - 11s 182us/step - loss: 0.2904 - acc: 0.9124 - val_loss: 0.1712 - val_acc: 0.9429\n",
      "\n",
      "Epoch 00001: val_acc improved from -inf to 0.94290, saving model to weights-improvement-01-0.94.hdf5\n",
      "Epoch 2/10\n",
      "60000/60000 [==============================] - 2s 30us/step - loss: 0.1228 - acc: 0.9620 - val_loss: 0.0905 - val_acc: 0.9702\n",
      "\n",
      "Epoch 00002: val_acc improved from 0.94290 to 0.97020, saving model to weights-improvement-02-0.97.hdf5\n",
      "Epoch 3/10\n",
      "60000/60000 [==============================] - 2s 32us/step - loss: 0.0835 - acc: 0.9737 - val_loss: 0.0978 - val_acc: 0.9697\n",
      "\n",
      "Epoch 00003: val_acc did not improve from 0.97020\n",
      "Epoch 4/10\n",
      "60000/60000 [==============================] - 2s 29us/step - loss: 0.0631 - acc: 0.9806 - val_loss: 0.0944 - val_acc: 0.9710\n",
      "\n",
      "Epoch 00004: val_acc improved from 0.97020 to 0.97100, saving model to weights-improvement-04-0.97.hdf5\n",
      "Epoch 5/10\n",
      "60000/60000 [==============================] - 2s 33us/step - loss: 0.0512 - acc: 0.9841 - val_loss: 0.0821 - val_acc: 0.9755\n",
      "\n",
      "Epoch 00005: val_acc improved from 0.97100 to 0.97550, saving model to weights-improvement-05-0.98.hdf5\n",
      "Epoch 6/10\n",
      "60000/60000 [==============================] - 2s 31us/step - loss: 0.0413 - acc: 0.9868 - val_loss: 0.0797 - val_acc: 0.9777\n",
      "\n",
      "Epoch 00006: val_acc improved from 0.97550 to 0.97770, saving model to weights-improvement-06-0.98.hdf5\n",
      "Epoch 7/10\n",
      "60000/60000 [==============================] - 2s 30us/step - loss: 0.0347 - acc: 0.9884 - val_loss: 0.0740 - val_acc: 0.9772\n",
      "\n",
      "Epoch 00007: val_acc did not improve from 0.97770\n",
      "Epoch 8/10\n",
      "60000/60000 [==============================] - 2s 31us/step - loss: 0.0279 - acc: 0.9909 - val_loss: 0.0950 - val_acc: 0.9764\n",
      "\n",
      "Epoch 00008: val_acc did not improve from 0.97770\n",
      "Epoch 9/10\n",
      "60000/60000 [==============================] - 2s 31us/step - loss: 0.0228 - acc: 0.9923 - val_loss: 0.0822 - val_acc: 0.9800\n",
      "\n",
      "Epoch 00009: val_acc improved from 0.97770 to 0.98000, saving model to weights-improvement-09-0.98.hdf5\n",
      "Epoch 10/10\n",
      "60000/60000 [==============================] - 2s 30us/step - loss: 0.0207 - acc: 0.9933 - val_loss: 0.0750 - val_acc: 0.9820\n",
      "\n",
      "Epoch 00010: val_acc improved from 0.98000 to 0.98200, saving model to weights-improvement-10-0.98.hdf5\n"
     ]
    },
    {
     "data": {
      "text/plain": [
       "<keras.callbacks.History at 0x7f78e4348320>"
      ]
     },
     "execution_count": 1,
     "metadata": {
      "tags": []
     },
     "output_type": "execute_result"
    }
   ],
   "source": [
    "import keras\n",
    "from keras import models\n",
    "from keras.layers import Dense, Dropout\n",
    "from keras.utils import to_categorical\n",
    "from keras.datasets import mnist\n",
    "from keras.utils.vis_utils import model_to_dot\n",
    "from IPython.display import SVG\n",
    "from keras.callbacks import ModelCheckpoint\n",
    "\n",
    "NUM_ROWS = 28\n",
    "NUM_COLS = 28\n",
    "NUM_CLASSES = 10\n",
    "BATCH_SIZE = 128\n",
    "EPOCHS = 10\n",
    "\n",
    "# Load data\n",
    "(X_train, y_train), (X_test, y_test) = mnist.load_data()\n",
    "\n",
    "# Reshape data\n",
    "X_train = X_train.reshape((X_train.shape[0], NUM_ROWS * NUM_COLS))\n",
    "X_train = X_train.astype('float32') / 255\n",
    "X_test = X_test.reshape((X_test.shape[0], NUM_ROWS * NUM_COLS))\n",
    "X_test = X_test.astype('float32') / 255\n",
    "\n",
    "# Categorically encode labels\n",
    "y_train = to_categorical(y_train, NUM_CLASSES)\n",
    "y_test = to_categorical(y_test, NUM_CLASSES)\n",
    "\n",
    "\n",
    "# Build neural network\n",
    "model = models.Sequential()\n",
    "model.add(Dense(512, activation='elu', input_shape=(NUM_ROWS * NUM_COLS,)))\n",
    "model.add(Dense(256, activation='elu'))\n",
    "model.add(Dense(10, activation='softmax'))\n",
    "\n",
    "# Compile model\n",
    "model.compile(optimizer='rmsprop',\n",
    "              loss='categorical_crossentropy',\n",
    "              metrics=['accuracy'])\n",
    "\n",
    "\n",
    "\n",
    "# checkpoint\n",
    "filepath=\"weights-improvement-{epoch:02d}-{val_acc:.2f}.hdf5\"\n",
    "checkpoint = ModelCheckpoint(filepath, monitor='val_acc', verbose=1, save_best_only=True, mode='max')\n",
    "callbacks_list = [checkpoint]\n",
    "\n",
    "\n",
    "# Train model\n",
    "model.fit(X_train, y_train,\n",
    "          batch_size=BATCH_SIZE,\n",
    "          epochs=EPOCHS,\n",
    "          verbose=1,\n",
    "          validation_data=(X_test, y_test), callbacks=callbacks_list)\n",
    "\n",
    "\n"
   ]
  },
  {
   "cell_type": "markdown",
   "metadata": {
    "colab_type": "text",
    "id": "Jveut6hlv4vM"
   },
   "source": [
    "#Create checkpoint for storing best model only\n",
    "\n",
    "A simpler check-point strategy is to save the model weights to the same file, if and only if the validation accuracy improves.\n",
    "\n",
    "This can be done easily using the same code from above and changing the output filename to be fixed (not include score or epoch information).\n",
    "\n",
    "In this case, model weights are written to the file “weights.best.hdf5” only if the classification accuracy of the model on the validation dataset improves over the best seen so far."
   ]
  },
  {
   "cell_type": "code",
   "execution_count": 2,
   "metadata": {
    "colab": {
     "base_uri": "https://localhost:8080/",
     "height": 764
    },
    "colab_type": "code",
    "id": "4SoNDAjwwAX5",
    "outputId": "5e24758b-5921-4e8c-d813-6166220d71ca"
   },
   "outputs": [
    {
     "name": "stdout",
     "output_type": "stream",
     "text": [
      "Train on 60000 samples, validate on 10000 samples\n",
      "Epoch 1/10\n",
      "60000/60000 [==============================] - 2s 32us/step - loss: 0.2916 - acc: 0.9104 - val_loss: 0.1509 - val_acc: 0.9526\n",
      "\n",
      "Epoch 00001: val_acc improved from -inf to 0.95260, saving model to weights.best.hdf5\n",
      "Epoch 2/10\n",
      "60000/60000 [==============================] - 2s 29us/step - loss: 0.1226 - acc: 0.9624 - val_loss: 0.1057 - val_acc: 0.9672\n",
      "\n",
      "Epoch 00002: val_acc improved from 0.95260 to 0.96720, saving model to weights.best.hdf5\n",
      "Epoch 3/10\n",
      "60000/60000 [==============================] - 2s 33us/step - loss: 0.0821 - acc: 0.9743 - val_loss: 0.0900 - val_acc: 0.9730\n",
      "\n",
      "Epoch 00003: val_acc improved from 0.96720 to 0.97300, saving model to weights.best.hdf5\n",
      "Epoch 4/10\n",
      "60000/60000 [==============================] - 2s 30us/step - loss: 0.0627 - acc: 0.9798 - val_loss: 0.0771 - val_acc: 0.9774\n",
      "\n",
      "Epoch 00004: val_acc improved from 0.97300 to 0.97740, saving model to weights.best.hdf5\n",
      "Epoch 5/10\n",
      "60000/60000 [==============================] - 2s 32us/step - loss: 0.0501 - acc: 0.9841 - val_loss: 0.0758 - val_acc: 0.9794\n",
      "\n",
      "Epoch 00005: val_acc improved from 0.97740 to 0.97940, saving model to weights.best.hdf5\n",
      "Epoch 6/10\n",
      "60000/60000 [==============================] - 2s 31us/step - loss: 0.0403 - acc: 0.9869 - val_loss: 0.0768 - val_acc: 0.9786\n",
      "\n",
      "Epoch 00006: val_acc did not improve from 0.97940\n",
      "Epoch 7/10\n",
      "60000/60000 [==============================] - 2s 30us/step - loss: 0.0345 - acc: 0.9885 - val_loss: 0.0840 - val_acc: 0.9784\n",
      "\n",
      "Epoch 00007: val_acc did not improve from 0.97940\n",
      "Epoch 8/10\n",
      "60000/60000 [==============================] - 2s 31us/step - loss: 0.0272 - acc: 0.9912 - val_loss: 0.0859 - val_acc: 0.9784\n",
      "\n",
      "Epoch 00008: val_acc did not improve from 0.97940\n",
      "Epoch 9/10\n",
      "60000/60000 [==============================] - 2s 30us/step - loss: 0.0246 - acc: 0.9923 - val_loss: 0.0896 - val_acc: 0.9784\n",
      "\n",
      "Epoch 00009: val_acc did not improve from 0.97940\n",
      "Epoch 10/10\n",
      "60000/60000 [==============================] - 2s 30us/step - loss: 0.0194 - acc: 0.9938 - val_loss: 0.0812 - val_acc: 0.9820\n",
      "\n",
      "Epoch 00010: val_acc improved from 0.97940 to 0.98200, saving model to weights.best.hdf5\n"
     ]
    },
    {
     "data": {
      "text/plain": [
       "<keras.callbacks.History at 0x7f78d61a2cc0>"
      ]
     },
     "execution_count": 2,
     "metadata": {
      "tags": []
     },
     "output_type": "execute_result"
    }
   ],
   "source": [
    "import keras\n",
    "from keras import models\n",
    "from keras.layers import Dense, Dropout\n",
    "from keras.utils import to_categorical\n",
    "from keras.datasets import mnist\n",
    "from keras.utils.vis_utils import model_to_dot\n",
    "from IPython.display import SVG\n",
    "from keras.callbacks import ModelCheckpoint\n",
    "\n",
    "NUM_ROWS = 28\n",
    "NUM_COLS = 28\n",
    "NUM_CLASSES = 10\n",
    "BATCH_SIZE = 128\n",
    "EPOCHS = 10\n",
    "\n",
    "# Load data\n",
    "(X_train, y_train), (X_test, y_test) = mnist.load_data()\n",
    "\n",
    "# Reshape data\n",
    "X_train = X_train.reshape((X_train.shape[0], NUM_ROWS * NUM_COLS))\n",
    "X_train = X_train.astype('float32') / 255\n",
    "X_test = X_test.reshape((X_test.shape[0], NUM_ROWS * NUM_COLS))\n",
    "X_test = X_test.astype('float32') / 255\n",
    "\n",
    "# Categorically encode labels\n",
    "y_train = to_categorical(y_train, NUM_CLASSES)\n",
    "y_test = to_categorical(y_test, NUM_CLASSES)\n",
    "\n",
    "\n",
    "# Build neural network\n",
    "model = models.Sequential()\n",
    "model.add(Dense(512, activation='elu', input_shape=(NUM_ROWS * NUM_COLS,)))\n",
    "model.add(Dense(256, activation='elu'))\n",
    "model.add(Dense(10, activation='softmax'))\n",
    "\n",
    "# Compile model\n",
    "model.compile(optimizer='rmsprop',\n",
    "              loss='categorical_crossentropy',\n",
    "              metrics=['accuracy'])\n",
    "\n",
    "\n",
    "\n",
    "# checkpoint\n",
    "filepath=\"weights.best.hdf5\"\n",
    "checkpoint = ModelCheckpoint(filepath, monitor='val_acc', verbose=1, save_best_only=True, mode='max')\n",
    "callbacks_list = [checkpoint]\n",
    "\n",
    "\n",
    "# Train model\n",
    "model.fit(X_train, y_train,\n",
    "          batch_size=BATCH_SIZE,\n",
    "          epochs=EPOCHS,\n",
    "          verbose=1,\n",
    "          validation_data=(X_test, y_test), callbacks=callbacks_list)\n",
    "\n",
    "\n"
   ]
  },
  {
   "cell_type": "markdown",
   "metadata": {
    "colab_type": "text",
    "id": "my7CaRnYwPsC"
   },
   "source": [
    "#Loading a Check-Pointed Neural Network Model\n",
    "\n",
    "After the model is saved , we can use it to make predictions"
   ]
  },
  {
   "cell_type": "code",
   "execution_count": 3,
   "metadata": {
    "colab": {
     "base_uri": "https://localhost:8080/",
     "height": 35
    },
    "colab_type": "code",
    "id": "eyuYyP-XwhdP",
    "outputId": "db378696-bb5c-4bd0-fc1c-ccb9b1d00c6b"
   },
   "outputs": [
    {
     "name": "stdout",
     "output_type": "stream",
     "text": [
      "acc: 99.41%\n"
     ]
    }
   ],
   "source": [
    "import keras\n",
    "from keras import models\n",
    "import numpy as np\n",
    "#Create new model\n",
    "model_new = models.Sequential()\n",
    "model_new.add(Dense(512, activation='elu', input_shape=(NUM_ROWS * NUM_COLS,)))\n",
    "model_new.add(Dense(256, activation='elu'))\n",
    "model_new.add(Dense(10, activation='softmax'))\n",
    "\n",
    "model_new.load_weights(\"weights.best.hdf5\")\n",
    "\n",
    "# Compile model\n",
    "model_new.compile(optimizer='rmsprop',\n",
    "              loss='categorical_crossentropy',\n",
    "              metrics=['accuracy'])\n",
    "\n",
    "X_total=np.concatenate((X_train,X_test))\n",
    "y_total=np.concatenate((y_train,y_test))\n",
    "\n",
    "scores = model_new.evaluate(X_total, y_total, verbose=0)\n",
    "print(\"%s: %.2f%%\" % (model_new.metrics_names[1], scores[1]*100))"
   ]
  },
  {
   "cell_type": "markdown",
   "metadata": {
    "colab_type": "text",
    "id": "mMNmXQvYz-O_"
   },
   "source": [
    "#Thank you for completing this notebook\n"
   ]
  }
 ],
 "metadata": {
  "accelerator": "GPU",
  "colab": {
   "collapsed_sections": [],
   "include_colab_link": true,
   "name": "Keras-Callbacks-J006.ipynb",
   "provenance": []
  },
  "kernelspec": {
   "display_name": "Python 3",
   "language": "python",
   "name": "python3"
  },
  "language_info": {
   "codemirror_mode": {
    "name": "ipython",
    "version": 3
   },
   "file_extension": ".py",
   "mimetype": "text/x-python",
   "name": "python",
   "nbconvert_exporter": "python",
   "pygments_lexer": "ipython3",
   "version": "3.7.4"
  }
 },
 "nbformat": 4,
 "nbformat_minor": 1
}
