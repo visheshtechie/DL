{
 "cells": [
  {
   "cell_type": "markdown",
   "metadata": {
    "colab_type": "text",
    "id": "q2MjJI_kBDYy"
   },
   "source": [
    "#Usage of optimizers\n",
    "\n",
    "An optimizer is one of the two arguments required for compiling a Keras model:\n",
    "\n",
    "The optimizer is provided in model compilation step as shown below."
   ]
  },
  {
   "cell_type": "code",
   "execution_count": 1,
   "metadata": {
    "colab": {},
    "colab_type": "code",
    "id": "VZZLzy1xA0TB"
   },
   "outputs": [
    {
     "name": "stderr",
     "output_type": "stream",
     "text": [
      "Using TensorFlow backend.\n"
     ]
    },
    {
     "name": "stdout",
     "output_type": "stream",
     "text": [
      "WARNING:tensorflow:From D:\\Anaconda3\\lib\\site-packages\\keras\\backend\\tensorflow_backend.py:74: The name tf.get_default_graph is deprecated. Please use tf.compat.v1.get_default_graph instead.\n",
      "\n",
      "WARNING:tensorflow:From D:\\Anaconda3\\lib\\site-packages\\keras\\backend\\tensorflow_backend.py:517: The name tf.placeholder is deprecated. Please use tf.compat.v1.placeholder instead.\n",
      "\n",
      "WARNING:tensorflow:From D:\\Anaconda3\\lib\\site-packages\\keras\\backend\\tensorflow_backend.py:4138: The name tf.random_uniform is deprecated. Please use tf.random.uniform instead.\n",
      "\n",
      "WARNING:tensorflow:From D:\\Anaconda3\\lib\\site-packages\\keras\\optimizers.py:790: The name tf.train.Optimizer is deprecated. Please use tf.compat.v1.train.Optimizer instead.\n",
      "\n",
      "WARNING:tensorflow:From D:\\Anaconda3\\lib\\site-packages\\keras\\backend\\tensorflow_backend.py:3295: The name tf.log is deprecated. Please use tf.math.log instead.\n",
      "\n",
      "WARNING:tensorflow:From D:\\Anaconda3\\lib\\site-packages\\tensorflow_core\\python\\ops\\math_grad.py:1424: where (from tensorflow.python.ops.array_ops) is deprecated and will be removed in a future version.\n",
      "Instructions for updating:\n",
      "Use tf.where in 2.0, which has the same broadcast rule as np.where\n",
      "WARNING:tensorflow:From D:\\Anaconda3\\lib\\site-packages\\keras\\backend\\tensorflow_backend.py:986: The name tf.assign_add is deprecated. Please use tf.compat.v1.assign_add instead.\n",
      "\n",
      "WARNING:tensorflow:From D:\\Anaconda3\\lib\\site-packages\\keras\\backend\\tensorflow_backend.py:973: The name tf.assign is deprecated. Please use tf.compat.v1.assign instead.\n",
      "\n",
      "WARNING:tensorflow:From D:\\Anaconda3\\lib\\site-packages\\keras\\backend\\tensorflow_backend.py:2741: The name tf.Session is deprecated. Please use tf.compat.v1.Session instead.\n",
      "\n",
      "Train on 60000 samples, validate on 10000 samples\n",
      "Epoch 1/10\n",
      "WARNING:tensorflow:From D:\\Anaconda3\\lib\\site-packages\\keras\\backend\\tensorflow_backend.py:174: The name tf.get_default_session is deprecated. Please use tf.compat.v1.get_default_session instead.\n",
      "\n",
      "WARNING:tensorflow:From D:\\Anaconda3\\lib\\site-packages\\keras\\backend\\tensorflow_backend.py:181: The name tf.ConfigProto is deprecated. Please use tf.compat.v1.ConfigProto instead.\n",
      "\n",
      "WARNING:tensorflow:From D:\\Anaconda3\\lib\\site-packages\\keras\\backend\\tensorflow_backend.py:190: The name tf.global_variables is deprecated. Please use tf.compat.v1.global_variables instead.\n",
      "\n",
      "WARNING:tensorflow:From D:\\Anaconda3\\lib\\site-packages\\keras\\backend\\tensorflow_backend.py:199: The name tf.is_variable_initialized is deprecated. Please use tf.compat.v1.is_variable_initialized instead.\n",
      "\n",
      "WARNING:tensorflow:From D:\\Anaconda3\\lib\\site-packages\\keras\\backend\\tensorflow_backend.py:206: The name tf.variables_initializer is deprecated. Please use tf.compat.v1.variables_initializer instead.\n",
      "\n",
      "60000/60000 [==============================] - 4s 66us/step - loss: 0.2294 - acc: 0.9300 - val_loss: 0.0952 - val_acc: 0.9705\n",
      "Epoch 2/10\n",
      "60000/60000 [==============================] - 4s 59us/step - loss: 0.0827 - acc: 0.9745 - val_loss: 0.0901 - val_acc: 0.9722\n",
      "Epoch 3/10\n",
      "60000/60000 [==============================] - 3s 54us/step - loss: 0.0550 - acc: 0.9835 - val_loss: 0.0832 - val_acc: 0.9744\n",
      "Epoch 4/10\n",
      "60000/60000 [==============================] - 4s 61us/step - loss: 0.0414 - acc: 0.9872 - val_loss: 0.0755 - val_acc: 0.9794\n",
      "Epoch 5/10\n",
      "60000/60000 [==============================] - 3s 57us/step - loss: 0.0294 - acc: 0.9907 - val_loss: 0.0778 - val_acc: 0.9794\n",
      "Epoch 6/10\n",
      "60000/60000 [==============================] - 3s 52us/step - loss: 0.0242 - acc: 0.9922 - val_loss: 0.0738 - val_acc: 0.9814\n",
      "Epoch 7/10\n",
      "60000/60000 [==============================] - 4s 63us/step - loss: 0.0188 - acc: 0.9944 - val_loss: 0.0738 - val_acc: 0.9815\n",
      "Epoch 8/10\n",
      "60000/60000 [==============================] - 3s 58us/step - loss: 0.0148 - acc: 0.9954 - val_loss: 0.0952 - val_acc: 0.9818\n",
      "Epoch 9/10\n",
      "60000/60000 [==============================] - 3s 51us/step - loss: 0.0119 - acc: 0.9964 - val_loss: 0.0898 - val_acc: 0.9819\n",
      "Epoch 10/10\n",
      "60000/60000 [==============================] - 4s 60us/step - loss: 0.0104 - acc: 0.9970 - val_loss: 0.1063 - val_acc: 0.9807\n",
      "Test loss: 0.10634805458419205\n",
      "Test accuracy: 0.9807\n"
     ]
    }
   ],
   "source": [
    "import keras\n",
    "from keras import models\n",
    "from keras.layers import Dense, Dropout\n",
    "from keras.utils import to_categorical\n",
    "from keras.datasets import mnist\n",
    "from keras.utils.vis_utils import model_to_dot\n",
    "from IPython.display import SVG\n",
    "\n",
    "NUM_ROWS = 28\n",
    "NUM_COLS = 28\n",
    "NUM_CLASSES = 10\n",
    "BATCH_SIZE = 128\n",
    "EPOCHS = 10\n",
    "\n",
    "# Load data\n",
    "(X_train, y_train), (X_test, y_test) = mnist.load_data()\n",
    "\n",
    "\n",
    "\n",
    "# Reshape data\n",
    "X_train = X_train.reshape((X_train.shape[0], NUM_ROWS * NUM_COLS))\n",
    "X_train = X_train.astype('float32') / 255\n",
    "X_test = X_test.reshape((X_test.shape[0], NUM_ROWS * NUM_COLS))\n",
    "X_test = X_test.astype('float32') / 255\n",
    "\n",
    "# Categorically encode labels\n",
    "y_train = to_categorical(y_train, NUM_CLASSES)\n",
    "y_test = to_categorical(y_test, NUM_CLASSES)\n",
    "\n",
    "\n",
    "# Build neural network\n",
    "model = models.Sequential()\n",
    "model.add(Dense(512, activation='relu', input_shape=(NUM_ROWS * NUM_COLS,)))\n",
    "model.add(Dense(256, activation='relu'))\n",
    "model.add(Dense(10, activation='softmax'))\n",
    "\n",
    "# Compile model\n",
    "model.compile(optimizer='rmsprop',\n",
    "              loss='categorical_crossentropy',\n",
    "              metrics=['accuracy'])\n",
    "\n",
    "# Train model\n",
    "model.fit(X_train, y_train,\n",
    "          batch_size=BATCH_SIZE,\n",
    "          epochs=EPOCHS,\n",
    "          verbose=1,\n",
    "          validation_data=(X_test, y_test))\n",
    "\n",
    "score = model.evaluate(X_test, y_test, verbose=0)\n",
    "print('Test loss:', score[0])\n",
    "print('Test accuracy:', score[1])"
   ]
  },
  {
   "cell_type": "markdown",
   "metadata": {
    "colab_type": "text",
    "id": "ljnd23JDCKKT"
   },
   "source": [
    "#Parameters common to all Keras optimizers\n",
    "\n",
    "The parameters clipnorm and clipvalue can be used with all optimizers to control gradient clipping:"
   ]
  },
  {
   "cell_type": "markdown",
   "metadata": {
    "colab_type": "text",
    "id": "hG0HTz9lCY5s"
   },
   "source": [
    "#SGD\n",
    "\n",
    "keras.optimizers.SGD(learning_rate=0.01, momentum=0.0, nesterov=False)\n",
    "\n",
    "##Stochastic gradient descent optimizer.\n",
    "\n",
    "Includes support for momentum, learning rate decay, and Nesterov momentum.\n",
    "\n",
    "##Arguments\n",
    "\n",
    "1. learning_rate: float >= 0. Learning rate.\n",
    "2. momentum: float >= 0. Parameter that accelerates SGD in the relevant direction and dampens oscillations.\n",
    "3. nesterov: boolean. Whether to apply Nesterov momentum."
   ]
  },
  {
   "cell_type": "code",
   "execution_count": 2,
   "metadata": {
    "colab": {},
    "colab_type": "code",
    "id": "88yumcFOCVkM"
   },
   "outputs": [],
   "source": [
    "from keras import optimizers\n",
    "sgd=keras.optimizers.SGD(lr=0.01, momentum=0.0, nesterov=False)"
   ]
  },
  {
   "cell_type": "code",
   "execution_count": 3,
   "metadata": {
    "colab": {},
    "colab_type": "code",
    "id": "-RdoZtUVCnde"
   },
   "outputs": [
    {
     "name": "stdout",
     "output_type": "stream",
     "text": [
      "Train on 60000 samples, validate on 10000 samples\n",
      "Epoch 1/10\n",
      "60000/60000 [==============================] - 3s 58us/step - loss: 0.0040 - acc: 0.9989 - val_loss: 0.0972 - val_acc: 0.9818\n",
      "Epoch 2/10\n",
      "60000/60000 [==============================] - 3s 49us/step - loss: 0.0026 - acc: 0.9994 - val_loss: 0.0941 - val_acc: 0.9821\n",
      "Epoch 3/10\n",
      "60000/60000 [==============================] - 3s 53us/step - loss: 0.0021 - acc: 0.9996 - val_loss: 0.0925 - val_acc: 0.9825\n",
      "Epoch 4/10\n",
      "60000/60000 [==============================] - 3s 48us/step - loss: 0.0018 - acc: 0.9997 - val_loss: 0.0915 - val_acc: 0.9825\n",
      "Epoch 5/10\n",
      "60000/60000 [==============================] - 4s 60us/step - loss: 0.0016 - acc: 0.9997 - val_loss: 0.0908 - val_acc: 0.9824\n",
      "Epoch 6/10\n",
      "60000/60000 [==============================] - 4s 73us/step - loss: 0.0014 - acc: 0.9998 - val_loss: 0.0902 - val_acc: 0.9826\n",
      "Epoch 7/10\n",
      "60000/60000 [==============================] - 3s 57us/step - loss: 0.0013 - acc: 0.9998 - val_loss: 0.0898 - val_acc: 0.9826\n",
      "Epoch 8/10\n",
      "60000/60000 [==============================] - 3s 55us/step - loss: 0.0012 - acc: 0.9998 - val_loss: 0.0894 - val_acc: 0.9826\n",
      "Epoch 9/10\n",
      "60000/60000 [==============================] - 4s 61us/step - loss: 0.0011 - acc: 0.9998 - val_loss: 0.0892 - val_acc: 0.9829\n",
      "Epoch 10/10\n",
      "60000/60000 [==============================] - 4s 59us/step - loss: 0.0011 - acc: 0.9999 - val_loss: 0.0889 - val_acc: 0.9830\n",
      "Test loss: 0.08890150863744184\n",
      "Test accuracy: 0.983\n"
     ]
    }
   ],
   "source": [
    "# Compile model using above optimizer\n",
    "model.compile(optimizer=sgd,\n",
    "              loss='categorical_crossentropy',\n",
    "              metrics=['accuracy'])\n",
    "\n",
    "# Train model\n",
    "model.fit(X_train, y_train,\n",
    "          batch_size=BATCH_SIZE,\n",
    "          epochs=EPOCHS,\n",
    "          verbose=1,\n",
    "          validation_data=(X_test, y_test))\n",
    "\n",
    "score = model.evaluate(X_test, y_test, verbose=0)\n",
    "print('Test loss:', score[0])\n",
    "print('Test accuracy:', score[1])"
   ]
  },
  {
   "cell_type": "markdown",
   "metadata": {
    "colab_type": "text",
    "id": "aO8vbsw7ENqL"
   },
   "source": [
    "#RMSprop\n",
    "\n",
    "keras.optimizers.RMSprop(learning_rate=0.001, rho=0.9)\n",
    "\n",
    "##RMSProp optimizer.\n",
    "\n",
    "It is recommended to leave the parameters of this optimizer at their default values (except the learning rate, which can be freely tuned).\n",
    "\n",
    "Arguments\n",
    "\n",
    "1. learning_rate: float >= 0. Learning rate.\n",
    "2. rho: float >= 0."
   ]
  },
  {
   "cell_type": "code",
   "execution_count": 4,
   "metadata": {
    "colab": {},
    "colab_type": "code",
    "id": "IR-QUUrDEj0o"
   },
   "outputs": [],
   "source": [
    "from keras import optimizers\n",
    "rms=keras.optimizers.RMSprop(lr=0.001, rho=0.9)"
   ]
  },
  {
   "cell_type": "code",
   "execution_count": 5,
   "metadata": {
    "colab": {},
    "colab_type": "code",
    "id": "Lk6hNp3DEn-K"
   },
   "outputs": [
    {
     "name": "stdout",
     "output_type": "stream",
     "text": [
      "Train on 60000 samples, validate on 10000 samples\n",
      "Epoch 1/10\n",
      "60000/60000 [==============================] - 4s 63us/step - loss: 0.0110 - acc: 0.9968 - val_loss: 0.0986 - val_acc: 0.9814\n",
      "Epoch 2/10\n",
      "60000/60000 [==============================] - 4s 61us/step - loss: 0.0085 - acc: 0.9977 - val_loss: 0.1057 - val_acc: 0.9824\n",
      "Epoch 3/10\n",
      "60000/60000 [==============================] - 4s 59us/step - loss: 0.0078 - acc: 0.9978 - val_loss: 0.1108 - val_acc: 0.9834\n",
      "Epoch 4/10\n",
      "60000/60000 [==============================] - 4s 58us/step - loss: 0.0074 - acc: 0.9979 - val_loss: 0.1050 - val_acc: 0.9838\n",
      "Epoch 5/10\n",
      "60000/60000 [==============================] - 4s 62us/step - loss: 0.0066 - acc: 0.9979 - val_loss: 0.1216 - val_acc: 0.9814\n",
      "Epoch 6/10\n",
      "60000/60000 [==============================] - 3s 53us/step - loss: 0.0067 - acc: 0.9983 - val_loss: 0.1138 - val_acc: 0.9842\n",
      "Epoch 7/10\n",
      "60000/60000 [==============================] - 3s 55us/step - loss: 0.0056 - acc: 0.9983 - val_loss: 0.1303 - val_acc: 0.9821\n",
      "Epoch 8/10\n",
      "60000/60000 [==============================] - 5s 78us/step - loss: 0.0047 - acc: 0.9987 - val_loss: 0.1198 - val_acc: 0.9829\n",
      "Epoch 9/10\n",
      "60000/60000 [==============================] - 3s 57us/step - loss: 0.0046 - acc: 0.9989 - val_loss: 0.1253 - val_acc: 0.9833\n",
      "Epoch 10/10\n",
      "60000/60000 [==============================] - 3s 49us/step - loss: 0.0045 - acc: 0.9988 - val_loss: 0.1361 - val_acc: 0.9826\n",
      "Test loss: 0.13605027789387544\n",
      "Test accuracy: 0.9826\n"
     ]
    }
   ],
   "source": [
    "# Compile model using above optimizer\n",
    "model.compile(optimizer=rms,\n",
    "              loss='categorical_crossentropy',\n",
    "              metrics=['accuracy'])\n",
    "\n",
    "# Train model\n",
    "model.fit(X_train, y_train,\n",
    "          batch_size=BATCH_SIZE,\n",
    "          epochs=EPOCHS,\n",
    "          verbose=1,\n",
    "          validation_data=(X_test, y_test))\n",
    "\n",
    "score = model.evaluate(X_test, y_test, verbose=0)\n",
    "print('Test loss:', score[0])\n",
    "print('Test accuracy:', score[1])"
   ]
  },
  {
   "cell_type": "markdown",
   "metadata": {
    "colab_type": "text",
    "id": "qx-VvwfIEy5w"
   },
   "source": [
    "#Adagrad\n",
    "\n",
    "keras.optimizers.Adagrad(learning_rate=0.01)\n",
    "\n",
    "##Adagrad optimizer.\n",
    "\n",
    "Adagrad is an optimizer with parameter-specific learning rates, which are adapted relative to how frequently a parameter gets updated during training. The more updates a parameter receives, the smaller the learning rate.\n",
    "\n",
    "It is recommended to leave the parameters of this optimizer at their default values.\n",
    "\n",
    "##Arguments\n",
    "\n",
    "1. learning_rate: float >= 0. Initial learning rate."
   ]
  },
  {
   "cell_type": "code",
   "execution_count": 6,
   "metadata": {
    "colab": {},
    "colab_type": "code",
    "id": "-WjeweM7E5rL"
   },
   "outputs": [],
   "source": [
    "from keras import optimizers\n",
    "ada=keras.optimizers.Adagrad(lr=0.01)\n"
   ]
  },
  {
   "cell_type": "code",
   "execution_count": 7,
   "metadata": {
    "colab": {},
    "colab_type": "code",
    "id": "vIHdU-GnE6or"
   },
   "outputs": [
    {
     "name": "stdout",
     "output_type": "stream",
     "text": [
      "Train on 60000 samples, validate on 10000 samples\n",
      "Epoch 1/10\n",
      "60000/60000 [==============================] - 3s 57us/step - loss: 0.0239 - acc: 0.9965 - val_loss: 0.1238 - val_acc: 0.9831\n",
      "Epoch 2/10\n",
      "60000/60000 [==============================] - 3s 47us/step - loss: 7.6172e-04 - acc: 0.9999 - val_loss: 0.1117 - val_acc: 0.9849\n",
      "Epoch 3/10\n",
      "60000/60000 [==============================] - 3s 51us/step - loss: 3.1113e-04 - acc: 1.0000 - val_loss: 0.1102 - val_acc: 0.9851\n",
      "Epoch 4/10\n",
      "60000/60000 [==============================] - 3s 48us/step - loss: 2.9052e-04 - acc: 1.0000 - val_loss: 0.1104 - val_acc: 0.9851\n",
      "Epoch 5/10\n",
      "60000/60000 [==============================] - 3s 46us/step - loss: 2.8689e-04 - acc: 1.0000 - val_loss: 0.1104 - val_acc: 0.9852\n",
      "Epoch 6/10\n",
      "60000/60000 [==============================] - 3s 48us/step - loss: 2.8469e-04 - acc: 1.0000 - val_loss: 0.1105 - val_acc: 0.9852\n",
      "Epoch 7/10\n",
      "60000/60000 [==============================] - 3s 50us/step - loss: 2.8308e-04 - acc: 1.0000 - val_loss: 0.1105 - val_acc: 0.9852\n",
      "Epoch 8/10\n",
      "60000/60000 [==============================] - 3s 48us/step - loss: 2.8183e-04 - acc: 1.0000 - val_loss: 0.1106 - val_acc: 0.9852\n",
      "Epoch 9/10\n",
      "60000/60000 [==============================] - 3s 50us/step - loss: 2.8083e-04 - acc: 1.0000 - val_loss: 0.1106 - val_acc: 0.9852\n",
      "Epoch 10/10\n",
      "60000/60000 [==============================] - 3s 47us/step - loss: 2.8001e-04 - acc: 1.0000 - val_loss: 0.1107 - val_acc: 0.9853\n",
      "Test loss: 0.11066658123716133\n",
      "Test accuracy: 0.9853\n"
     ]
    }
   ],
   "source": [
    "# Compile model using above optimizer\n",
    "model.compile(optimizer=ada,\n",
    "              loss='categorical_crossentropy',\n",
    "              metrics=['accuracy'])\n",
    "\n",
    "# Train model\n",
    "model.fit(X_train, y_train,\n",
    "          batch_size=BATCH_SIZE,\n",
    "          epochs=EPOCHS,\n",
    "          verbose=1,\n",
    "          validation_data=(X_test, y_test))\n",
    "\n",
    "score = model.evaluate(X_test, y_test, verbose=0)\n",
    "print('Test loss:', score[0])\n",
    "print('Test accuracy:', score[1])"
   ]
  },
  {
   "cell_type": "markdown",
   "metadata": {
    "colab_type": "text",
    "id": "i8ubIHPIFLEA"
   },
   "source": [
    "#Adadelta\n",
    "\n",
    "keras.optimizers.Adadelta(learning_rate=1.0, rho=0.95)\n",
    "\n",
    "##Adadelta optimizer.\n",
    "\n",
    "Adadelta is a more robust extension of Adagrad that adapts learning rates based on a moving window of gradient updates, instead of accumulating all past gradients. This way, Adadelta continues learning even when many updates have been done. Compared to Adagrad, in the original version of Adadelta you don't have to set an initial learning rate. In this version, initial learning rate and decay factor can be set, as in most other Keras optimizers.\n",
    "\n",
    "It is recommended to leave the parameters of this optimizer at their default values.\n",
    "\n",
    "##Arguments\n",
    "\n",
    "1. learning_rate: float >= 0. Initial learning rate, defaults to 1. It is recommended to leave it at the default value.\n",
    "2. rho: float >= 0. Adadelta decay factor, corresponding to fraction of gradient to keep at each time step."
   ]
  },
  {
   "cell_type": "code",
   "execution_count": 8,
   "metadata": {
    "colab": {},
    "colab_type": "code",
    "id": "qhgBFpumFLWL"
   },
   "outputs": [],
   "source": [
    "from keras import optimizers\n",
    "adelta=keras.optimizers.Adadelta(lr=1.0, rho=0.95)\n",
    "\n"
   ]
  },
  {
   "cell_type": "code",
   "execution_count": 9,
   "metadata": {
    "colab": {},
    "colab_type": "code",
    "id": "l6FHDYGzFRP3"
   },
   "outputs": [
    {
     "name": "stdout",
     "output_type": "stream",
     "text": [
      "Train on 60000 samples, validate on 10000 samples\n",
      "Epoch 1/10\n",
      "60000/60000 [==============================] - 5s 90us/step - loss: 2.7931e-04 - acc: 1.0000 - val_loss: 0.1108 - val_acc: 0.9853\n",
      "Epoch 2/10\n",
      "60000/60000 [==============================] - 5s 89us/step - loss: 2.7790e-04 - acc: 1.0000 - val_loss: 0.1109 - val_acc: 0.9855\n",
      "Epoch 3/10\n",
      "60000/60000 [==============================] - 5s 80us/step - loss: 2.7691e-04 - acc: 1.0000 - val_loss: 0.1110 - val_acc: 0.9856\n",
      "Epoch 4/10\n",
      "60000/60000 [==============================] - 5s 78us/step - loss: 2.7616e-04 - acc: 1.0000 - val_loss: 0.1112 - val_acc: 0.9855\n",
      "Epoch 5/10\n",
      "60000/60000 [==============================] - 5s 79us/step - loss: 2.7554e-04 - acc: 1.0000 - val_loss: 0.1113 - val_acc: 0.9854\n",
      "Epoch 6/10\n",
      "60000/60000 [==============================] - 4s 75us/step - loss: 2.7505e-04 - acc: 1.0000 - val_loss: 0.1114 - val_acc: 0.9855\n",
      "Epoch 7/10\n",
      "60000/60000 [==============================] - 6s 103us/step - loss: 2.7463e-04 - acc: 1.0000 - val_loss: 0.1116 - val_acc: 0.9855\n",
      "Epoch 8/10\n",
      "60000/60000 [==============================] - 5s 76us/step - loss: 2.7427e-04 - acc: 1.0000 - val_loss: 0.1117 - val_acc: 0.9855\n",
      "Epoch 9/10\n",
      "60000/60000 [==============================] - 4s 71us/step - loss: 2.7397e-04 - acc: 1.0000 - val_loss: 0.1118 - val_acc: 0.9855\n",
      "Epoch 10/10\n",
      "60000/60000 [==============================] - 5s 78us/step - loss: 2.7370e-04 - acc: 1.0000 - val_loss: 0.1119 - val_acc: 0.9855\n",
      "Test loss: 0.11187784166274842\n",
      "Test accuracy: 0.9855\n"
     ]
    }
   ],
   "source": [
    "# Compile model using above optimizer\n",
    "model.compile(optimizer=adelta,\n",
    "              loss='categorical_crossentropy',\n",
    "              metrics=['accuracy'])\n",
    "\n",
    "# Train model\n",
    "model.fit(X_train, y_train,\n",
    "          batch_size=BATCH_SIZE,\n",
    "          epochs=EPOCHS,\n",
    "          verbose=1,\n",
    "          validation_data=(X_test, y_test))\n",
    "\n",
    "score = model.evaluate(X_test, y_test, verbose=0)\n",
    "print('Test loss:', score[0])\n",
    "print('Test accuracy:', score[1])"
   ]
  },
  {
   "cell_type": "markdown",
   "metadata": {
    "colab_type": "text",
    "id": "p9L-CMG6Fdfh"
   },
   "source": [
    "#Adam\n",
    "\n",
    "keras.optimizers.Adam(learning_rate=0.001, beta_1=0.9, beta_2=0.999, amsgrad=False)\n",
    "\n",
    "##Adam optimizer.\n",
    "\n",
    "Default parameters follow those provided in the original paper.\n",
    "\n",
    "##Arguments\n",
    "\n",
    "1. learning_rate: float >= 0. Learning rate.\n",
    "2. beta_1: float, 0 < beta < 1. Generally close to 1.\n",
    "3. beta_2: float, 0 < beta < 1. Generally close to 1.\n",
    "4. amsgrad: boolean. Whether to apply the AMSGrad variant of this algorithm from the paper \"On the Convergence of Adam and Beyond\"."
   ]
  },
  {
   "cell_type": "code",
   "execution_count": 10,
   "metadata": {
    "colab": {},
    "colab_type": "code",
    "id": "zJMOPew6FqqY"
   },
   "outputs": [],
   "source": [
    "from keras import optimizers\n",
    "adam=keras.optimizers.Adam(lr=0.001, beta_1=0.9, beta_2=0.999, amsgrad=False)"
   ]
  },
  {
   "cell_type": "code",
   "execution_count": 11,
   "metadata": {
    "colab": {},
    "colab_type": "code",
    "id": "VPXdzhFZFq2z"
   },
   "outputs": [
    {
     "name": "stdout",
     "output_type": "stream",
     "text": [
      "Train on 60000 samples, validate on 10000 samples\n",
      "Epoch 1/10\n",
      "60000/60000 [==============================] - 5s 84us/step - loss: 0.0187 - acc: 0.9952 - val_loss: 0.1340 - val_acc: 0.9792\n",
      "Epoch 2/10\n",
      "60000/60000 [==============================] - 7s 121us/step - loss: 0.0128 - acc: 0.9963 - val_loss: 0.1275 - val_acc: 0.9800\n",
      "Epoch 3/10\n",
      "60000/60000 [==============================] - 15s 246us/step - loss: 0.0089 - acc: 0.9974 - val_loss: 0.1443 - val_acc: 0.9802\n",
      "Epoch 4/10\n",
      "60000/60000 [==============================] - 13s 213us/step - loss: 0.0136 - acc: 0.9960 - val_loss: 0.1291 - val_acc: 0.9787\n",
      "Epoch 5/10\n",
      "60000/60000 [==============================] - 14s 225us/step - loss: 0.0111 - acc: 0.9970 - val_loss: 0.1095 - val_acc: 0.9809\n",
      "Epoch 6/10\n",
      "60000/60000 [==============================] - 15s 243us/step - loss: 0.0099 - acc: 0.9972 - val_loss: 0.1166 - val_acc: 0.9823\n",
      "Epoch 7/10\n",
      "60000/60000 [==============================] - 14s 230us/step - loss: 0.0109 - acc: 0.9970 - val_loss: 0.1041 - val_acc: 0.9816\n",
      "Epoch 8/10\n",
      "60000/60000 [==============================] - 14s 232us/step - loss: 0.0050 - acc: 0.9985 - val_loss: 0.1034 - val_acc: 0.9823\n",
      "Epoch 9/10\n",
      "60000/60000 [==============================] - 15s 258us/step - loss: 0.0075 - acc: 0.9979 - val_loss: 0.1238 - val_acc: 0.9801\n",
      "Epoch 10/10\n",
      "60000/60000 [==============================] - 15s 247us/step - loss: 0.0057 - acc: 0.9983 - val_loss: 0.1131 - val_acc: 0.9796\n",
      "Test loss: 0.11305890186663133\n",
      "Test accuracy: 0.9796\n"
     ]
    }
   ],
   "source": [
    "# Compile model using above optimizer\n",
    "model.compile(optimizer=adam,\n",
    "              loss='categorical_crossentropy',\n",
    "              metrics=['accuracy'])\n",
    "\n",
    "# Train model\n",
    "model.fit(X_train, y_train,\n",
    "          batch_size=BATCH_SIZE,\n",
    "          epochs=EPOCHS,\n",
    "          verbose=1,\n",
    "          validation_data=(X_test, y_test))\n",
    "\n",
    "score = model.evaluate(X_test, y_test, verbose=0)\n",
    "print('Test loss:', score[0])\n",
    "print('Test accuracy:', score[1])"
   ]
  },
  {
   "cell_type": "markdown",
   "metadata": {
    "colab_type": "text",
    "id": "cY_OJBuuF5Cx"
   },
   "source": [
    "#Adamax\n",
    "\n",
    "keras.optimizers.Adamax(learning_rate=0.002, beta_1=0.9, beta_2=0.999)\n",
    "\n",
    "Adamax optimizer from Adam paper's Section 7.\n",
    "\n",
    "It is a variant of Adam based on the infinity norm. Default parameters follow those provided in the paper.\n",
    "\n",
    "##Arguments\n",
    "\n",
    "1. learning_rate: float >= 0. Learning rate.\n",
    "2. beta_1: float, 0 < beta < 1. Generally close to 1.\n",
    "3. beta_2: float, 0 < beta < 1. Generally close to 1."
   ]
  },
  {
   "cell_type": "code",
   "execution_count": 12,
   "metadata": {
    "colab": {},
    "colab_type": "code",
    "id": "4gyPzlPZF_6g"
   },
   "outputs": [],
   "source": [
    "from keras import optimizers\n",
    "adamax=keras.optimizers.Adamax(lr=0.002, beta_1=0.9, beta_2=0.999)\n"
   ]
  },
  {
   "cell_type": "code",
   "execution_count": 13,
   "metadata": {
    "colab": {},
    "colab_type": "code",
    "id": "E6bN-BTcGABe"
   },
   "outputs": [
    {
     "name": "stdout",
     "output_type": "stream",
     "text": [
      "Train on 60000 samples, validate on 10000 samples\n",
      "Epoch 1/10\n",
      "60000/60000 [==============================] - 16s 260us/step - loss: 0.0013 - acc: 0.9996 - val_loss: 0.1027 - val_acc: 0.9850\n",
      "Epoch 2/10\n",
      "60000/60000 [==============================] - 14s 226us/step - loss: 3.0907e-04 - acc: 1.0000 - val_loss: 0.1021 - val_acc: 0.9852\n",
      "Epoch 3/10\n",
      "60000/60000 [==============================] - 14s 239us/step - loss: 2.8343e-04 - acc: 1.0000 - val_loss: 0.1022 - val_acc: 0.9857\n",
      "Epoch 4/10\n",
      "60000/60000 [==============================] - 13s 213us/step - loss: 2.7773e-04 - acc: 1.0000 - val_loss: 0.1026 - val_acc: 0.9861\n",
      "Epoch 5/10\n",
      "60000/60000 [==============================] - 14s 237us/step - loss: 2.7517e-04 - acc: 1.0000 - val_loss: 0.1029 - val_acc: 0.9861\n",
      "Epoch 6/10\n",
      "60000/60000 [==============================] - 13s 221us/step - loss: 2.7322e-04 - acc: 1.0000 - val_loss: 0.1034 - val_acc: 0.9860\n",
      "Epoch 7/10\n",
      "60000/60000 [==============================] - 15s 246us/step - loss: 2.7181e-04 - acc: 1.0000 - val_loss: 0.1046 - val_acc: 0.9859\n",
      "Epoch 8/10\n",
      "60000/60000 [==============================] - 14s 235us/step - loss: 2.7082e-04 - acc: 1.0000 - val_loss: 0.1055 - val_acc: 0.9861\n",
      "Epoch 9/10\n",
      "60000/60000 [==============================] - 14s 227us/step - loss: 2.7010e-04 - acc: 1.0000 - val_loss: 0.1067 - val_acc: 0.9861\n",
      "Epoch 10/10\n",
      "60000/60000 [==============================] - 14s 233us/step - loss: 2.6963e-04 - acc: 1.0000 - val_loss: 0.1082 - val_acc: 0.9860\n",
      "Test loss: 0.10816573888873832\n",
      "Test accuracy: 0.986\n"
     ]
    }
   ],
   "source": [
    "# Compile model using above optimizer\n",
    "model.compile(optimizer=adamax,\n",
    "              loss='categorical_crossentropy',\n",
    "              metrics=['accuracy'])\n",
    "\n",
    "# Train model\n",
    "model.fit(X_train, y_train,\n",
    "          batch_size=BATCH_SIZE,\n",
    "          epochs=EPOCHS,\n",
    "          verbose=1,\n",
    "          validation_data=(X_test, y_test))\n",
    "\n",
    "score = model.evaluate(X_test, y_test, verbose=0)\n",
    "print('Test loss:', score[0])\n",
    "print('Test accuracy:', score[1])"
   ]
  },
  {
   "cell_type": "markdown",
   "metadata": {
    "colab_type": "text",
    "id": "asUHZi1vGMt5"
   },
   "source": [
    "#Nadam\n",
    "\n",
    "keras.optimizers.Nadam(learning_rate=0.002, beta_1=0.9, beta_2=0.999)\n",
    "\n",
    "##Nesterov Adam optimizer.\n",
    "\n",
    "Much like Adam is essentially RMSprop with momentum, Nadam is RMSprop with Nesterov momentum.\n",
    "\n",
    "Default parameters follow those provided in the paper. It is recommended to leave the parameters of this optimizer at their default values.\n",
    "\n",
    "##Arguments\n",
    "\n",
    "1. learning_rate: float >= 0. Learning rate.\n",
    "2. beta_1: float, 0 < beta < 1. Generally close to 1.\n",
    "3. beta_2: float, 0 < beta < 1. Generally close to 1."
   ]
  },
  {
   "cell_type": "code",
   "execution_count": 14,
   "metadata": {
    "colab": {},
    "colab_type": "code",
    "id": "eNvmlsUnGTtb"
   },
   "outputs": [],
   "source": [
    "from keras import optimizers\n",
    "nadam=keras.optimizers.Nadam(lr=0.002, beta_1=0.9, beta_2=0.999)\n",
    "\n"
   ]
  },
  {
   "cell_type": "code",
   "execution_count": 15,
   "metadata": {
    "colab": {},
    "colab_type": "code",
    "id": "4qGcyfhNGUE8"
   },
   "outputs": [
    {
     "name": "stdout",
     "output_type": "stream",
     "text": [
      "Train on 60000 samples, validate on 10000 samples\n",
      "Epoch 1/10\n",
      "60000/60000 [==============================] - 18s 294us/step - loss: 0.0346 - acc: 0.9924 - val_loss: 0.1233 - val_acc: 0.9802\n",
      "Epoch 2/10\n",
      "60000/60000 [==============================] - 16s 266us/step - loss: 0.0195 - acc: 0.9946 - val_loss: 0.1469 - val_acc: 0.9771\n",
      "Epoch 3/10\n",
      "60000/60000 [==============================] - 16s 262us/step - loss: 0.0219 - acc: 0.9940 - val_loss: 0.1341 - val_acc: 0.9792\n",
      "Epoch 4/10\n",
      "60000/60000 [==============================] - 16s 262us/step - loss: 0.0191 - acc: 0.9947 - val_loss: 0.1268 - val_acc: 0.9802\n",
      "Epoch 5/10\n",
      "60000/60000 [==============================] - 14s 238us/step - loss: 0.0172 - acc: 0.9957 - val_loss: 0.1284 - val_acc: 0.9799\n",
      "Epoch 6/10\n",
      "60000/60000 [==============================] - 14s 228us/step - loss: 0.0166 - acc: 0.9951 - val_loss: 0.1287 - val_acc: 0.9789\n",
      "Epoch 7/10\n",
      "60000/60000 [==============================] - 13s 224us/step - loss: 0.0197 - acc: 0.9947 - val_loss: 0.1243 - val_acc: 0.9783\n",
      "Epoch 8/10\n",
      "60000/60000 [==============================] - 14s 239us/step - loss: 0.0196 - acc: 0.9941 - val_loss: 0.1140 - val_acc: 0.9809\n",
      "Epoch 9/10\n",
      "60000/60000 [==============================] - 13s 224us/step - loss: 0.0111 - acc: 0.9965 - val_loss: 0.1149 - val_acc: 0.9813\n",
      "Epoch 10/10\n",
      "60000/60000 [==============================] - 14s 230us/step - loss: 0.0156 - acc: 0.9960 - val_loss: 0.1468 - val_acc: 0.9772\n",
      "Test loss: 0.146813367702038\n",
      "Test accuracy: 0.9772\n"
     ]
    }
   ],
   "source": [
    "# Compile model using above optimizer\n",
    "model.compile(optimizer=nadam,\n",
    "              loss='categorical_crossentropy',\n",
    "              metrics=['accuracy'])\n",
    "\n",
    "# Train model\n",
    "model.fit(X_train, y_train,\n",
    "          batch_size=BATCH_SIZE,\n",
    "          epochs=EPOCHS,\n",
    "          verbose=1,\n",
    "          validation_data=(X_test, y_test))\n",
    "\n",
    "score = model.evaluate(X_test, y_test, verbose=0)\n",
    "print('Test loss:', score[0])\n",
    "print('Test accuracy:', score[1])"
   ]
  },
  {
   "cell_type": "markdown",
   "metadata": {
    "colab_type": "text",
    "id": "UR2xxjsjGn8Q"
   },
   "source": [
    "#Thank you for completing the notebook"
   ]
  }
 ],
 "metadata": {
  "accelerator": "TPU",
  "colab": {
   "collapsed_sections": [],
   "name": "Keras-Optimizer.ipynb",
   "private_outputs": true,
   "provenance": []
  },
  "kernelspec": {
   "display_name": "Python 3",
   "language": "python",
   "name": "python3"
  },
  "language_info": {
   "codemirror_mode": {
    "name": "ipython",
    "version": 3
   },
   "file_extension": ".py",
   "mimetype": "text/x-python",
   "name": "python",
   "nbconvert_exporter": "python",
   "pygments_lexer": "ipython3",
   "version": "3.7.4"
  }
 },
 "nbformat": 4,
 "nbformat_minor": 1
}
